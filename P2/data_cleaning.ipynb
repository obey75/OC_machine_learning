{
 "cells": [
  {
   "cell_type": "markdown",
   "metadata": {},
   "source": [
    "# Data cleaning"
   ]
  },
  {
   "cell_type": "markdown",
   "metadata": {},
   "source": [
    "Goal : develop an application to suggest a better product according to the nutrition grade.\n",
    "\n",
    "We will focus on product sold in France."
   ]
  },
  {
   "cell_type": "markdown",
   "metadata": {},
   "source": [
    "## Imports"
   ]
  },
  {
   "cell_type": "code",
   "execution_count": 1,
   "metadata": {},
   "outputs": [],
   "source": [
    "import pandas as pd\n",
    "import matplotlib.pyplot as plt"
   ]
  },
  {
   "cell_type": "markdown",
   "metadata": {},
   "source": [
    "Utils"
   ]
  },
  {
   "cell_type": "code",
   "execution_count": 2,
   "metadata": {},
   "outputs": [],
   "source": [
    "def nb_col_rows(df):\n",
    "    N = len(df)\n",
    "    variables = df.columns\n",
    "    nb_variables = len(variables)\n",
    "    print(f'N: {N}', f'Number of variables: {nb_variables}', sep='\\t')\n",
    "    return N, nb_variables\n",
    "\n",
    "def missing_percentage(df, variable):\n",
    "    return len(df[df[variable].isna()])/len(df)\n",
    "\n",
    "def completion(df, variable):\n",
    "    res = missing_percentage(df, variable)\n",
    "    print(f'Completion of variable \\'{variable}\\': {round((1-res)*100, 2)}%')\n",
    "\n",
    "def is_number(df, variable):\n",
    "    return df.dtypes[variable] == 'float'\n",
    "\n",
    "def value_counts(df, variable):\n",
    "    return df[variable].value_counts()\n",
    "\n",
    "def missing_values(df):\n",
    "    nb_na = df.isnull().sum()\n",
    "    return nb_na[nb_na>0]\n",
    "\n",
    "def box_plot(df, variable):\n",
    "    df.boxplot(column=variable, vert=False)\n",
    "    plt.show()\n",
    "\n",
    "def pie_chart(df, variable):\n",
    "    df[variable].value_counts(normalize=True).plot(kind='pie')\n",
    "    plt.axis('equal') \n",
    "    plt.show()\n",
    "\n",
    "def hist(df, variable):\n",
    "    df[variable].hist(density=True)\n",
    "    plt.show()"
   ]
  },
  {
   "cell_type": "code",
   "execution_count": 3,
   "metadata": {},
   "outputs": [
    {
     "name": "stderr",
     "output_type": "stream",
     "text": [
      "/tmp/ipykernel_3888/3047720778.py:1: DtypeWarning: Columns (0,3,5,19,20,24,25,26,27,28,35,36,37,38,39,48) have mixed types. Specify dtype option on import or set low_memory=False.\n",
      "  df = pd.read_csv('data/products.csv', sep='\\t')\n"
     ]
    }
   ],
   "source": [
    "df = pd.read_csv('data/products.csv', sep='\\t')"
   ]
  },
  {
   "cell_type": "markdown",
   "metadata": {},
   "source": [
    "## First sight"
   ]
  },
  {
   "cell_type": "code",
   "execution_count": 4,
   "metadata": {},
   "outputs": [
    {
     "data": {
      "text/html": [
       "<div>\n",
       "<style scoped>\n",
       "    .dataframe tbody tr th:only-of-type {\n",
       "        vertical-align: middle;\n",
       "    }\n",
       "\n",
       "    .dataframe tbody tr th {\n",
       "        vertical-align: top;\n",
       "    }\n",
       "\n",
       "    .dataframe thead th {\n",
       "        text-align: right;\n",
       "    }\n",
       "</style>\n",
       "<table border=\"1\" class=\"dataframe\">\n",
       "  <thead>\n",
       "    <tr style=\"text-align: right;\">\n",
       "      <th></th>\n",
       "      <th>code</th>\n",
       "      <th>url</th>\n",
       "      <th>creator</th>\n",
       "      <th>created_t</th>\n",
       "      <th>created_datetime</th>\n",
       "      <th>last_modified_t</th>\n",
       "      <th>last_modified_datetime</th>\n",
       "      <th>product_name</th>\n",
       "      <th>generic_name</th>\n",
       "      <th>quantity</th>\n",
       "      <th>...</th>\n",
       "      <th>ph_100g</th>\n",
       "      <th>fruits-vegetables-nuts_100g</th>\n",
       "      <th>collagen-meat-protein-ratio_100g</th>\n",
       "      <th>cocoa_100g</th>\n",
       "      <th>chlorophyl_100g</th>\n",
       "      <th>carbon-footprint_100g</th>\n",
       "      <th>nutrition-score-fr_100g</th>\n",
       "      <th>nutrition-score-uk_100g</th>\n",
       "      <th>glycemic-index_100g</th>\n",
       "      <th>water-hardness_100g</th>\n",
       "    </tr>\n",
       "  </thead>\n",
       "  <tbody>\n",
       "    <tr>\n",
       "      <th>0</th>\n",
       "      <td>3087</td>\n",
       "      <td>http://world-fr.openfoodfacts.org/produit/0000...</td>\n",
       "      <td>openfoodfacts-contributors</td>\n",
       "      <td>1474103866</td>\n",
       "      <td>2016-09-17T09:17:46Z</td>\n",
       "      <td>1474103893</td>\n",
       "      <td>2016-09-17T09:18:13Z</td>\n",
       "      <td>Farine de blé noir</td>\n",
       "      <td>NaN</td>\n",
       "      <td>1kg</td>\n",
       "      <td>...</td>\n",
       "      <td>NaN</td>\n",
       "      <td>NaN</td>\n",
       "      <td>NaN</td>\n",
       "      <td>NaN</td>\n",
       "      <td>NaN</td>\n",
       "      <td>NaN</td>\n",
       "      <td>NaN</td>\n",
       "      <td>NaN</td>\n",
       "      <td>NaN</td>\n",
       "      <td>NaN</td>\n",
       "    </tr>\n",
       "    <tr>\n",
       "      <th>1</th>\n",
       "      <td>4530</td>\n",
       "      <td>http://world-fr.openfoodfacts.org/produit/0000...</td>\n",
       "      <td>usda-ndb-import</td>\n",
       "      <td>1489069957</td>\n",
       "      <td>2017-03-09T14:32:37Z</td>\n",
       "      <td>1489069957</td>\n",
       "      <td>2017-03-09T14:32:37Z</td>\n",
       "      <td>Banana Chips Sweetened (Whole)</td>\n",
       "      <td>NaN</td>\n",
       "      <td>NaN</td>\n",
       "      <td>...</td>\n",
       "      <td>NaN</td>\n",
       "      <td>NaN</td>\n",
       "      <td>NaN</td>\n",
       "      <td>NaN</td>\n",
       "      <td>NaN</td>\n",
       "      <td>NaN</td>\n",
       "      <td>14.0</td>\n",
       "      <td>14.0</td>\n",
       "      <td>NaN</td>\n",
       "      <td>NaN</td>\n",
       "    </tr>\n",
       "    <tr>\n",
       "      <th>2</th>\n",
       "      <td>4559</td>\n",
       "      <td>http://world-fr.openfoodfacts.org/produit/0000...</td>\n",
       "      <td>usda-ndb-import</td>\n",
       "      <td>1489069957</td>\n",
       "      <td>2017-03-09T14:32:37Z</td>\n",
       "      <td>1489069957</td>\n",
       "      <td>2017-03-09T14:32:37Z</td>\n",
       "      <td>Peanuts</td>\n",
       "      <td>NaN</td>\n",
       "      <td>NaN</td>\n",
       "      <td>...</td>\n",
       "      <td>NaN</td>\n",
       "      <td>NaN</td>\n",
       "      <td>NaN</td>\n",
       "      <td>NaN</td>\n",
       "      <td>NaN</td>\n",
       "      <td>NaN</td>\n",
       "      <td>0.0</td>\n",
       "      <td>0.0</td>\n",
       "      <td>NaN</td>\n",
       "      <td>NaN</td>\n",
       "    </tr>\n",
       "    <tr>\n",
       "      <th>3</th>\n",
       "      <td>16087</td>\n",
       "      <td>http://world-fr.openfoodfacts.org/produit/0000...</td>\n",
       "      <td>usda-ndb-import</td>\n",
       "      <td>1489055731</td>\n",
       "      <td>2017-03-09T10:35:31Z</td>\n",
       "      <td>1489055731</td>\n",
       "      <td>2017-03-09T10:35:31Z</td>\n",
       "      <td>Organic Salted Nut Mix</td>\n",
       "      <td>NaN</td>\n",
       "      <td>NaN</td>\n",
       "      <td>...</td>\n",
       "      <td>NaN</td>\n",
       "      <td>NaN</td>\n",
       "      <td>NaN</td>\n",
       "      <td>NaN</td>\n",
       "      <td>NaN</td>\n",
       "      <td>NaN</td>\n",
       "      <td>12.0</td>\n",
       "      <td>12.0</td>\n",
       "      <td>NaN</td>\n",
       "      <td>NaN</td>\n",
       "    </tr>\n",
       "    <tr>\n",
       "      <th>4</th>\n",
       "      <td>16094</td>\n",
       "      <td>http://world-fr.openfoodfacts.org/produit/0000...</td>\n",
       "      <td>usda-ndb-import</td>\n",
       "      <td>1489055653</td>\n",
       "      <td>2017-03-09T10:34:13Z</td>\n",
       "      <td>1489055653</td>\n",
       "      <td>2017-03-09T10:34:13Z</td>\n",
       "      <td>Organic Polenta</td>\n",
       "      <td>NaN</td>\n",
       "      <td>NaN</td>\n",
       "      <td>...</td>\n",
       "      <td>NaN</td>\n",
       "      <td>NaN</td>\n",
       "      <td>NaN</td>\n",
       "      <td>NaN</td>\n",
       "      <td>NaN</td>\n",
       "      <td>NaN</td>\n",
       "      <td>NaN</td>\n",
       "      <td>NaN</td>\n",
       "      <td>NaN</td>\n",
       "      <td>NaN</td>\n",
       "    </tr>\n",
       "  </tbody>\n",
       "</table>\n",
       "<p>5 rows × 162 columns</p>\n",
       "</div>"
      ],
      "text/plain": [
       "    code                                                url  \\\n",
       "0   3087  http://world-fr.openfoodfacts.org/produit/0000...   \n",
       "1   4530  http://world-fr.openfoodfacts.org/produit/0000...   \n",
       "2   4559  http://world-fr.openfoodfacts.org/produit/0000...   \n",
       "3  16087  http://world-fr.openfoodfacts.org/produit/0000...   \n",
       "4  16094  http://world-fr.openfoodfacts.org/produit/0000...   \n",
       "\n",
       "                      creator   created_t      created_datetime  \\\n",
       "0  openfoodfacts-contributors  1474103866  2016-09-17T09:17:46Z   \n",
       "1             usda-ndb-import  1489069957  2017-03-09T14:32:37Z   \n",
       "2             usda-ndb-import  1489069957  2017-03-09T14:32:37Z   \n",
       "3             usda-ndb-import  1489055731  2017-03-09T10:35:31Z   \n",
       "4             usda-ndb-import  1489055653  2017-03-09T10:34:13Z   \n",
       "\n",
       "  last_modified_t last_modified_datetime                    product_name  \\\n",
       "0      1474103893   2016-09-17T09:18:13Z              Farine de blé noir   \n",
       "1      1489069957   2017-03-09T14:32:37Z  Banana Chips Sweetened (Whole)   \n",
       "2      1489069957   2017-03-09T14:32:37Z                         Peanuts   \n",
       "3      1489055731   2017-03-09T10:35:31Z          Organic Salted Nut Mix   \n",
       "4      1489055653   2017-03-09T10:34:13Z                 Organic Polenta   \n",
       "\n",
       "  generic_name quantity  ... ph_100g fruits-vegetables-nuts_100g  \\\n",
       "0          NaN      1kg  ...     NaN                         NaN   \n",
       "1          NaN      NaN  ...     NaN                         NaN   \n",
       "2          NaN      NaN  ...     NaN                         NaN   \n",
       "3          NaN      NaN  ...     NaN                         NaN   \n",
       "4          NaN      NaN  ...     NaN                         NaN   \n",
       "\n",
       "  collagen-meat-protein-ratio_100g cocoa_100g chlorophyl_100g  \\\n",
       "0                              NaN        NaN             NaN   \n",
       "1                              NaN        NaN             NaN   \n",
       "2                              NaN        NaN             NaN   \n",
       "3                              NaN        NaN             NaN   \n",
       "4                              NaN        NaN             NaN   \n",
       "\n",
       "  carbon-footprint_100g nutrition-score-fr_100g nutrition-score-uk_100g  \\\n",
       "0                   NaN                     NaN                     NaN   \n",
       "1                   NaN                    14.0                    14.0   \n",
       "2                   NaN                     0.0                     0.0   \n",
       "3                   NaN                    12.0                    12.0   \n",
       "4                   NaN                     NaN                     NaN   \n",
       "\n",
       "  glycemic-index_100g water-hardness_100g  \n",
       "0                 NaN                 NaN  \n",
       "1                 NaN                 NaN  \n",
       "2                 NaN                 NaN  \n",
       "3                 NaN                 NaN  \n",
       "4                 NaN                 NaN  \n",
       "\n",
       "[5 rows x 162 columns]"
      ]
     },
     "execution_count": 4,
     "metadata": {},
     "output_type": "execute_result"
    }
   ],
   "source": [
    "df.head()"
   ]
  },
  {
   "cell_type": "code",
   "execution_count": 5,
   "metadata": {},
   "outputs": [
    {
     "name": "stdout",
     "output_type": "stream",
     "text": [
      "N: 320772\tNumber of variables: 162\n"
     ]
    },
    {
     "data": {
      "text/plain": [
       "(320772, 162)"
      ]
     },
     "execution_count": 5,
     "metadata": {},
     "output_type": "execute_result"
    }
   ],
   "source": [
    "nb_col_rows(df)"
   ]
  },
  {
   "cell_type": "code",
   "execution_count": 6,
   "metadata": {},
   "outputs": [
    {
     "data": {
      "text/plain": [
       "['code',\n",
       " 'url',\n",
       " 'creator',\n",
       " 'created_t',\n",
       " 'created_datetime',\n",
       " 'last_modified_t',\n",
       " 'last_modified_datetime',\n",
       " 'product_name',\n",
       " 'generic_name',\n",
       " 'quantity',\n",
       " 'packaging',\n",
       " 'packaging_tags',\n",
       " 'brands',\n",
       " 'brands_tags',\n",
       " 'categories',\n",
       " 'categories_tags',\n",
       " 'categories_fr',\n",
       " 'origins',\n",
       " 'origins_tags',\n",
       " 'manufacturing_places',\n",
       " 'manufacturing_places_tags',\n",
       " 'labels',\n",
       " 'labels_tags',\n",
       " 'labels_fr',\n",
       " 'emb_codes',\n",
       " 'emb_codes_tags',\n",
       " 'first_packaging_code_geo',\n",
       " 'cities',\n",
       " 'cities_tags',\n",
       " 'purchase_places',\n",
       " 'stores',\n",
       " 'countries',\n",
       " 'countries_tags',\n",
       " 'countries_fr',\n",
       " 'ingredients_text',\n",
       " 'allergens',\n",
       " 'allergens_fr',\n",
       " 'traces',\n",
       " 'traces_tags',\n",
       " 'traces_fr',\n",
       " 'serving_size',\n",
       " 'no_nutriments',\n",
       " 'additives_n',\n",
       " 'additives',\n",
       " 'additives_tags',\n",
       " 'additives_fr',\n",
       " 'ingredients_from_palm_oil_n',\n",
       " 'ingredients_from_palm_oil',\n",
       " 'ingredients_from_palm_oil_tags',\n",
       " 'ingredients_that_may_be_from_palm_oil_n',\n",
       " 'ingredients_that_may_be_from_palm_oil',\n",
       " 'ingredients_that_may_be_from_palm_oil_tags',\n",
       " 'nutrition_grade_uk',\n",
       " 'nutrition_grade_fr',\n",
       " 'pnns_groups_1',\n",
       " 'pnns_groups_2',\n",
       " 'states',\n",
       " 'states_tags',\n",
       " 'states_fr',\n",
       " 'main_category',\n",
       " 'main_category_fr',\n",
       " 'image_url',\n",
       " 'image_small_url',\n",
       " 'energy_100g',\n",
       " 'energy-from-fat_100g',\n",
       " 'fat_100g',\n",
       " 'saturated-fat_100g',\n",
       " 'butyric-acid_100g',\n",
       " 'caproic-acid_100g',\n",
       " 'caprylic-acid_100g',\n",
       " 'capric-acid_100g',\n",
       " 'lauric-acid_100g',\n",
       " 'myristic-acid_100g',\n",
       " 'palmitic-acid_100g',\n",
       " 'stearic-acid_100g',\n",
       " 'arachidic-acid_100g',\n",
       " 'behenic-acid_100g',\n",
       " 'lignoceric-acid_100g',\n",
       " 'cerotic-acid_100g',\n",
       " 'montanic-acid_100g',\n",
       " 'melissic-acid_100g',\n",
       " 'monounsaturated-fat_100g',\n",
       " 'polyunsaturated-fat_100g',\n",
       " 'omega-3-fat_100g',\n",
       " 'alpha-linolenic-acid_100g',\n",
       " 'eicosapentaenoic-acid_100g',\n",
       " 'docosahexaenoic-acid_100g',\n",
       " 'omega-6-fat_100g',\n",
       " 'linoleic-acid_100g',\n",
       " 'arachidonic-acid_100g',\n",
       " 'gamma-linolenic-acid_100g',\n",
       " 'dihomo-gamma-linolenic-acid_100g',\n",
       " 'omega-9-fat_100g',\n",
       " 'oleic-acid_100g',\n",
       " 'elaidic-acid_100g',\n",
       " 'gondoic-acid_100g',\n",
       " 'mead-acid_100g',\n",
       " 'erucic-acid_100g',\n",
       " 'nervonic-acid_100g',\n",
       " 'trans-fat_100g',\n",
       " 'cholesterol_100g',\n",
       " 'carbohydrates_100g',\n",
       " 'sugars_100g',\n",
       " 'sucrose_100g',\n",
       " 'glucose_100g',\n",
       " 'fructose_100g',\n",
       " 'lactose_100g',\n",
       " 'maltose_100g',\n",
       " 'maltodextrins_100g',\n",
       " 'starch_100g',\n",
       " 'polyols_100g',\n",
       " 'fiber_100g',\n",
       " 'proteins_100g',\n",
       " 'casein_100g',\n",
       " 'serum-proteins_100g',\n",
       " 'nucleotides_100g',\n",
       " 'salt_100g',\n",
       " 'sodium_100g',\n",
       " 'alcohol_100g',\n",
       " 'vitamin-a_100g',\n",
       " 'beta-carotene_100g',\n",
       " 'vitamin-d_100g',\n",
       " 'vitamin-e_100g',\n",
       " 'vitamin-k_100g',\n",
       " 'vitamin-c_100g',\n",
       " 'vitamin-b1_100g',\n",
       " 'vitamin-b2_100g',\n",
       " 'vitamin-pp_100g',\n",
       " 'vitamin-b6_100g',\n",
       " 'vitamin-b9_100g',\n",
       " 'folates_100g',\n",
       " 'vitamin-b12_100g',\n",
       " 'biotin_100g',\n",
       " 'pantothenic-acid_100g',\n",
       " 'silica_100g',\n",
       " 'bicarbonate_100g',\n",
       " 'potassium_100g',\n",
       " 'chloride_100g',\n",
       " 'calcium_100g',\n",
       " 'phosphorus_100g',\n",
       " 'iron_100g',\n",
       " 'magnesium_100g',\n",
       " 'zinc_100g',\n",
       " 'copper_100g',\n",
       " 'manganese_100g',\n",
       " 'fluoride_100g',\n",
       " 'selenium_100g',\n",
       " 'chromium_100g',\n",
       " 'molybdenum_100g',\n",
       " 'iodine_100g',\n",
       " 'caffeine_100g',\n",
       " 'taurine_100g',\n",
       " 'ph_100g',\n",
       " 'fruits-vegetables-nuts_100g',\n",
       " 'collagen-meat-protein-ratio_100g',\n",
       " 'cocoa_100g',\n",
       " 'chlorophyl_100g',\n",
       " 'carbon-footprint_100g',\n",
       " 'nutrition-score-fr_100g',\n",
       " 'nutrition-score-uk_100g',\n",
       " 'glycemic-index_100g',\n",
       " 'water-hardness_100g']"
      ]
     },
     "execution_count": 6,
     "metadata": {},
     "output_type": "execute_result"
    }
   ],
   "source": [
    "variables = df.columns\n",
    "list(variables)"
   ]
  },
  {
   "cell_type": "markdown",
   "metadata": {},
   "source": [
    "## Data preprocessing"
   ]
  },
  {
   "cell_type": "markdown",
   "metadata": {},
   "source": [
    "### Variable selection"
   ]
  },
  {
   "cell_type": "markdown",
   "metadata": {},
   "source": [
    "Keeping only products sold in France"
   ]
  },
  {
   "cell_type": "code",
   "execution_count": 7,
   "metadata": {},
   "outputs": [
    {
     "name": "stdout",
     "output_type": "stream",
     "text": [
      "Completion of variable 'countries_fr': 99.91%\n"
     ]
    }
   ],
   "source": [
    "res = completion(df, 'countries_fr')"
   ]
  },
  {
   "cell_type": "code",
   "execution_count": 8,
   "metadata": {},
   "outputs": [
    {
     "name": "stdout",
     "output_type": "stream",
     "text": [
      "N: 98440\tNumber of variables: 162\n"
     ]
    },
    {
     "data": {
      "text/plain": [
       "(98440, 162)"
      ]
     },
     "execution_count": 8,
     "metadata": {},
     "output_type": "execute_result"
    }
   ],
   "source": [
    "df_fr = df[df['countries_fr'].fillna('').str.contains('France')]\n",
    "nb_col_rows(df_fr)"
   ]
  },
  {
   "cell_type": "markdown",
   "metadata": {},
   "source": [
    "Target variable : 'nutrition_grade_df'"
   ]
  },
  {
   "cell_type": "code",
   "execution_count": 9,
   "metadata": {},
   "outputs": [
    {
     "name": "stdout",
     "output_type": "stream",
     "text": [
      "Target variable: 'nutrition_grade_fr'\n",
      "Completion of variable 'nutrition_grade_fr': 68.96%\n"
     ]
    }
   ],
   "source": [
    "print(f'Target variable: \\'nutrition_grade_fr\\'')\n",
    "res = completion(df, 'nutrition_grade_fr')"
   ]
  },
  {
   "cell_type": "code",
   "execution_count": 10,
   "metadata": {},
   "outputs": [
    {
     "name": "stdout",
     "output_type": "stream",
     "text": [
      "N: 61415\tNumber of variables: 162\n"
     ]
    },
    {
     "data": {
      "text/plain": [
       "(61415, 162)"
      ]
     },
     "execution_count": 10,
     "metadata": {},
     "output_type": "execute_result"
    }
   ],
   "source": [
    "df_fr = df_fr[~df_fr['nutrition_grade_fr'].isna()]\n",
    "df_fr = df_fr[~df_fr['code'].isna()]\n",
    "nb_col_rows(df_fr)"
   ]
  },
  {
   "cell_type": "markdown",
   "metadata": {},
   "source": [
    "Keeping relevant and complete variables (up to 50%)"
   ]
  },
  {
   "cell_type": "code",
   "execution_count": 11,
   "metadata": {},
   "outputs": [
    {
     "name": "stdout",
     "output_type": "stream",
     "text": [
      "Completion of variable 'code': 100.0%\n",
      "Completion of variable 'url': 100.0%\n",
      "Completion of variable 'creator': 100.0%\n",
      "Completion of variable 'created_t': 100.0%\n",
      "Completion of variable 'created_datetime': 100.0%\n",
      "Completion of variable 'last_modified_t': 100.0%\n",
      "Completion of variable 'last_modified_datetime': 100.0%\n",
      "Completion of variable 'product_name': 99.44%\n",
      "Completion of variable 'generic_name': 48.3%\n",
      "Completion of variable 'quantity': 74.24%\n",
      "Completion of variable 'packaging': 68.39%\n",
      "Completion of variable 'packaging_tags': 68.39%\n",
      "Completion of variable 'brands': 99.44%\n",
      "Completion of variable 'brands_tags': 99.44%\n",
      "Completion of variable 'categories': 72.45%\n",
      "Completion of variable 'categories_tags': 72.45%\n",
      "Completion of variable 'categories_fr': 72.45%\n",
      "Completion of variable 'origins': 16.61%\n",
      "Completion of variable 'origins_tags': 16.6%\n",
      "Completion of variable 'manufacturing_places': 32.29%\n",
      "Completion of variable 'manufacturing_places_tags': 32.29%\n",
      "Completion of variable 'labels': 44.69%\n",
      "Completion of variable 'labels_tags': 44.75%\n",
      "Completion of variable 'labels_fr': 44.75%\n",
      "Completion of variable 'emb_codes': 29.18%\n",
      "Completion of variable 'emb_codes_tags': 29.18%\n",
      "Completion of variable 'first_packaging_code_geo': 23.56%\n",
      "Completion of variable 'cities': 0.0%\n",
      "Completion of variable 'cities_tags': 25.4%\n",
      "Completion of variable 'purchase_places': 53.48%\n",
      "Completion of variable 'stores': 48.08%\n",
      "Completion of variable 'countries': 100.0%\n",
      "Completion of variable 'countries_tags': 100.0%\n",
      "Completion of variable 'countries_fr': 100.0%\n",
      "Completion of variable 'ingredients_text': 66.69%\n",
      "Completion of variable 'allergens': 31.98%\n",
      "Completion of variable 'allergens_fr': 0.0%\n",
      "Completion of variable 'traces': 26.5%\n",
      "Completion of variable 'traces_tags': 26.5%\n",
      "Completion of variable 'traces_fr': 26.5%\n",
      "Completion of variable 'serving_size': 39.61%\n",
      "Completion of variable 'no_nutriments': 0.0%\n",
      "Completion of variable 'additives_n': 66.69%\n",
      "Completion of variable 'additives': 66.68%\n",
      "Completion of variable 'additives_tags': 41.62%\n",
      "Completion of variable 'additives_fr': 41.62%\n",
      "Completion of variable 'ingredients_from_palm_oil_n': 66.69%\n",
      "Completion of variable 'ingredients_from_palm_oil': 0.0%\n",
      "Completion of variable 'ingredients_from_palm_oil_tags': 5.22%\n",
      "Completion of variable 'ingredients_that_may_be_from_palm_oil_n': 66.69%\n",
      "Completion of variable 'ingredients_that_may_be_from_palm_oil': 0.0%\n",
      "Completion of variable 'ingredients_that_may_be_from_palm_oil_tags': 8.68%\n",
      "Completion of variable 'nutrition_grade_uk': 0.0%\n",
      "Completion of variable 'nutrition_grade_fr': 100.0%\n",
      "Completion of variable 'pnns_groups_1': 76.9%\n",
      "Completion of variable 'pnns_groups_2': 77.05%\n",
      "Completion of variable 'states': 100.0%\n",
      "Completion of variable 'states_tags': 100.0%\n",
      "Completion of variable 'states_fr': 100.0%\n",
      "Completion of variable 'main_category': 72.45%\n",
      "Completion of variable 'main_category_fr': 72.45%\n",
      "Completion of variable 'image_url': 55.45%\n",
      "Completion of variable 'image_small_url': 55.45%\n",
      "Completion of variable 'energy_100g': 99.87%\n",
      "Completion of variable 'energy-from-fat_100g': 0.05%\n",
      "Completion of variable 'fat_100g': 71.98%\n",
      "Completion of variable 'saturated-fat_100g': 99.87%\n",
      "Completion of variable 'butyric-acid_100g': 0.0%\n",
      "Completion of variable 'caproic-acid_100g': 0.0%\n",
      "Completion of variable 'caprylic-acid_100g': 0.0%\n",
      "Completion of variable 'capric-acid_100g': 0.0%\n",
      "Completion of variable 'lauric-acid_100g': 0.0%\n",
      "Completion of variable 'myristic-acid_100g': 0.0%\n",
      "Completion of variable 'palmitic-acid_100g': 0.0%\n",
      "Completion of variable 'stearic-acid_100g': 0.0%\n",
      "Completion of variable 'arachidic-acid_100g': 0.0%\n",
      "Completion of variable 'behenic-acid_100g': 0.0%\n",
      "Completion of variable 'lignoceric-acid_100g': 0.0%\n",
      "Completion of variable 'cerotic-acid_100g': 0.0%\n",
      "Completion of variable 'montanic-acid_100g': 0.0%\n",
      "Completion of variable 'melissic-acid_100g': 0.0%\n",
      "Completion of variable 'monounsaturated-fat_100g': 1.8%\n",
      "Completion of variable 'polyunsaturated-fat_100g': 1.83%\n",
      "Completion of variable 'omega-3-fat_100g': 0.94%\n",
      "Completion of variable 'alpha-linolenic-acid_100g': 0.27%\n",
      "Completion of variable 'eicosapentaenoic-acid_100g': 0.03%\n",
      "Completion of variable 'docosahexaenoic-acid_100g': 0.06%\n",
      "Completion of variable 'omega-6-fat_100g': 0.19%\n",
      "Completion of variable 'linoleic-acid_100g': 0.22%\n",
      "Completion of variable 'arachidonic-acid_100g': 0.01%\n",
      "Completion of variable 'gamma-linolenic-acid_100g': 0.0%\n",
      "Completion of variable 'dihomo-gamma-linolenic-acid_100g': 0.0%\n",
      "Completion of variable 'omega-9-fat_100g': 0.03%\n",
      "Completion of variable 'oleic-acid_100g': 0.01%\n",
      "Completion of variable 'elaidic-acid_100g': 0.0%\n",
      "Completion of variable 'gondoic-acid_100g': 0.0%\n",
      "Completion of variable 'mead-acid_100g': 0.0%\n",
      "Completion of variable 'erucic-acid_100g': 0.0%\n",
      "Completion of variable 'nervonic-acid_100g': 0.0%\n",
      "Completion of variable 'trans-fat_100g': 0.59%\n",
      "Completion of variable 'cholesterol_100g': 0.6%\n",
      "Completion of variable 'carbohydrates_100g': 71.89%\n",
      "Completion of variable 'sugars_100g': 99.87%\n",
      "Completion of variable 'sucrose_100g': 0.02%\n",
      "Completion of variable 'glucose_100g': 0.0%\n",
      "Completion of variable 'fructose_100g': 0.03%\n",
      "Completion of variable 'lactose_100g': 0.22%\n",
      "Completion of variable 'maltose_100g': 0.0%\n",
      "Completion of variable 'maltodextrins_100g': 0.01%\n",
      "Completion of variable 'starch_100g': 0.27%\n",
      "Completion of variable 'polyols_100g': 0.48%\n",
      "Completion of variable 'fiber_100g': 72.93%\n",
      "Completion of variable 'proteins_100g': 99.87%\n",
      "Completion of variable 'casein_100g': 0.04%\n",
      "Completion of variable 'serum-proteins_100g': 0.02%\n",
      "Completion of variable 'nucleotides_100g': 0.01%\n",
      "Completion of variable 'salt_100g': 99.87%\n",
      "Completion of variable 'sodium_100g': 99.87%\n",
      "Completion of variable 'alcohol_100g': 1.02%\n",
      "Completion of variable 'vitamin-a_100g': 0.9%\n",
      "Completion of variable 'beta-carotene_100g': 0.01%\n",
      "Completion of variable 'vitamin-d_100g': 0.92%\n",
      "Completion of variable 'vitamin-e_100g': 1.19%\n",
      "Completion of variable 'vitamin-k_100g': 0.1%\n",
      "Completion of variable 'vitamin-c_100g': 1.95%\n",
      "Completion of variable 'vitamin-b1_100g': 1.32%\n",
      "Completion of variable 'vitamin-b2_100g': 0.99%\n",
      "Completion of variable 'vitamin-pp_100g': 1.07%\n",
      "Completion of variable 'vitamin-b6_100g': 1.14%\n",
      "Completion of variable 'vitamin-b9_100g': 1.09%\n",
      "Completion of variable 'folates_100g': 0.0%\n",
      "Completion of variable 'vitamin-b12_100g': 0.83%\n",
      "Completion of variable 'biotin_100g': 0.28%\n",
      "Completion of variable 'pantothenic-acid_100g': 0.65%\n",
      "Completion of variable 'silica_100g': 0.01%\n",
      "Completion of variable 'bicarbonate_100g': 0.02%\n",
      "Completion of variable 'potassium_100g': 0.4%\n",
      "Completion of variable 'chloride_100g': 0.09%\n",
      "Completion of variable 'calcium_100g': 3.27%\n",
      "Completion of variable 'phosphorus_100g': 0.82%\n",
      "Completion of variable 'iron_100g': 1.77%\n",
      "Completion of variable 'magnesium_100g': 1.09%\n",
      "Completion of variable 'zinc_100g': 0.35%\n",
      "Completion of variable 'copper_100g': 0.17%\n",
      "Completion of variable 'manganese_100g': 0.16%\n",
      "Completion of variable 'fluoride_100g': 0.07%\n",
      "Completion of variable 'selenium_100g': 0.13%\n",
      "Completion of variable 'chromium_100g': 0.01%\n",
      "Completion of variable 'molybdenum_100g': 0.0%\n",
      "Completion of variable 'iodine_100g': 0.18%\n",
      "Completion of variable 'caffeine_100g': 0.05%\n",
      "Completion of variable 'taurine_100g': 0.04%\n",
      "Completion of variable 'ph_100g': 0.0%\n",
      "Completion of variable 'fruits-vegetables-nuts_100g': 4.5%\n",
      "Completion of variable 'collagen-meat-protein-ratio_100g': 0.17%\n",
      "Completion of variable 'cocoa_100g': 1.0%\n",
      "Completion of variable 'chlorophyl_100g': 0.0%\n",
      "Completion of variable 'carbon-footprint_100g': 0.23%\n",
      "Completion of variable 'nutrition-score-fr_100g': 100.0%\n",
      "Completion of variable 'nutrition-score-uk_100g': 100.0%\n",
      "Completion of variable 'glycemic-index_100g': 0.0%\n",
      "Completion of variable 'water-hardness_100g': 0.0%\n"
     ]
    }
   ],
   "source": [
    "for variable in variables:\n",
    "    completion(df_fr, variable)"
   ]
  },
  {
   "cell_type": "code",
   "execution_count": 12,
   "metadata": {},
   "outputs": [
    {
     "data": {
      "text/plain": [
       "pnns_groups_1\n",
       "Sugary snacks              7391\n",
       "unknown                    7223\n",
       "Milk and dairy products    5154\n",
       "Cereals and potatoes       5145\n",
       "Composite foods            5045\n",
       "Fish Meat Eggs             4626\n",
       "Beverages                  4445\n",
       "Fat and sauces             2845\n",
       "Fruits and vegetables      2722\n",
       "Salty snacks               1830\n",
       "fruits-and-vegetables       426\n",
       "sugary-snacks               377\n",
       "cereals-and-potatoes          1\n",
       "Name: count, dtype: int64"
      ]
     },
     "execution_count": 12,
     "metadata": {},
     "output_type": "execute_result"
    }
   ],
   "source": [
    "df_fr['main_category_fr'].head(60)\n",
    "df_fr['packaging'].head(60)\n",
    "df_fr['additives'].head(60)\n",
    "df_fr['pnns_groups_1'].head(60)\n",
    "df_fr['pnns_groups_1'].value_counts()\n"
   ]
  },
  {
   "cell_type": "code",
   "execution_count": 13,
   "metadata": {},
   "outputs": [
    {
     "name": "stdout",
     "output_type": "stream",
     "text": [
      "Number of relevant variables: 20\n"
     ]
    }
   ],
   "source": [
    "keep_var = [\n",
    "    'code',\n",
    "    'product_name',\n",
    "    'brands',\n",
    "    'nutrition_grade_fr',\n",
    "    'pnns_groups_1',\n",
    "    'pnns_groups_2',\n",
    "    'packaging',\n",
    "    'ingredients_text',\n",
    "    'additives',\n",
    "    'ingredients_from_palm_oil_n'\n",
    "]\n",
    "\n",
    "for variable in df.columns:\n",
    "    if '100g' in variable and missing_percentage(df_fr, variable)<0.30:\n",
    "        keep_var.append(variable)\n",
    "keep_var.remove('nutrition-score-uk_100g')\n",
    "print(f'Number of relevant variables: {len(keep_var)}')"
   ]
  },
  {
   "cell_type": "code",
   "execution_count": 14,
   "metadata": {},
   "outputs": [
    {
     "data": {
      "text/plain": [
       "['code',\n",
       " 'product_name',\n",
       " 'brands',\n",
       " 'nutrition_grade_fr',\n",
       " 'pnns_groups_1',\n",
       " 'pnns_groups_2',\n",
       " 'packaging',\n",
       " 'ingredients_text',\n",
       " 'additives',\n",
       " 'ingredients_from_palm_oil_n',\n",
       " 'energy_100g',\n",
       " 'fat_100g',\n",
       " 'saturated-fat_100g',\n",
       " 'carbohydrates_100g',\n",
       " 'sugars_100g',\n",
       " 'fiber_100g',\n",
       " 'proteins_100g',\n",
       " 'salt_100g',\n",
       " 'sodium_100g',\n",
       " 'nutrition-score-fr_100g']"
      ]
     },
     "execution_count": 14,
     "metadata": {},
     "output_type": "execute_result"
    }
   ],
   "source": [
    "keep_var"
   ]
  },
  {
   "cell_type": "markdown",
   "metadata": {},
   "source": [
    "Droping duplicates"
   ]
  },
  {
   "cell_type": "code",
   "execution_count": 15,
   "metadata": {},
   "outputs": [
    {
     "name": "stdout",
     "output_type": "stream",
     "text": [
      "Before droping duplicates :\n",
      "N: 61415\tNumber of variables: 20\n"
     ]
    }
   ],
   "source": [
    "df_relevant_with_dupl = df_fr[keep_var]\n",
    "print('Before droping duplicates :')\n",
    "N1, x = nb_col_rows(df_relevant_with_dupl)"
   ]
  },
  {
   "cell_type": "code",
   "execution_count": 16,
   "metadata": {},
   "outputs": [
    {
     "name": "stdout",
     "output_type": "stream",
     "text": [
      "After droping duplicates :\n",
      "N: 59198\tNumber of variables: 20\n",
      "Number of duplicates deleted: 2217\n"
     ]
    }
   ],
   "source": [
    "\n",
    "print('After droping duplicates :')\n",
    "df_relevant=df_relevant_with_dupl.drop_duplicates(subset=['code'])\n",
    "df_relevant=df_relevant.drop_duplicates(subset=['product_name', 'brands'])\n",
    "df_relevant.reset_index(drop=True, inplace=True)\n",
    "N2, x = nb_col_rows(df_relevant)\n",
    "print(f\"Number of duplicates deleted: {N1-N2}\")"
   ]
  },
  {
   "cell_type": "markdown",
   "metadata": {},
   "source": [
    "### Missing values"
   ]
  },
  {
   "cell_type": "code",
   "execution_count": 17,
   "metadata": {},
   "outputs": [
    {
     "data": {
      "text/plain": [
       "product_name                     155\n",
       "brands                           210\n",
       "pnns_groups_1                  13922\n",
       "pnns_groups_2                  13831\n",
       "packaging                      18831\n",
       "ingredients_text               19778\n",
       "additives                      19786\n",
       "ingredients_from_palm_oil_n    19778\n",
       "energy_100g                       77\n",
       "fat_100g                       16812\n",
       "saturated-fat_100g                77\n",
       "carbohydrates_100g             16866\n",
       "sugars_100g                       77\n",
       "fiber_100g                     15863\n",
       "proteins_100g                     77\n",
       "salt_100g                         77\n",
       "sodium_100g                       77\n",
       "dtype: int64"
      ]
     },
     "execution_count": 17,
     "metadata": {},
     "output_type": "execute_result"
    }
   ],
   "source": [
    "missing_values(df_relevant)"
   ]
  },
  {
   "cell_type": "code",
   "execution_count": 18,
   "metadata": {},
   "outputs": [],
   "source": [
    "df_final = df_relevant.copy()"
   ]
  },
  {
   "cell_type": "markdown",
   "metadata": {},
   "source": [
    "#### Qualitative variables"
   ]
  },
  {
   "cell_type": "code",
   "execution_count": 19,
   "metadata": {},
   "outputs": [
    {
     "data": {
      "text/plain": [
       "ingredients_from_palm_oil_n    19778\n",
       "energy_100g                       77\n",
       "fat_100g                       16812\n",
       "saturated-fat_100g                77\n",
       "carbohydrates_100g             16866\n",
       "sugars_100g                       77\n",
       "fiber_100g                     15863\n",
       "proteins_100g                     77\n",
       "salt_100g                         77\n",
       "sodium_100g                       77\n",
       "dtype: int64"
      ]
     },
     "execution_count": 19,
     "metadata": {},
     "output_type": "execute_result"
    }
   ],
   "source": [
    "for key in ['product_name', 'brands', 'pnns_groups_1', 'pnns_groups_2', 'packaging', 'ingredients_text', 'additives']:\n",
    "    df_final.fillna({key: ''}, inplace=True)\n",
    "df_final.replace('unknown', '')\n",
    "missing_values(df_final)"
   ]
  },
  {
   "cell_type": "code",
   "execution_count": 20,
   "metadata": {},
   "outputs": [
    {
     "data": {
      "text/plain": [
       "ingredients_from_palm_oil_n    19778\n",
       "energy_100g                       77\n",
       "fat_100g                       16812\n",
       "saturated-fat_100g                77\n",
       "carbohydrates_100g             16866\n",
       "sugars_100g                       77\n",
       "fiber_100g                     15863\n",
       "proteins_100g                     77\n",
       "salt_100g                         77\n",
       "sodium_100g                       77\n",
       "dtype: int64"
      ]
     },
     "execution_count": 20,
     "metadata": {},
     "output_type": "execute_result"
    }
   ],
   "source": [
    "missing_values(df_final)"
   ]
  },
  {
   "cell_type": "markdown",
   "metadata": {},
   "source": [
    "#### Palm Oil"
   ]
  },
  {
   "cell_type": "code",
   "execution_count": 21,
   "metadata": {},
   "outputs": [
    {
     "data": {
      "text/plain": [
       "ingredients_from_palm_oil_n\n",
       "0.0    36346\n",
       "1.0     3032\n",
       "2.0       42\n",
       "Name: count, dtype: int64"
      ]
     },
     "execution_count": 21,
     "metadata": {},
     "output_type": "execute_result"
    }
   ],
   "source": [
    "df_final['ingredients_from_palm_oil_n'].value_counts()"
   ]
  },
  {
   "cell_type": "code",
   "execution_count": 22,
   "metadata": {},
   "outputs": [
    {
     "data": {
      "text/plain": [
       "42"
      ]
     },
     "execution_count": 22,
     "metadata": {},
     "output_type": "execute_result"
    }
   ],
   "source": [
    "len(df_final[(df_final['ingredients_from_palm_oil_n']==2) & (df_final['additives'].str.contains('palm'))])"
   ]
  },
  {
   "cell_type": "code",
   "execution_count": 23,
   "metadata": {},
   "outputs": [],
   "source": [
    "df_final['ingredients_from_palm_oil_n']=df_final['ingredients_from_palm_oil_n'].replace(2,1)"
   ]
  },
  {
   "cell_type": "code",
   "execution_count": 24,
   "metadata": {},
   "outputs": [
    {
     "data": {
      "text/plain": [
       "322"
      ]
     },
     "execution_count": 24,
     "metadata": {},
     "output_type": "execute_result"
    }
   ],
   "source": [
    "len(df_final[(df_final['ingredients_from_palm_oil_n'] == 0) & (df_final['additives'].str.contains('palm'))])"
   ]
  },
  {
   "cell_type": "code",
   "execution_count": 25,
   "metadata": {},
   "outputs": [
    {
     "data": {
      "text/plain": [
       "0"
      ]
     },
     "execution_count": 25,
     "metadata": {},
     "output_type": "execute_result"
    }
   ],
   "source": [
    "len(df_final[(df_final['ingredients_from_palm_oil_n'].isnull()) & (df_final['additives'].str.contains('palm'))])"
   ]
  },
  {
   "cell_type": "code",
   "execution_count": 26,
   "metadata": {},
   "outputs": [
    {
     "name": "stderr",
     "output_type": "stream",
     "text": [
      "/tmp/ipykernel_3888/1788657335.py:2: FutureWarning: A value is trying to be set on a copy of a DataFrame or Series through chained assignment using an inplace method.\n",
      "The behavior will change in pandas 3.0. This inplace method will never work because the intermediate object on which we are setting values always behaves as a copy.\n",
      "\n",
      "For example, when doing 'df[col].method(value, inplace=True)', try using 'df.method({col: value}, inplace=True)' or df[col] = df[col].method(value) instead, to perform the operation inplace on the original object.\n",
      "\n",
      "\n",
      "  df_final['ingredients_from_palm_oil_n'].fillna(0, inplace=True)\n"
     ]
    }
   ],
   "source": [
    "df_final['ingredients_from_palm_oil_n']=df_final[(df_final['ingredients_from_palm_oil_n'] == 0) & (df_final['additives'].str.contains('palm'))]['ingredients_from_palm_oil_n'].replace(0,1)\n",
    "df_final['ingredients_from_palm_oil_n'].fillna(0, inplace=True)"
   ]
  },
  {
   "cell_type": "code",
   "execution_count": 27,
   "metadata": {},
   "outputs": [
    {
     "data": {
      "text/plain": [
       "ingredients_from_palm_oil_n\n",
       "0.0    58876\n",
       "1.0      322\n",
       "Name: count, dtype: int64"
      ]
     },
     "execution_count": 27,
     "metadata": {},
     "output_type": "execute_result"
    }
   ],
   "source": [
    "df_final['ingredients_from_palm_oil_n'].value_counts()"
   ]
  },
  {
   "cell_type": "code",
   "execution_count": 28,
   "metadata": {},
   "outputs": [
    {
     "data": {
      "text/html": [
       "<div>\n",
       "<style scoped>\n",
       "    .dataframe tbody tr th:only-of-type {\n",
       "        vertical-align: middle;\n",
       "    }\n",
       "\n",
       "    .dataframe tbody tr th {\n",
       "        vertical-align: top;\n",
       "    }\n",
       "\n",
       "    .dataframe thead th {\n",
       "        text-align: right;\n",
       "    }\n",
       "</style>\n",
       "<table border=\"1\" class=\"dataframe\">\n",
       "  <thead>\n",
       "    <tr style=\"text-align: right;\">\n",
       "      <th></th>\n",
       "      <th>code</th>\n",
       "      <th>product_name</th>\n",
       "      <th>brands</th>\n",
       "      <th>nutrition_grade_fr</th>\n",
       "      <th>pnns_groups_1</th>\n",
       "      <th>pnns_groups_2</th>\n",
       "      <th>packaging</th>\n",
       "      <th>ingredients_text</th>\n",
       "      <th>additives</th>\n",
       "      <th>palm_oil</th>\n",
       "      <th>energy_100g</th>\n",
       "      <th>fat_100g</th>\n",
       "      <th>saturated-fat_100g</th>\n",
       "      <th>carbohydrates_100g</th>\n",
       "      <th>sugars_100g</th>\n",
       "      <th>fiber_100g</th>\n",
       "      <th>proteins_100g</th>\n",
       "      <th>salt_100g</th>\n",
       "      <th>sodium_100g</th>\n",
       "      <th>nutrition-score-fr_100g</th>\n",
       "    </tr>\n",
       "  </thead>\n",
       "  <tbody>\n",
       "    <tr>\n",
       "      <th>0</th>\n",
       "      <td>36252</td>\n",
       "      <td>Lion Peanut x2</td>\n",
       "      <td>Sunridge</td>\n",
       "      <td>e</td>\n",
       "      <td>unknown</td>\n",
       "      <td>unknown</td>\n",
       "      <td></td>\n",
       "      <td>Milk chocolate coating (evaporated cane juice,...</td>\n",
       "      <td>[ milk-chocolate-coating -&gt; en:milk-chocolate...</td>\n",
       "      <td>0.0</td>\n",
       "      <td>1883.0</td>\n",
       "      <td>20.0</td>\n",
       "      <td>12.50</td>\n",
       "      <td>70.0</td>\n",
       "      <td>57.50</td>\n",
       "      <td>2.5</td>\n",
       "      <td>2.50</td>\n",
       "      <td>0.09652</td>\n",
       "      <td>0.038000</td>\n",
       "      <td>22.0</td>\n",
       "    </tr>\n",
       "    <tr>\n",
       "      <th>1</th>\n",
       "      <td>10187319</td>\n",
       "      <td>Mini Confettis</td>\n",
       "      <td>Alice Délice</td>\n",
       "      <td>d</td>\n",
       "      <td></td>\n",
       "      <td></td>\n",
       "      <td></td>\n",
       "      <td></td>\n",
       "      <td></td>\n",
       "      <td>0.0</td>\n",
       "      <td>1753.0</td>\n",
       "      <td>NaN</td>\n",
       "      <td>0.80</td>\n",
       "      <td>NaN</td>\n",
       "      <td>87.70</td>\n",
       "      <td>0.9</td>\n",
       "      <td>0.60</td>\n",
       "      <td>0.01000</td>\n",
       "      <td>0.003937</td>\n",
       "      <td>14.0</td>\n",
       "    </tr>\n",
       "    <tr>\n",
       "      <th>2</th>\n",
       "      <td>10207260</td>\n",
       "      <td>Praliné Amande Et Noisette</td>\n",
       "      <td>Alice Délice</td>\n",
       "      <td>d</td>\n",
       "      <td></td>\n",
       "      <td></td>\n",
       "      <td></td>\n",
       "      <td></td>\n",
       "      <td></td>\n",
       "      <td>0.0</td>\n",
       "      <td>2406.0</td>\n",
       "      <td>NaN</td>\n",
       "      <td>2.90</td>\n",
       "      <td>NaN</td>\n",
       "      <td>50.30</td>\n",
       "      <td>3.9</td>\n",
       "      <td>9.50</td>\n",
       "      <td>0.00300</td>\n",
       "      <td>0.001181</td>\n",
       "      <td>14.0</td>\n",
       "    </tr>\n",
       "    <tr>\n",
       "      <th>3</th>\n",
       "      <td>40608754</td>\n",
       "      <td>Pepsi, Nouveau goût !</td>\n",
       "      <td>Pepsi</td>\n",
       "      <td>e</td>\n",
       "      <td>Beverages</td>\n",
       "      <td>Sweetened beverages</td>\n",
       "      <td>Canette aluminium</td>\n",
       "      <td>Eau gazéifiée, sucre, colorant caramel E150d, ...</td>\n",
       "      <td>[ eau-gazeifiee -&gt; fr:eau-gazeifiee  ]  [ eau...</td>\n",
       "      <td>0.0</td>\n",
       "      <td>177.0</td>\n",
       "      <td>0.0</td>\n",
       "      <td>0.00</td>\n",
       "      <td>10.4</td>\n",
       "      <td>10.40</td>\n",
       "      <td>0.0</td>\n",
       "      <td>0.00</td>\n",
       "      <td>0.02540</td>\n",
       "      <td>0.010000</td>\n",
       "      <td>13.0</td>\n",
       "    </tr>\n",
       "    <tr>\n",
       "      <th>4</th>\n",
       "      <td>69161025</td>\n",
       "      <td>Tarte Poireaux Et Lardons</td>\n",
       "      <td>Bo Frost</td>\n",
       "      <td>d</td>\n",
       "      <td></td>\n",
       "      <td></td>\n",
       "      <td></td>\n",
       "      <td></td>\n",
       "      <td></td>\n",
       "      <td>0.0</td>\n",
       "      <td>1079.0</td>\n",
       "      <td>NaN</td>\n",
       "      <td>11.00</td>\n",
       "      <td>NaN</td>\n",
       "      <td>1.00</td>\n",
       "      <td>1.4</td>\n",
       "      <td>7.50</td>\n",
       "      <td>0.80000</td>\n",
       "      <td>0.314961</td>\n",
       "      <td>15.0</td>\n",
       "    </tr>\n",
       "    <tr>\n",
       "      <th>...</th>\n",
       "      <td>...</td>\n",
       "      <td>...</td>\n",
       "      <td>...</td>\n",
       "      <td>...</td>\n",
       "      <td>...</td>\n",
       "      <td>...</td>\n",
       "      <td>...</td>\n",
       "      <td>...</td>\n",
       "      <td>...</td>\n",
       "      <td>...</td>\n",
       "      <td>...</td>\n",
       "      <td>...</td>\n",
       "      <td>...</td>\n",
       "      <td>...</td>\n",
       "      <td>...</td>\n",
       "      <td>...</td>\n",
       "      <td>...</td>\n",
       "      <td>...</td>\n",
       "      <td>...</td>\n",
       "      <td>...</td>\n",
       "    </tr>\n",
       "    <tr>\n",
       "      <th>59193</th>\n",
       "      <td>9782211109758</td>\n",
       "      <td>Verrine Cheescake Myrtille</td>\n",
       "      <td>Kayser</td>\n",
       "      <td>d</td>\n",
       "      <td></td>\n",
       "      <td></td>\n",
       "      <td></td>\n",
       "      <td></td>\n",
       "      <td></td>\n",
       "      <td>0.0</td>\n",
       "      <td>1084.0</td>\n",
       "      <td>NaN</td>\n",
       "      <td>12.00</td>\n",
       "      <td>NaN</td>\n",
       "      <td>10.50</td>\n",
       "      <td>0.0</td>\n",
       "      <td>8.70</td>\n",
       "      <td>0.29000</td>\n",
       "      <td>0.114173</td>\n",
       "      <td>16.0</td>\n",
       "    </tr>\n",
       "    <tr>\n",
       "      <th>59194</th>\n",
       "      <td>9782401029101</td>\n",
       "      <td>Fiche Brevet</td>\n",
       "      <td>Hatier</td>\n",
       "      <td>b</td>\n",
       "      <td></td>\n",
       "      <td></td>\n",
       "      <td></td>\n",
       "      <td></td>\n",
       "      <td></td>\n",
       "      <td>0.0</td>\n",
       "      <td>4.0</td>\n",
       "      <td>NaN</td>\n",
       "      <td>1.00</td>\n",
       "      <td>NaN</td>\n",
       "      <td>1.00</td>\n",
       "      <td>10.0</td>\n",
       "      <td>10.00</td>\n",
       "      <td>10.00000</td>\n",
       "      <td>3.937008</td>\n",
       "      <td>0.0</td>\n",
       "    </tr>\n",
       "    <tr>\n",
       "      <th>59195</th>\n",
       "      <td>9847548283004</td>\n",
       "      <td>Tartines craquantes bio au sarrasin</td>\n",
       "      <td>Le Pain des fleurs</td>\n",
       "      <td>a</td>\n",
       "      <td>Cereals and potatoes</td>\n",
       "      <td>Bread</td>\n",
       "      <td>Boîte,Carton,Sachet,Plastique</td>\n",
       "      <td></td>\n",
       "      <td></td>\n",
       "      <td>0.0</td>\n",
       "      <td>1643.0</td>\n",
       "      <td>2.8</td>\n",
       "      <td>0.60</td>\n",
       "      <td>74.8</td>\n",
       "      <td>2.60</td>\n",
       "      <td>5.9</td>\n",
       "      <td>13.00</td>\n",
       "      <td>0.68000</td>\n",
       "      <td>0.267717</td>\n",
       "      <td>-4.0</td>\n",
       "    </tr>\n",
       "    <tr>\n",
       "      <th>59196</th>\n",
       "      <td>9900000000233</td>\n",
       "      <td>Amandes</td>\n",
       "      <td>Biosic</td>\n",
       "      <td>b</td>\n",
       "      <td></td>\n",
       "      <td></td>\n",
       "      <td></td>\n",
       "      <td></td>\n",
       "      <td></td>\n",
       "      <td>0.0</td>\n",
       "      <td>2406.0</td>\n",
       "      <td>NaN</td>\n",
       "      <td>3.73</td>\n",
       "      <td>NaN</td>\n",
       "      <td>3.89</td>\n",
       "      <td>12.2</td>\n",
       "      <td>21.22</td>\n",
       "      <td>0.10000</td>\n",
       "      <td>0.039370</td>\n",
       "      <td>0.0</td>\n",
       "    </tr>\n",
       "    <tr>\n",
       "      <th>59197</th>\n",
       "      <td>99111250</td>\n",
       "      <td>Thé vert Earl grey</td>\n",
       "      <td>Lobodis</td>\n",
       "      <td>c</td>\n",
       "      <td>Beverages</td>\n",
       "      <td>Non-sugared beverages</td>\n",
       "      <td>boîte,carton</td>\n",
       "      <td>thé vert, arôme naturel bergamote avec autres ...</td>\n",
       "      <td>[ the-vert -&gt; fr:the-vert  ]  [ the -&gt; fr:the...</td>\n",
       "      <td>0.0</td>\n",
       "      <td>21.0</td>\n",
       "      <td>0.2</td>\n",
       "      <td>0.20</td>\n",
       "      <td>0.5</td>\n",
       "      <td>0.50</td>\n",
       "      <td>0.2</td>\n",
       "      <td>0.50</td>\n",
       "      <td>0.02540</td>\n",
       "      <td>0.010000</td>\n",
       "      <td>2.0</td>\n",
       "    </tr>\n",
       "  </tbody>\n",
       "</table>\n",
       "<p>59198 rows × 20 columns</p>\n",
       "</div>"
      ],
      "text/plain": [
       "                code                         product_name              brands  \\\n",
       "0              36252                       Lion Peanut x2            Sunridge   \n",
       "1           10187319                       Mini Confettis        Alice Délice   \n",
       "2           10207260           Praliné Amande Et Noisette        Alice Délice   \n",
       "3           40608754                Pepsi, Nouveau goût !               Pepsi   \n",
       "4           69161025            Tarte Poireaux Et Lardons            Bo Frost   \n",
       "...              ...                                  ...                 ...   \n",
       "59193  9782211109758           Verrine Cheescake Myrtille              Kayser   \n",
       "59194  9782401029101                         Fiche Brevet              Hatier   \n",
       "59195  9847548283004  Tartines craquantes bio au sarrasin  Le Pain des fleurs   \n",
       "59196  9900000000233                              Amandes              Biosic   \n",
       "59197       99111250                   Thé vert Earl grey             Lobodis   \n",
       "\n",
       "      nutrition_grade_fr         pnns_groups_1          pnns_groups_2  \\\n",
       "0                      e               unknown                unknown   \n",
       "1                      d                                                \n",
       "2                      d                                                \n",
       "3                      e             Beverages    Sweetened beverages   \n",
       "4                      d                                                \n",
       "...                  ...                   ...                    ...   \n",
       "59193                  d                                                \n",
       "59194                  b                                                \n",
       "59195                  a  Cereals and potatoes                  Bread   \n",
       "59196                  b                                                \n",
       "59197                  c             Beverages  Non-sugared beverages   \n",
       "\n",
       "                           packaging  \\\n",
       "0                                      \n",
       "1                                      \n",
       "2                                      \n",
       "3                  Canette aluminium   \n",
       "4                                      \n",
       "...                              ...   \n",
       "59193                                  \n",
       "59194                                  \n",
       "59195  Boîte,Carton,Sachet,Plastique   \n",
       "59196                                  \n",
       "59197                   boîte,carton   \n",
       "\n",
       "                                        ingredients_text  \\\n",
       "0      Milk chocolate coating (evaporated cane juice,...   \n",
       "1                                                          \n",
       "2                                                          \n",
       "3      Eau gazéifiée, sucre, colorant caramel E150d, ...   \n",
       "4                                                          \n",
       "...                                                  ...   \n",
       "59193                                                      \n",
       "59194                                                      \n",
       "59195                                                      \n",
       "59196                                                      \n",
       "59197  thé vert, arôme naturel bergamote avec autres ...   \n",
       "\n",
       "                                               additives  palm_oil  \\\n",
       "0       [ milk-chocolate-coating -> en:milk-chocolate...       0.0   \n",
       "1                                                              0.0   \n",
       "2                                                              0.0   \n",
       "3       [ eau-gazeifiee -> fr:eau-gazeifiee  ]  [ eau...       0.0   \n",
       "4                                                              0.0   \n",
       "...                                                  ...       ...   \n",
       "59193                                                          0.0   \n",
       "59194                                                          0.0   \n",
       "59195                                                          0.0   \n",
       "59196                                                          0.0   \n",
       "59197   [ the-vert -> fr:the-vert  ]  [ the -> fr:the...       0.0   \n",
       "\n",
       "       energy_100g  fat_100g  saturated-fat_100g  carbohydrates_100g  \\\n",
       "0           1883.0      20.0               12.50                70.0   \n",
       "1           1753.0       NaN                0.80                 NaN   \n",
       "2           2406.0       NaN                2.90                 NaN   \n",
       "3            177.0       0.0                0.00                10.4   \n",
       "4           1079.0       NaN               11.00                 NaN   \n",
       "...            ...       ...                 ...                 ...   \n",
       "59193       1084.0       NaN               12.00                 NaN   \n",
       "59194          4.0       NaN                1.00                 NaN   \n",
       "59195       1643.0       2.8                0.60                74.8   \n",
       "59196       2406.0       NaN                3.73                 NaN   \n",
       "59197         21.0       0.2                0.20                 0.5   \n",
       "\n",
       "       sugars_100g  fiber_100g  proteins_100g  salt_100g  sodium_100g  \\\n",
       "0            57.50         2.5           2.50    0.09652     0.038000   \n",
       "1            87.70         0.9           0.60    0.01000     0.003937   \n",
       "2            50.30         3.9           9.50    0.00300     0.001181   \n",
       "3            10.40         0.0           0.00    0.02540     0.010000   \n",
       "4             1.00         1.4           7.50    0.80000     0.314961   \n",
       "...            ...         ...            ...        ...          ...   \n",
       "59193        10.50         0.0           8.70    0.29000     0.114173   \n",
       "59194         1.00        10.0          10.00   10.00000     3.937008   \n",
       "59195         2.60         5.9          13.00    0.68000     0.267717   \n",
       "59196         3.89        12.2          21.22    0.10000     0.039370   \n",
       "59197         0.50         0.2           0.50    0.02540     0.010000   \n",
       "\n",
       "       nutrition-score-fr_100g  \n",
       "0                         22.0  \n",
       "1                         14.0  \n",
       "2                         14.0  \n",
       "3                         13.0  \n",
       "4                         15.0  \n",
       "...                        ...  \n",
       "59193                     16.0  \n",
       "59194                      0.0  \n",
       "59195                     -4.0  \n",
       "59196                      0.0  \n",
       "59197                      2.0  \n",
       "\n",
       "[59198 rows x 20 columns]"
      ]
     },
     "execution_count": 28,
     "metadata": {},
     "output_type": "execute_result"
    }
   ],
   "source": [
    "df_final.rename(columns={'ingredients_from_palm_oil_n': 'palm_oil'})"
   ]
  },
  {
   "cell_type": "markdown",
   "metadata": {},
   "source": [
    "#### Quantitative variables"
   ]
  },
  {
   "cell_type": "code",
   "execution_count": 29,
   "metadata": {},
   "outputs": [
    {
     "data": {
      "text/plain": [
       "energy_100g              77\n",
       "fat_100g              16812\n",
       "saturated-fat_100g       77\n",
       "carbohydrates_100g    16866\n",
       "sugars_100g              77\n",
       "fiber_100g            15863\n",
       "proteins_100g            77\n",
       "salt_100g                77\n",
       "sodium_100g              77\n",
       "dtype: int64"
      ]
     },
     "execution_count": 29,
     "metadata": {},
     "output_type": "execute_result"
    }
   ],
   "source": [
    "missing_values(df_final)"
   ]
  },
  {
   "cell_type": "code",
   "execution_count": 30,
   "metadata": {},
   "outputs": [
    {
     "data": {
      "image/png": "[encoded data removed]",
      "text/plain": [
       "<Figure size 640x480 with 1 Axes>"
      ]
     },
     "metadata": {},
     "output_type": "display_data"
    },
    {
     "data": {
      "image/png": "[encoded data removed]",
      "text/plain": [
       "<Figure size 640x480 with 1 Axes>"
      ]
     },
     "metadata": {},
     "output_type": "display_data"
    },
    {
     "data": {
      "image/png": "[encoded data removed]",
      "text/plain": [
       "<Figure size 640x480 with 1 Axes>"
      ]
     },
     "metadata": {},
     "output_type": "display_data"
    },
    {
     "data": {
      "image/png": "[encoded data removed]",
      "text/plain": [
       "<Figure size 640x480 with 1 Axes>"
      ]
     },
     "metadata": {},
     "output_type": "display_data"
    },
    {
     "data": {
      "image/png": "[encoded data removed]",
      "text/plain": [
       "<Figure size 640x480 with 1 Axes>"
      ]
     },
     "metadata": {},
     "output_type": "display_data"
    },
    {
     "data": {
      "image/png": "[encoded data removed]",
      "text/plain": [
       "<Figure size 640x480 with 1 Axes>"
      ]
     },
     "metadata": {},
     "output_type": "display_data"
    },
    {
     "data": {
      "image/png": "[encoded data removed]",
      "text/plain": [
       "<Figure size 640x480 with 1 Axes>"
      ]
     },
     "metadata": {},
     "output_type": "display_data"
    },
    {
     "data": {
      "image/png": "[encoded data removed]",
      "text/plain": [
       "<Figure size 640x480 with 1 Axes>"
      ]
     },
     "metadata": {},
     "output_type": "display_data"
    },
    {
     "data": {
      "image/png": "[encoded data removed]",
      "text/plain": [
       "<Figure size 640x480 with 1 Axes>"
      ]
     },
     "metadata": {},
     "output_type": "display_data"
    }
   ],
   "source": [
    "for variable in ['energy_100g', 'fat_100g', 'saturated-fat_100g', 'carbohydrates_100g', 'sugars_100g', 'fiber_100g', 'proteins_100g', 'salt_100g', 'sodium_100g']:\n",
    "    df_final.boxplot(column=variable, vert=False)\n",
    "    plt.show()"
   ]
  },
  {
   "cell_type": "markdown",
   "metadata": {},
   "source": [
    "#### Fibers"
   ]
  },
  {
   "cell_type": "code",
   "execution_count": 31,
   "metadata": {},
   "outputs": [
    {
     "data": {
      "image/png": "[encoded data removed]",
      "text/plain": [
       "<Figure size 640x480 with 1 Axes>"
      ]
     },
     "metadata": {},
     "output_type": "display_data"
    }
   ],
   "source": [
    "df_final[df_final['fiber_100g']<25]['fiber_100g'].hist(density=True, bins=20)\n",
    "plt.show()"
   ]
  },
  {
   "cell_type": "code",
   "execution_count": 32,
   "metadata": {},
   "outputs": [],
   "source": [
    "df_final.fillna({'fiber_100g': 0}, inplace=True)"
   ]
  },
  {
   "cell_type": "code",
   "execution_count": 33,
   "metadata": {},
   "outputs": [
    {
     "data": {
      "image/png": "[encoded data removed]",
      "text/plain": [
       "<Figure size 640x480 with 1 Axes>"
      ]
     },
     "metadata": {},
     "output_type": "display_data"
    }
   ],
   "source": [
    "df_final[df_final['fiber_100g']<25]['fiber_100g'].hist(density=True, bins=20)\n",
    "plt.show()"
   ]
  },
  {
   "cell_type": "markdown",
   "metadata": {},
   "source": [
    "#### Sodium and Salt"
   ]
  },
  {
   "cell_type": "code",
   "execution_count": 34,
   "metadata": {},
   "outputs": [
    {
     "data": {
      "image/png": "[encoded data removed]",
      "text/plain": [
       "<Figure size 640x480 with 1 Axes>"
      ]
     },
     "metadata": {},
     "output_type": "display_data"
    }
   ],
   "source": [
    "df_final['sodium_100g'].hist(density=True, bins=20, range=(0,8))\n",
    "#df_final['salt_100g'].hist(density=True, bins=20, range=(0,8))\n",
    "plt.show()"
   ]
  },
  {
   "cell_type": "code",
   "execution_count": 35,
   "metadata": {},
   "outputs": [
    {
     "data": {
      "text/html": [
       "<div>\n",
       "<style scoped>\n",
       "    .dataframe tbody tr th:only-of-type {\n",
       "        vertical-align: middle;\n",
       "    }\n",
       "\n",
       "    .dataframe tbody tr th {\n",
       "        vertical-align: top;\n",
       "    }\n",
       "\n",
       "    .dataframe thead th {\n",
       "        text-align: right;\n",
       "    }\n",
       "</style>\n",
       "<table border=\"1\" class=\"dataframe\">\n",
       "  <thead>\n",
       "    <tr style=\"text-align: right;\">\n",
       "      <th></th>\n",
       "      <th>code</th>\n",
       "      <th>product_name</th>\n",
       "      <th>brands</th>\n",
       "      <th>nutrition_grade_fr</th>\n",
       "      <th>pnns_groups_1</th>\n",
       "      <th>pnns_groups_2</th>\n",
       "      <th>packaging</th>\n",
       "      <th>ingredients_text</th>\n",
       "      <th>additives</th>\n",
       "      <th>ingredients_from_palm_oil_n</th>\n",
       "      <th>energy_100g</th>\n",
       "      <th>fat_100g</th>\n",
       "      <th>saturated-fat_100g</th>\n",
       "      <th>carbohydrates_100g</th>\n",
       "      <th>sugars_100g</th>\n",
       "      <th>fiber_100g</th>\n",
       "      <th>proteins_100g</th>\n",
       "      <th>salt_100g</th>\n",
       "      <th>nutrition-score-fr_100g</th>\n",
       "    </tr>\n",
       "  </thead>\n",
       "  <tbody>\n",
       "    <tr>\n",
       "      <th>0</th>\n",
       "      <td>36252</td>\n",
       "      <td>Lion Peanut x2</td>\n",
       "      <td>Sunridge</td>\n",
       "      <td>e</td>\n",
       "      <td>unknown</td>\n",
       "      <td>unknown</td>\n",
       "      <td></td>\n",
       "      <td>Milk chocolate coating (evaporated cane juice,...</td>\n",
       "      <td>[ milk-chocolate-coating -&gt; en:milk-chocolate...</td>\n",
       "      <td>0.0</td>\n",
       "      <td>1883.0</td>\n",
       "      <td>20.0</td>\n",
       "      <td>12.50</td>\n",
       "      <td>70.0</td>\n",
       "      <td>57.50</td>\n",
       "      <td>2.5</td>\n",
       "      <td>2.50</td>\n",
       "      <td>0.09652</td>\n",
       "      <td>22.0</td>\n",
       "    </tr>\n",
       "    <tr>\n",
       "      <th>1</th>\n",
       "      <td>10187319</td>\n",
       "      <td>Mini Confettis</td>\n",
       "      <td>Alice Délice</td>\n",
       "      <td>d</td>\n",
       "      <td></td>\n",
       "      <td></td>\n",
       "      <td></td>\n",
       "      <td></td>\n",
       "      <td></td>\n",
       "      <td>0.0</td>\n",
       "      <td>1753.0</td>\n",
       "      <td>NaN</td>\n",
       "      <td>0.80</td>\n",
       "      <td>NaN</td>\n",
       "      <td>87.70</td>\n",
       "      <td>0.9</td>\n",
       "      <td>0.60</td>\n",
       "      <td>0.01000</td>\n",
       "      <td>14.0</td>\n",
       "    </tr>\n",
       "    <tr>\n",
       "      <th>2</th>\n",
       "      <td>10207260</td>\n",
       "      <td>Praliné Amande Et Noisette</td>\n",
       "      <td>Alice Délice</td>\n",
       "      <td>d</td>\n",
       "      <td></td>\n",
       "      <td></td>\n",
       "      <td></td>\n",
       "      <td></td>\n",
       "      <td></td>\n",
       "      <td>0.0</td>\n",
       "      <td>2406.0</td>\n",
       "      <td>NaN</td>\n",
       "      <td>2.90</td>\n",
       "      <td>NaN</td>\n",
       "      <td>50.30</td>\n",
       "      <td>3.9</td>\n",
       "      <td>9.50</td>\n",
       "      <td>0.00300</td>\n",
       "      <td>14.0</td>\n",
       "    </tr>\n",
       "    <tr>\n",
       "      <th>3</th>\n",
       "      <td>40608754</td>\n",
       "      <td>Pepsi, Nouveau goût !</td>\n",
       "      <td>Pepsi</td>\n",
       "      <td>e</td>\n",
       "      <td>Beverages</td>\n",
       "      <td>Sweetened beverages</td>\n",
       "      <td>Canette aluminium</td>\n",
       "      <td>Eau gazéifiée, sucre, colorant caramel E150d, ...</td>\n",
       "      <td>[ eau-gazeifiee -&gt; fr:eau-gazeifiee  ]  [ eau...</td>\n",
       "      <td>0.0</td>\n",
       "      <td>177.0</td>\n",
       "      <td>0.0</td>\n",
       "      <td>0.00</td>\n",
       "      <td>10.4</td>\n",
       "      <td>10.40</td>\n",
       "      <td>0.0</td>\n",
       "      <td>0.00</td>\n",
       "      <td>0.02540</td>\n",
       "      <td>13.0</td>\n",
       "    </tr>\n",
       "    <tr>\n",
       "      <th>4</th>\n",
       "      <td>69161025</td>\n",
       "      <td>Tarte Poireaux Et Lardons</td>\n",
       "      <td>Bo Frost</td>\n",
       "      <td>d</td>\n",
       "      <td></td>\n",
       "      <td></td>\n",
       "      <td></td>\n",
       "      <td></td>\n",
       "      <td></td>\n",
       "      <td>0.0</td>\n",
       "      <td>1079.0</td>\n",
       "      <td>NaN</td>\n",
       "      <td>11.00</td>\n",
       "      <td>NaN</td>\n",
       "      <td>1.00</td>\n",
       "      <td>1.4</td>\n",
       "      <td>7.50</td>\n",
       "      <td>0.80000</td>\n",
       "      <td>15.0</td>\n",
       "    </tr>\n",
       "    <tr>\n",
       "      <th>...</th>\n",
       "      <td>...</td>\n",
       "      <td>...</td>\n",
       "      <td>...</td>\n",
       "      <td>...</td>\n",
       "      <td>...</td>\n",
       "      <td>...</td>\n",
       "      <td>...</td>\n",
       "      <td>...</td>\n",
       "      <td>...</td>\n",
       "      <td>...</td>\n",
       "      <td>...</td>\n",
       "      <td>...</td>\n",
       "      <td>...</td>\n",
       "      <td>...</td>\n",
       "      <td>...</td>\n",
       "      <td>...</td>\n",
       "      <td>...</td>\n",
       "      <td>...</td>\n",
       "      <td>...</td>\n",
       "    </tr>\n",
       "    <tr>\n",
       "      <th>59193</th>\n",
       "      <td>9782211109758</td>\n",
       "      <td>Verrine Cheescake Myrtille</td>\n",
       "      <td>Kayser</td>\n",
       "      <td>d</td>\n",
       "      <td></td>\n",
       "      <td></td>\n",
       "      <td></td>\n",
       "      <td></td>\n",
       "      <td></td>\n",
       "      <td>0.0</td>\n",
       "      <td>1084.0</td>\n",
       "      <td>NaN</td>\n",
       "      <td>12.00</td>\n",
       "      <td>NaN</td>\n",
       "      <td>10.50</td>\n",
       "      <td>0.0</td>\n",
       "      <td>8.70</td>\n",
       "      <td>0.29000</td>\n",
       "      <td>16.0</td>\n",
       "    </tr>\n",
       "    <tr>\n",
       "      <th>59194</th>\n",
       "      <td>9782401029101</td>\n",
       "      <td>Fiche Brevet</td>\n",
       "      <td>Hatier</td>\n",
       "      <td>b</td>\n",
       "      <td></td>\n",
       "      <td></td>\n",
       "      <td></td>\n",
       "      <td></td>\n",
       "      <td></td>\n",
       "      <td>0.0</td>\n",
       "      <td>4.0</td>\n",
       "      <td>NaN</td>\n",
       "      <td>1.00</td>\n",
       "      <td>NaN</td>\n",
       "      <td>1.00</td>\n",
       "      <td>10.0</td>\n",
       "      <td>10.00</td>\n",
       "      <td>10.00000</td>\n",
       "      <td>0.0</td>\n",
       "    </tr>\n",
       "    <tr>\n",
       "      <th>59195</th>\n",
       "      <td>9847548283004</td>\n",
       "      <td>Tartines craquantes bio au sarrasin</td>\n",
       "      <td>Le Pain des fleurs</td>\n",
       "      <td>a</td>\n",
       "      <td>Cereals and potatoes</td>\n",
       "      <td>Bread</td>\n",
       "      <td>Boîte,Carton,Sachet,Plastique</td>\n",
       "      <td></td>\n",
       "      <td></td>\n",
       "      <td>0.0</td>\n",
       "      <td>1643.0</td>\n",
       "      <td>2.8</td>\n",
       "      <td>0.60</td>\n",
       "      <td>74.8</td>\n",
       "      <td>2.60</td>\n",
       "      <td>5.9</td>\n",
       "      <td>13.00</td>\n",
       "      <td>0.68000</td>\n",
       "      <td>-4.0</td>\n",
       "    </tr>\n",
       "    <tr>\n",
       "      <th>59196</th>\n",
       "      <td>9900000000233</td>\n",
       "      <td>Amandes</td>\n",
       "      <td>Biosic</td>\n",
       "      <td>b</td>\n",
       "      <td></td>\n",
       "      <td></td>\n",
       "      <td></td>\n",
       "      <td></td>\n",
       "      <td></td>\n",
       "      <td>0.0</td>\n",
       "      <td>2406.0</td>\n",
       "      <td>NaN</td>\n",
       "      <td>3.73</td>\n",
       "      <td>NaN</td>\n",
       "      <td>3.89</td>\n",
       "      <td>12.2</td>\n",
       "      <td>21.22</td>\n",
       "      <td>0.10000</td>\n",
       "      <td>0.0</td>\n",
       "    </tr>\n",
       "    <tr>\n",
       "      <th>59197</th>\n",
       "      <td>99111250</td>\n",
       "      <td>Thé vert Earl grey</td>\n",
       "      <td>Lobodis</td>\n",
       "      <td>c</td>\n",
       "      <td>Beverages</td>\n",
       "      <td>Non-sugared beverages</td>\n",
       "      <td>boîte,carton</td>\n",
       "      <td>thé vert, arôme naturel bergamote avec autres ...</td>\n",
       "      <td>[ the-vert -&gt; fr:the-vert  ]  [ the -&gt; fr:the...</td>\n",
       "      <td>0.0</td>\n",
       "      <td>21.0</td>\n",
       "      <td>0.2</td>\n",
       "      <td>0.20</td>\n",
       "      <td>0.5</td>\n",
       "      <td>0.50</td>\n",
       "      <td>0.2</td>\n",
       "      <td>0.50</td>\n",
       "      <td>0.02540</td>\n",
       "      <td>2.0</td>\n",
       "    </tr>\n",
       "  </tbody>\n",
       "</table>\n",
       "<p>59198 rows × 19 columns</p>\n",
       "</div>"
      ],
      "text/plain": [
       "                code                         product_name              brands  \\\n",
       "0              36252                       Lion Peanut x2            Sunridge   \n",
       "1           10187319                       Mini Confettis        Alice Délice   \n",
       "2           10207260           Praliné Amande Et Noisette        Alice Délice   \n",
       "3           40608754                Pepsi, Nouveau goût !               Pepsi   \n",
       "4           69161025            Tarte Poireaux Et Lardons            Bo Frost   \n",
       "...              ...                                  ...                 ...   \n",
       "59193  9782211109758           Verrine Cheescake Myrtille              Kayser   \n",
       "59194  9782401029101                         Fiche Brevet              Hatier   \n",
       "59195  9847548283004  Tartines craquantes bio au sarrasin  Le Pain des fleurs   \n",
       "59196  9900000000233                              Amandes              Biosic   \n",
       "59197       99111250                   Thé vert Earl grey             Lobodis   \n",
       "\n",
       "      nutrition_grade_fr         pnns_groups_1          pnns_groups_2  \\\n",
       "0                      e               unknown                unknown   \n",
       "1                      d                                                \n",
       "2                      d                                                \n",
       "3                      e             Beverages    Sweetened beverages   \n",
       "4                      d                                                \n",
       "...                  ...                   ...                    ...   \n",
       "59193                  d                                                \n",
       "59194                  b                                                \n",
       "59195                  a  Cereals and potatoes                  Bread   \n",
       "59196                  b                                                \n",
       "59197                  c             Beverages  Non-sugared beverages   \n",
       "\n",
       "                           packaging  \\\n",
       "0                                      \n",
       "1                                      \n",
       "2                                      \n",
       "3                  Canette aluminium   \n",
       "4                                      \n",
       "...                              ...   \n",
       "59193                                  \n",
       "59194                                  \n",
       "59195  Boîte,Carton,Sachet,Plastique   \n",
       "59196                                  \n",
       "59197                   boîte,carton   \n",
       "\n",
       "                                        ingredients_text  \\\n",
       "0      Milk chocolate coating (evaporated cane juice,...   \n",
       "1                                                          \n",
       "2                                                          \n",
       "3      Eau gazéifiée, sucre, colorant caramel E150d, ...   \n",
       "4                                                          \n",
       "...                                                  ...   \n",
       "59193                                                      \n",
       "59194                                                      \n",
       "59195                                                      \n",
       "59196                                                      \n",
       "59197  thé vert, arôme naturel bergamote avec autres ...   \n",
       "\n",
       "                                               additives  \\\n",
       "0       [ milk-chocolate-coating -> en:milk-chocolate...   \n",
       "1                                                          \n",
       "2                                                          \n",
       "3       [ eau-gazeifiee -> fr:eau-gazeifiee  ]  [ eau...   \n",
       "4                                                          \n",
       "...                                                  ...   \n",
       "59193                                                      \n",
       "59194                                                      \n",
       "59195                                                      \n",
       "59196                                                      \n",
       "59197   [ the-vert -> fr:the-vert  ]  [ the -> fr:the...   \n",
       "\n",
       "       ingredients_from_palm_oil_n  energy_100g  fat_100g  saturated-fat_100g  \\\n",
       "0                              0.0       1883.0      20.0               12.50   \n",
       "1                              0.0       1753.0       NaN                0.80   \n",
       "2                              0.0       2406.0       NaN                2.90   \n",
       "3                              0.0        177.0       0.0                0.00   \n",
       "4                              0.0       1079.0       NaN               11.00   \n",
       "...                            ...          ...       ...                 ...   \n",
       "59193                          0.0       1084.0       NaN               12.00   \n",
       "59194                          0.0          4.0       NaN                1.00   \n",
       "59195                          0.0       1643.0       2.8                0.60   \n",
       "59196                          0.0       2406.0       NaN                3.73   \n",
       "59197                          0.0         21.0       0.2                0.20   \n",
       "\n",
       "       carbohydrates_100g  sugars_100g  fiber_100g  proteins_100g  salt_100g  \\\n",
       "0                    70.0        57.50         2.5           2.50    0.09652   \n",
       "1                     NaN        87.70         0.9           0.60    0.01000   \n",
       "2                     NaN        50.30         3.9           9.50    0.00300   \n",
       "3                    10.4        10.40         0.0           0.00    0.02540   \n",
       "4                     NaN         1.00         1.4           7.50    0.80000   \n",
       "...                   ...          ...         ...            ...        ...   \n",
       "59193                 NaN        10.50         0.0           8.70    0.29000   \n",
       "59194                 NaN         1.00        10.0          10.00   10.00000   \n",
       "59195                74.8         2.60         5.9          13.00    0.68000   \n",
       "59196                 NaN         3.89        12.2          21.22    0.10000   \n",
       "59197                 0.5         0.50         0.2           0.50    0.02540   \n",
       "\n",
       "       nutrition-score-fr_100g  \n",
       "0                         22.0  \n",
       "1                         14.0  \n",
       "2                         14.0  \n",
       "3                         13.0  \n",
       "4                         15.0  \n",
       "...                        ...  \n",
       "59193                     16.0  \n",
       "59194                      0.0  \n",
       "59195                     -4.0  \n",
       "59196                      0.0  \n",
       "59197                      2.0  \n",
       "\n",
       "[59198 rows x 19 columns]"
      ]
     },
     "execution_count": 35,
     "metadata": {},
     "output_type": "execute_result"
    }
   ],
   "source": [
    "df_final.drop('sodium_100g', axis=1)"
   ]
  },
  {
   "cell_type": "markdown",
   "metadata": {},
   "source": [
    "### Protein, Sugar, Saturated fat, Salt"
   ]
  },
  {
   "cell_type": "code",
   "execution_count": 36,
   "metadata": {},
   "outputs": [
    {
     "name": "stdout",
     "output_type": "stream",
     "text": [
      "77\n"
     ]
    },
    {
     "data": {
      "text/html": [
       "<div>\n",
       "<style scoped>\n",
       "    .dataframe tbody tr th:only-of-type {\n",
       "        vertical-align: middle;\n",
       "    }\n",
       "\n",
       "    .dataframe tbody tr th {\n",
       "        vertical-align: top;\n",
       "    }\n",
       "\n",
       "    .dataframe thead th {\n",
       "        text-align: right;\n",
       "    }\n",
       "</style>\n",
       "<table border=\"1\" class=\"dataframe\">\n",
       "  <thead>\n",
       "    <tr style=\"text-align: right;\">\n",
       "      <th></th>\n",
       "      <th>code</th>\n",
       "      <th>product_name</th>\n",
       "      <th>brands</th>\n",
       "      <th>nutrition_grade_fr</th>\n",
       "      <th>pnns_groups_1</th>\n",
       "      <th>pnns_groups_2</th>\n",
       "      <th>packaging</th>\n",
       "      <th>ingredients_text</th>\n",
       "      <th>additives</th>\n",
       "      <th>ingredients_from_palm_oil_n</th>\n",
       "      <th>energy_100g</th>\n",
       "      <th>fat_100g</th>\n",
       "      <th>saturated-fat_100g</th>\n",
       "      <th>carbohydrates_100g</th>\n",
       "      <th>sugars_100g</th>\n",
       "      <th>fiber_100g</th>\n",
       "      <th>proteins_100g</th>\n",
       "      <th>salt_100g</th>\n",
       "      <th>sodium_100g</th>\n",
       "      <th>nutrition-score-fr_100g</th>\n",
       "    </tr>\n",
       "  </thead>\n",
       "  <tbody>\n",
       "    <tr>\n",
       "      <th>177</th>\n",
       "      <td>24463061163</td>\n",
       "      <td>Sriracha Hot Chili Sauce</td>\n",
       "      <td>Huy Fong foods, Huy Fong Foods  Inc.</td>\n",
       "      <td>b</td>\n",
       "      <td>Fat and sauces</td>\n",
       "      <td>Dressings and sauces</td>\n",
       "      <td>plastic bottle</td>\n",
       "      <td>Chili, Sugar, Salt, Garlic, Distilled Vinegar,...</td>\n",
       "      <td>[ chili -&gt; en:chili  ]  [ sugar -&gt; en:sugar  ...</td>\n",
       "      <td>0.0</td>\n",
       "      <td>NaN</td>\n",
       "      <td>NaN</td>\n",
       "      <td>NaN</td>\n",
       "      <td>NaN</td>\n",
       "      <td>NaN</td>\n",
       "      <td>0.0</td>\n",
       "      <td>NaN</td>\n",
       "      <td>NaN</td>\n",
       "      <td>NaN</td>\n",
       "      <td>0.0</td>\n",
       "    </tr>\n",
       "    <tr>\n",
       "      <th>302</th>\n",
       "      <td>41500053448</td>\n",
       "      <td>Classic Yellow</td>\n",
       "      <td>French's</td>\n",
       "      <td>b</td>\n",
       "      <td>Fat and sauces</td>\n",
       "      <td>Dressings and sauces</td>\n",
       "      <td>Plastique,Flacon</td>\n",
       "      <td>vinaigre, eau, graines de moutarde, sel, papri...</td>\n",
       "      <td>[ vinaigre -&gt; fr:vinaigre  ]  [ eau -&gt; fr:eau...</td>\n",
       "      <td>0.0</td>\n",
       "      <td>NaN</td>\n",
       "      <td>NaN</td>\n",
       "      <td>NaN</td>\n",
       "      <td>NaN</td>\n",
       "      <td>NaN</td>\n",
       "      <td>0.0</td>\n",
       "      <td>NaN</td>\n",
       "      <td>NaN</td>\n",
       "      <td>NaN</td>\n",
       "      <td>0.0</td>\n",
       "    </tr>\n",
       "    <tr>\n",
       "      <th>315</th>\n",
       "      <td>42272010516</td>\n",
       "      <td>Nouilles chinoises et légumes</td>\n",
       "      <td>Amy's kitchen</td>\n",
       "      <td>b</td>\n",
       "      <td>Composite foods</td>\n",
       "      <td>One-dish meals</td>\n",
       "      <td></td>\n",
       "      <td></td>\n",
       "      <td></td>\n",
       "      <td>0.0</td>\n",
       "      <td>NaN</td>\n",
       "      <td>NaN</td>\n",
       "      <td>NaN</td>\n",
       "      <td>NaN</td>\n",
       "      <td>NaN</td>\n",
       "      <td>0.0</td>\n",
       "      <td>NaN</td>\n",
       "      <td>NaN</td>\n",
       "      <td>NaN</td>\n",
       "      <td>0.0</td>\n",
       "    </tr>\n",
       "    <tr>\n",
       "      <th>626</th>\n",
       "      <td>87703168787</td>\n",
       "      <td>Mirin</td>\n",
       "      <td>Sukina</td>\n",
       "      <td>b</td>\n",
       "      <td></td>\n",
       "      <td>Alcoholic beverages</td>\n",
       "      <td>Bouteille</td>\n",
       "      <td>Fructose, Glucose, Sorbitol-D, Vinaigre, Sucre...</td>\n",
       "      <td>[ fructose -&gt; fr:fructose  ]  [ glucose -&gt; fr...</td>\n",
       "      <td>0.0</td>\n",
       "      <td>NaN</td>\n",
       "      <td>NaN</td>\n",
       "      <td>NaN</td>\n",
       "      <td>NaN</td>\n",
       "      <td>NaN</td>\n",
       "      <td>0.0</td>\n",
       "      <td>NaN</td>\n",
       "      <td>NaN</td>\n",
       "      <td>NaN</td>\n",
       "      <td>0.0</td>\n",
       "    </tr>\n",
       "    <tr>\n",
       "      <th>681</th>\n",
       "      <td>949453</td>\n",
       "      <td>Sparkling Scottish Mountain Water</td>\n",
       "      <td>Marks &amp; Spencer</td>\n",
       "      <td>b</td>\n",
       "      <td>Beverages</td>\n",
       "      <td>Non-sugared beverages</td>\n",
       "      <td>Bouteille,Plastique</td>\n",
       "      <td>eau</td>\n",
       "      <td>[ eau -&gt; fr:eau  ]</td>\n",
       "      <td>0.0</td>\n",
       "      <td>NaN</td>\n",
       "      <td>NaN</td>\n",
       "      <td>NaN</td>\n",
       "      <td>NaN</td>\n",
       "      <td>NaN</td>\n",
       "      <td>0.0</td>\n",
       "      <td>NaN</td>\n",
       "      <td>NaN</td>\n",
       "      <td>NaN</td>\n",
       "      <td>0.0</td>\n",
       "    </tr>\n",
       "  </tbody>\n",
       "</table>\n",
       "</div>"
      ],
      "text/plain": [
       "            code                       product_name  \\\n",
       "177  24463061163           Sriracha Hot Chili Sauce   \n",
       "302  41500053448                     Classic Yellow   \n",
       "315  42272010516      Nouilles chinoises et légumes   \n",
       "626  87703168787                              Mirin   \n",
       "681       949453  Sparkling Scottish Mountain Water   \n",
       "\n",
       "                                   brands nutrition_grade_fr    pnns_groups_1  \\\n",
       "177  Huy Fong foods, Huy Fong Foods  Inc.                  b   Fat and sauces   \n",
       "302                              French's                  b   Fat and sauces   \n",
       "315                         Amy's kitchen                  b  Composite foods   \n",
       "626                                Sukina                  b                    \n",
       "681                       Marks & Spencer                  b        Beverages   \n",
       "\n",
       "             pnns_groups_2            packaging  \\\n",
       "177   Dressings and sauces       plastic bottle   \n",
       "302   Dressings and sauces     Plastique,Flacon   \n",
       "315         One-dish meals                        \n",
       "626    Alcoholic beverages            Bouteille   \n",
       "681  Non-sugared beverages  Bouteille,Plastique   \n",
       "\n",
       "                                      ingredients_text  \\\n",
       "177  Chili, Sugar, Salt, Garlic, Distilled Vinegar,...   \n",
       "302  vinaigre, eau, graines de moutarde, sel, papri...   \n",
       "315                                                      \n",
       "626  Fructose, Glucose, Sorbitol-D, Vinaigre, Sucre...   \n",
       "681                                                eau   \n",
       "\n",
       "                                             additives  \\\n",
       "177   [ chili -> en:chili  ]  [ sugar -> en:sugar  ...   \n",
       "302   [ vinaigre -> fr:vinaigre  ]  [ eau -> fr:eau...   \n",
       "315                                                      \n",
       "626   [ fructose -> fr:fructose  ]  [ glucose -> fr...   \n",
       "681                                [ eau -> fr:eau  ]    \n",
       "\n",
       "     ingredients_from_palm_oil_n  energy_100g  fat_100g  saturated-fat_100g  \\\n",
       "177                          0.0          NaN       NaN                 NaN   \n",
       "302                          0.0          NaN       NaN                 NaN   \n",
       "315                          0.0          NaN       NaN                 NaN   \n",
       "626                          0.0          NaN       NaN                 NaN   \n",
       "681                          0.0          NaN       NaN                 NaN   \n",
       "\n",
       "     carbohydrates_100g  sugars_100g  fiber_100g  proteins_100g  salt_100g  \\\n",
       "177                 NaN          NaN         0.0            NaN        NaN   \n",
       "302                 NaN          NaN         0.0            NaN        NaN   \n",
       "315                 NaN          NaN         0.0            NaN        NaN   \n",
       "626                 NaN          NaN         0.0            NaN        NaN   \n",
       "681                 NaN          NaN         0.0            NaN        NaN   \n",
       "\n",
       "     sodium_100g  nutrition-score-fr_100g  \n",
       "177          NaN                      0.0  \n",
       "302          NaN                      0.0  \n",
       "315          NaN                      0.0  \n",
       "626          NaN                      0.0  \n",
       "681          NaN                      0.0  "
      ]
     },
     "execution_count": 36,
     "metadata": {},
     "output_type": "execute_result"
    }
   ],
   "source": [
    "mask = df_final['proteins_100g'].isna() & df_final['sugars_100g'].isna() & df_final['saturated-fat_100g'].isna()\n",
    "print(df_final.loc[mask, :].shape[0])\n",
    "df_final.loc[mask, :].head()"
   ]
  },
  {
   "cell_type": "code",
   "execution_count": 37,
   "metadata": {},
   "outputs": [],
   "source": [
    "df_final.dropna(subset=['proteins_100g'], inplace=True)"
   ]
  },
  {
   "cell_type": "code",
   "execution_count": 38,
   "metadata": {},
   "outputs": [
    {
     "data": {
      "text/plain": [
       "fat_100g              16735\n",
       "carbohydrates_100g    16789\n",
       "dtype: int64"
      ]
     },
     "execution_count": 38,
     "metadata": {},
     "output_type": "execute_result"
    }
   ],
   "source": [
    "missing_values(df_final)"
   ]
  },
  {
   "cell_type": "markdown",
   "metadata": {},
   "source": [
    "#### Carbohydrates, Fat"
   ]
  },
  {
   "cell_type": "code",
   "execution_count": 39,
   "metadata": {},
   "outputs": [
    {
     "data": {
      "text/plain": [
       "224"
      ]
     },
     "execution_count": 39,
     "metadata": {},
     "output_type": "execute_result"
    }
   ],
   "source": [
    "mask = (~df_final['carbohydrates_100g'].isna() & df_final['fat_100g'].isna()) | (df_final['carbohydrates_100g'].isna() & ~df_final['fat_100g'].isna())\n",
    "df_final.loc[mask, :].shape[0]"
   ]
  },
  {
   "cell_type": "code",
   "execution_count": 40,
   "metadata": {},
   "outputs": [
    {
     "name": "stdout",
     "output_type": "stream",
     "text": [
      "Median of carbohydrates_100g: 15.0\n"
     ]
    },
    {
     "data": {
      "image/png": "[encoded data removed]",
      "text/plain": [
       "<Figure size 640x480 with 1 Axes>"
      ]
     },
     "metadata": {},
     "output_type": "display_data"
    },
    {
     "name": "stdout",
     "output_type": "stream",
     "text": [
      "Median of fat_100g: 7.0\n"
     ]
    },
    {
     "data": {
      "image/png": "[encoded data removed]",
      "text/plain": [
       "<Figure size 640x480 with 1 Axes>"
      ]
     },
     "metadata": {},
     "output_type": "display_data"
    }
   ],
   "source": [
    "for var in ['carbohydrates_100g', 'fat_100g']:\n",
    "    print(f'Median of {var}: {df_final[var].median()}')\n",
    "    df_final[var].hist(density=True, bins=20, range=(0,150))\n",
    "    plt.show()"
   ]
  },
  {
   "cell_type": "code",
   "execution_count": 41,
   "metadata": {},
   "outputs": [
    {
     "data": {
      "text/html": [
       "<div>\n",
       "<style scoped>\n",
       "    .dataframe tbody tr th:only-of-type {\n",
       "        vertical-align: middle;\n",
       "    }\n",
       "\n",
       "    .dataframe tbody tr th {\n",
       "        vertical-align: top;\n",
       "    }\n",
       "\n",
       "    .dataframe thead th {\n",
       "        text-align: right;\n",
       "    }\n",
       "</style>\n",
       "<table border=\"1\" class=\"dataframe\">\n",
       "  <thead>\n",
       "    <tr style=\"text-align: right;\">\n",
       "      <th></th>\n",
       "      <th>carbohydrates_100g</th>\n",
       "      <th>fat_100g</th>\n",
       "    </tr>\n",
       "    <tr>\n",
       "      <th>pnns_groups_1</th>\n",
       "      <th></th>\n",
       "      <th></th>\n",
       "    </tr>\n",
       "  </thead>\n",
       "  <tbody>\n",
       "    <tr>\n",
       "      <th></th>\n",
       "      <td>27.287103</td>\n",
       "      <td>16.439672</td>\n",
       "    </tr>\n",
       "    <tr>\n",
       "      <th>Beverages</th>\n",
       "      <td>19.435535</td>\n",
       "      <td>2.702240</td>\n",
       "    </tr>\n",
       "    <tr>\n",
       "      <th>Cereals and potatoes</th>\n",
       "      <td>21.946965</td>\n",
       "      <td>7.589650</td>\n",
       "    </tr>\n",
       "    <tr>\n",
       "      <th>Composite foods</th>\n",
       "      <td>10.139740</td>\n",
       "      <td>5.284835</td>\n",
       "    </tr>\n",
       "    <tr>\n",
       "      <th>Fat and sauces</th>\n",
       "      <td>10.188086</td>\n",
       "      <td>36.122356</td>\n",
       "    </tr>\n",
       "    <tr>\n",
       "      <th>Fish Meat Eggs</th>\n",
       "      <td>3.204735</td>\n",
       "      <td>11.943700</td>\n",
       "    </tr>\n",
       "    <tr>\n",
       "      <th>Fruits and vegetables</th>\n",
       "      <td>19.076729</td>\n",
       "      <td>8.489372</td>\n",
       "    </tr>\n",
       "    <tr>\n",
       "      <th>Milk and dairy products</th>\n",
       "      <td>10.032733</td>\n",
       "      <td>11.786845</td>\n",
       "    </tr>\n",
       "    <tr>\n",
       "      <th>Salty snacks</th>\n",
       "      <td>20.230186</td>\n",
       "      <td>16.354829</td>\n",
       "    </tr>\n",
       "    <tr>\n",
       "      <th>Sugary snacks</th>\n",
       "      <td>16.210857</td>\n",
       "      <td>13.727815</td>\n",
       "    </tr>\n",
       "    <tr>\n",
       "      <th>cereals-and-potatoes</th>\n",
       "      <td>NaN</td>\n",
       "      <td>NaN</td>\n",
       "    </tr>\n",
       "    <tr>\n",
       "      <th>fruits-and-vegetables</th>\n",
       "      <td>8.526734</td>\n",
       "      <td>2.608923</td>\n",
       "    </tr>\n",
       "    <tr>\n",
       "      <th>sugary-snacks</th>\n",
       "      <td>4.315935</td>\n",
       "      <td>5.660780</td>\n",
       "    </tr>\n",
       "    <tr>\n",
       "      <th>unknown</th>\n",
       "      <td>26.944401</td>\n",
       "      <td>13.857168</td>\n",
       "    </tr>\n",
       "  </tbody>\n",
       "</table>\n",
       "</div>"
      ],
      "text/plain": [
       "                         carbohydrates_100g   fat_100g\n",
       "pnns_groups_1                                         \n",
       "                                  27.287103  16.439672\n",
       "Beverages                         19.435535   2.702240\n",
       "Cereals and potatoes              21.946965   7.589650\n",
       "Composite foods                   10.139740   5.284835\n",
       "Fat and sauces                    10.188086  36.122356\n",
       "Fish Meat Eggs                     3.204735  11.943700\n",
       "Fruits and vegetables             19.076729   8.489372\n",
       "Milk and dairy products           10.032733  11.786845\n",
       "Salty snacks                      20.230186  16.354829\n",
       "Sugary snacks                     16.210857  13.727815\n",
       "cereals-and-potatoes                    NaN        NaN\n",
       "fruits-and-vegetables              8.526734   2.608923\n",
       "sugary-snacks                      4.315935   5.660780\n",
       "unknown                           26.944401  13.857168"
      ]
     },
     "execution_count": 41,
     "metadata": {},
     "output_type": "execute_result"
    }
   ],
   "source": [
    "df_final.groupby(['pnns_groups_1'])[['carbohydrates_100g', 'fat_100g']].std()"
   ]
  },
  {
   "cell_type": "code",
   "execution_count": 42,
   "metadata": {},
   "outputs": [
    {
     "data": {
      "text/html": [
       "<div>\n",
       "<style scoped>\n",
       "    .dataframe tbody tr th:only-of-type {\n",
       "        vertical-align: middle;\n",
       "    }\n",
       "\n",
       "    .dataframe tbody tr th {\n",
       "        vertical-align: top;\n",
       "    }\n",
       "\n",
       "    .dataframe thead th {\n",
       "        text-align: right;\n",
       "    }\n",
       "</style>\n",
       "<table border=\"1\" class=\"dataframe\">\n",
       "  <thead>\n",
       "    <tr style=\"text-align: right;\">\n",
       "      <th></th>\n",
       "      <th>carbohydrates_100g</th>\n",
       "      <th>fat_100g</th>\n",
       "    </tr>\n",
       "    <tr>\n",
       "      <th>pnns_groups_2</th>\n",
       "      <th></th>\n",
       "      <th></th>\n",
       "    </tr>\n",
       "  </thead>\n",
       "  <tbody>\n",
       "    <tr>\n",
       "      <th></th>\n",
       "      <td>27.175407</td>\n",
       "      <td>17.453212</td>\n",
       "    </tr>\n",
       "    <tr>\n",
       "      <th>Alcoholic beverages</th>\n",
       "      <td>5.705972</td>\n",
       "      <td>2.797812</td>\n",
       "    </tr>\n",
       "    <tr>\n",
       "      <th>Appetizers</th>\n",
       "      <td>15.139185</td>\n",
       "      <td>13.643736</td>\n",
       "    </tr>\n",
       "    <tr>\n",
       "      <th>Artificially sweetened beverages</th>\n",
       "      <td>15.823705</td>\n",
       "      <td>0.291835</td>\n",
       "    </tr>\n",
       "    <tr>\n",
       "      <th>Biscuits and cakes</th>\n",
       "      <td>10.473087</td>\n",
       "      <td>7.372498</td>\n",
       "    </tr>\n",
       "    <tr>\n",
       "      <th>Bread</th>\n",
       "      <td>13.198456</td>\n",
       "      <td>6.144182</td>\n",
       "    </tr>\n",
       "    <tr>\n",
       "      <th>Breakfast cereals</th>\n",
       "      <td>9.515719</td>\n",
       "      <td>6.481570</td>\n",
       "    </tr>\n",
       "    <tr>\n",
       "      <th>Cereals</th>\n",
       "      <td>22.326693</td>\n",
       "      <td>6.537892</td>\n",
       "    </tr>\n",
       "    <tr>\n",
       "      <th>Cheese</th>\n",
       "      <td>3.025530</td>\n",
       "      <td>8.963325</td>\n",
       "    </tr>\n",
       "    <tr>\n",
       "      <th>Chocolate products</th>\n",
       "      <td>13.406222</td>\n",
       "      <td>10.542208</td>\n",
       "    </tr>\n",
       "    <tr>\n",
       "      <th>Dairy desserts</th>\n",
       "      <td>8.526159</td>\n",
       "      <td>5.206483</td>\n",
       "    </tr>\n",
       "    <tr>\n",
       "      <th>Dressings and sauces</th>\n",
       "      <td>10.907700</td>\n",
       "      <td>22.983865</td>\n",
       "    </tr>\n",
       "    <tr>\n",
       "      <th>Dried fruits</th>\n",
       "      <td>20.059828</td>\n",
       "      <td>18.170436</td>\n",
       "    </tr>\n",
       "    <tr>\n",
       "      <th>Eggs</th>\n",
       "      <td>0.151207</td>\n",
       "      <td>1.092336</td>\n",
       "    </tr>\n",
       "    <tr>\n",
       "      <th>Fats</th>\n",
       "      <td>2.828193</td>\n",
       "      <td>19.119776</td>\n",
       "    </tr>\n",
       "    <tr>\n",
       "      <th>Fish and seafood</th>\n",
       "      <td>3.556382</td>\n",
       "      <td>10.795881</td>\n",
       "    </tr>\n",
       "    <tr>\n",
       "      <th>Fruit juices</th>\n",
       "      <td>2.435417</td>\n",
       "      <td>0.244390</td>\n",
       "    </tr>\n",
       "    <tr>\n",
       "      <th>Fruit nectars</th>\n",
       "      <td>2.145735</td>\n",
       "      <td>0.185179</td>\n",
       "    </tr>\n",
       "    <tr>\n",
       "      <th>Fruits</th>\n",
       "      <td>15.892730</td>\n",
       "      <td>8.052725</td>\n",
       "    </tr>\n",
       "    <tr>\n",
       "      <th>Ice cream</th>\n",
       "      <td>6.707072</td>\n",
       "      <td>6.432320</td>\n",
       "    </tr>\n",
       "    <tr>\n",
       "      <th>Legumes</th>\n",
       "      <td>17.070514</td>\n",
       "      <td>14.090513</td>\n",
       "    </tr>\n",
       "    <tr>\n",
       "      <th>Meat</th>\n",
       "      <td>4.771147</td>\n",
       "      <td>7.396823</td>\n",
       "    </tr>\n",
       "    <tr>\n",
       "      <th>Milk and yogurt</th>\n",
       "      <td>5.589132</td>\n",
       "      <td>8.278294</td>\n",
       "    </tr>\n",
       "    <tr>\n",
       "      <th>Non-sugared beverages</th>\n",
       "      <td>18.913994</td>\n",
       "      <td>4.260425</td>\n",
       "    </tr>\n",
       "    <tr>\n",
       "      <th>Nuts</th>\n",
       "      <td>11.773887</td>\n",
       "      <td>15.425349</td>\n",
       "    </tr>\n",
       "    <tr>\n",
       "      <th>One-dish meals</th>\n",
       "      <td>9.496209</td>\n",
       "      <td>5.447528</td>\n",
       "    </tr>\n",
       "    <tr>\n",
       "      <th>Pizza pies and quiche</th>\n",
       "      <td>4.465988</td>\n",
       "      <td>3.543503</td>\n",
       "    </tr>\n",
       "    <tr>\n",
       "      <th>Potatoes</th>\n",
       "      <td>11.996884</td>\n",
       "      <td>4.651059</td>\n",
       "    </tr>\n",
       "    <tr>\n",
       "      <th>Processed meat</th>\n",
       "      <td>1.914146</td>\n",
       "      <td>13.001546</td>\n",
       "    </tr>\n",
       "    <tr>\n",
       "      <th>Salty and fatty products</th>\n",
       "      <td>10.193500</td>\n",
       "      <td>9.080149</td>\n",
       "    </tr>\n",
       "    <tr>\n",
       "      <th>Sandwich</th>\n",
       "      <td>5.152180</td>\n",
       "      <td>3.563298</td>\n",
       "    </tr>\n",
       "    <tr>\n",
       "      <th>Soups</th>\n",
       "      <td>1.448858</td>\n",
       "      <td>1.324804</td>\n",
       "    </tr>\n",
       "    <tr>\n",
       "      <th>Sweetened beverages</th>\n",
       "      <td>26.977624</td>\n",
       "      <td>2.536149</td>\n",
       "    </tr>\n",
       "    <tr>\n",
       "      <th>Sweets</th>\n",
       "      <td>20.245551</td>\n",
       "      <td>12.842418</td>\n",
       "    </tr>\n",
       "    <tr>\n",
       "      <th>Tripe dishes</th>\n",
       "      <td>2.618035</td>\n",
       "      <td>8.861845</td>\n",
       "    </tr>\n",
       "    <tr>\n",
       "      <th>Vegetables</th>\n",
       "      <td>8.701831</td>\n",
       "      <td>4.123185</td>\n",
       "    </tr>\n",
       "    <tr>\n",
       "      <th>cereals</th>\n",
       "      <td>NaN</td>\n",
       "      <td>NaN</td>\n",
       "    </tr>\n",
       "    <tr>\n",
       "      <th>fruits</th>\n",
       "      <td>3.952680</td>\n",
       "      <td>5.673856</td>\n",
       "    </tr>\n",
       "    <tr>\n",
       "      <th>pastries</th>\n",
       "      <td>4.315935</td>\n",
       "      <td>5.660780</td>\n",
       "    </tr>\n",
       "    <tr>\n",
       "      <th>unknown</th>\n",
       "      <td>26.944401</td>\n",
       "      <td>13.857168</td>\n",
       "    </tr>\n",
       "    <tr>\n",
       "      <th>vegetables</th>\n",
       "      <td>8.668792</td>\n",
       "      <td>2.387395</td>\n",
       "    </tr>\n",
       "  </tbody>\n",
       "</table>\n",
       "</div>"
      ],
      "text/plain": [
       "                                  carbohydrates_100g   fat_100g\n",
       "pnns_groups_2                                                  \n",
       "                                           27.175407  17.453212\n",
       "Alcoholic beverages                         5.705972   2.797812\n",
       "Appetizers                                 15.139185  13.643736\n",
       "Artificially sweetened beverages           15.823705   0.291835\n",
       "Biscuits and cakes                         10.473087   7.372498\n",
       "Bread                                      13.198456   6.144182\n",
       "Breakfast cereals                           9.515719   6.481570\n",
       "Cereals                                    22.326693   6.537892\n",
       "Cheese                                      3.025530   8.963325\n",
       "Chocolate products                         13.406222  10.542208\n",
       "Dairy desserts                              8.526159   5.206483\n",
       "Dressings and sauces                       10.907700  22.983865\n",
       "Dried fruits                               20.059828  18.170436\n",
       "Eggs                                        0.151207   1.092336\n",
       "Fats                                        2.828193  19.119776\n",
       "Fish and seafood                            3.556382  10.795881\n",
       "Fruit juices                                2.435417   0.244390\n",
       "Fruit nectars                               2.145735   0.185179\n",
       "Fruits                                     15.892730   8.052725\n",
       "Ice cream                                   6.707072   6.432320\n",
       "Legumes                                    17.070514  14.090513\n",
       "Meat                                        4.771147   7.396823\n",
       "Milk and yogurt                             5.589132   8.278294\n",
       "Non-sugared beverages                      18.913994   4.260425\n",
       "Nuts                                       11.773887  15.425349\n",
       "One-dish meals                              9.496209   5.447528\n",
       "Pizza pies and quiche                       4.465988   3.543503\n",
       "Potatoes                                   11.996884   4.651059\n",
       "Processed meat                              1.914146  13.001546\n",
       "Salty and fatty products                   10.193500   9.080149\n",
       "Sandwich                                    5.152180   3.563298\n",
       "Soups                                       1.448858   1.324804\n",
       "Sweetened beverages                        26.977624   2.536149\n",
       "Sweets                                     20.245551  12.842418\n",
       "Tripe dishes                                2.618035   8.861845\n",
       "Vegetables                                  8.701831   4.123185\n",
       "cereals                                          NaN        NaN\n",
       "fruits                                      3.952680   5.673856\n",
       "pastries                                    4.315935   5.660780\n",
       "unknown                                    26.944401  13.857168\n",
       "vegetables                                  8.668792   2.387395"
      ]
     },
     "execution_count": 42,
     "metadata": {},
     "output_type": "execute_result"
    }
   ],
   "source": [
    "df_final.groupby(['pnns_groups_2'])[['carbohydrates_100g', 'fat_100g']].std()"
   ]
  },
  {
   "cell_type": "code",
   "execution_count": 43,
   "metadata": {},
   "outputs": [],
   "source": [
    "pnns_2_med_df = df_final.groupby(['pnns_groups_2'])[['carbohydrates_100g', 'fat_100g', 'energy_100g',\n",
    " 'saturated-fat_100g',\n",
    " 'sugars_100g',\n",
    " 'fiber_100g',\n",
    " 'proteins_100g',\n",
    " 'salt_100g',\n",
    " 'sodium_100g',\n",
    " 'nutrition-score-fr_100g']].median()"
   ]
  },
  {
   "cell_type": "code",
   "execution_count": 44,
   "metadata": {},
   "outputs": [
    {
     "data": {
      "text/plain": [
       "pnns_groups_2\n",
       "                            13526\n",
       "unknown                       926\n",
       "Non-sugared beverages         275\n",
       "Fruit juices                  227\n",
       "Sweets                        156\n",
       "Cheese                        154\n",
       "Biscuits and cakes            134\n",
       "One-dish meals                128\n",
       "Dressings and sauces          111\n",
       "Cereals                       107\n",
       "Milk and yogurt                93\n",
       "Sweetened beverages            89\n",
       "Fats                           88\n",
       "Fish and seafood               85\n",
       "Processed meat                 79\n",
       "Chocolate products             66\n",
       "Fruits                         63\n",
       "Vegetables                     62\n",
       "Bread                          56\n",
       "Breakfast cereals              48\n",
       "Appetizers                     43\n",
       "Nuts                           32\n",
       "Meat                           31\n",
       "Dried fruits                   29\n",
       "Fruit nectars                  27\n",
       "Legumes                        23\n",
       "pastries                       21\n",
       "Alcoholic beverages            19\n",
       "Dairy desserts                 19\n",
       "Pizza pies and quiche          15\n",
       "vegetables                     14\n",
       "Eggs                           13\n",
       "Soups                          10\n",
       "Ice cream                      10\n",
       "Sandwich                        5\n",
       "Potatoes                        2\n",
       "Tripe dishes                    1\n",
       "fruits                          1\n",
       "Salty and fatty products        1\n",
       "Name: count, dtype: int64"
      ]
     },
     "execution_count": 44,
     "metadata": {},
     "output_type": "execute_result"
    }
   ],
   "source": [
    "df_final.loc[df_final[\"carbohydrates_100g\"].isna(), \"pnns_groups_2\"].value_counts()"
   ]
  },
  {
   "cell_type": "code",
   "execution_count": 45,
   "metadata": {},
   "outputs": [],
   "source": [
    "# Reset index of pnns_2_med_df to ensure 'pnns_groups_2' is a column\n",
    "pnns_2_med_df.reset_index(inplace=True)\n",
    "\n",
    "# Merge based on \"pnns_groups_2\" to fill missing values\n",
    "filled_df = pd.merge(df_final, pnns_2_med_df[['pnns_groups_2',\n",
    "                    'energy_100g',\n",
    "                    'fat_100g',\n",
    "                    'saturated-fat_100g',\n",
    "                    'carbohydrates_100g',\n",
    "                    'sugars_100g',\n",
    "                    'fiber_100g',\n",
    "                    'proteins_100g',\n",
    "                    'salt_100g',\n",
    "                    'sodium_100g',\n",
    "                    'nutrition-score-fr_100g']], \n",
    "                     how='left', on='pnns_groups_2', suffixes=('', '_pnns'))\n",
    "\n",
    "# Update missing values in df_final\n",
    "df_final['carbohydrates_100g'] = df_final['carbohydrates_100g'].fillna(filled_df['carbohydrates_100g_pnns'])\n",
    "df_final['fat_100g'] = df_final['fat_100g'].fillna(filled_df['fat_100g_pnns'])\n"
   ]
  },
  {
   "cell_type": "code",
   "execution_count": 46,
   "metadata": {},
   "outputs": [
    {
     "data": {
      "text/plain": [
       "fat_100g              38\n",
       "carbohydrates_100g    38\n",
       "dtype: int64"
      ]
     },
     "execution_count": 46,
     "metadata": {},
     "output_type": "execute_result"
    }
   ],
   "source": [
    "missing_values(df_final)"
   ]
  },
  {
   "cell_type": "code",
   "execution_count": 47,
   "metadata": {},
   "outputs": [],
   "source": [
    "df_final.dropna(inplace=True)"
   ]
  },
  {
   "cell_type": "code",
   "execution_count": 48,
   "metadata": {},
   "outputs": [
    {
     "data": {
      "text/plain": [
       "Series([], dtype: int64)"
      ]
     },
     "execution_count": 48,
     "metadata": {},
     "output_type": "execute_result"
    }
   ],
   "source": [
    "missing_values(df_final)"
   ]
  },
  {
   "cell_type": "markdown",
   "metadata": {},
   "source": [
    "#### Calories"
   ]
  },
  {
   "cell_type": "code",
   "execution_count": 49,
   "metadata": {},
   "outputs": [],
   "source": [
    "df_final[\"energy_100g\"] = df_final[\"energy_100g\"]/4.184"
   ]
  },
  {
   "cell_type": "markdown",
   "metadata": {},
   "source": [
    "### Outliers"
   ]
  },
  {
   "cell_type": "code",
   "execution_count": 50,
   "metadata": {},
   "outputs": [],
   "source": [
    "for i,row in df_final.iterrows():\n",
    "    for variable in ['fat_100g',\n",
    "                    'saturated-fat_100g',\n",
    "                    'carbohydrates_100g',\n",
    "                    'sugars_100g',\n",
    "                    'fiber_100g',\n",
    "                    'proteins_100g',\n",
    "                    'salt_100g',\n",
    "                    'sodium_100g',\n",
    "                    'nutrition-score-fr_100g']:\n",
    "        if row[variable] > 100:\n",
    "            df_final.loc[i, variable] = filled_df.loc[i, f\"{variable}_pnns\"]\n",
    "    if row[\"energy_100g\"]>1000:\n",
    "        df_final.loc[i, variable] = filled_df.loc[i, \"energy_100g_pnns\"]\n",
    "    if row[\"saturated-fat_100g\"] > row[\"fat_100g\"]:\n",
    "        df_final.loc[i, variable] = filled_df.loc[i, \"saturated-fat_100g_pnns\"]\n",
    "    if row[\"sugars_100g\"] > row[\"carbohydrates_100g\"]:\n",
    "        df_final.loc[i, variable] = filled_df.loc[i, \"sugars_100g_pnns\"]\n"
   ]
  },
  {
   "cell_type": "code",
   "execution_count": 53,
   "metadata": {},
   "outputs": [],
   "source": [
    "df_final.to_csv(\"data/final_dataset.csv\")"
   ]
  }
 ],
 "metadata": {
  "kernelspec": {
   "display_name": "env_OC_P2",
   "language": "python",
   "name": "python3"
  },
  "language_info": {
   "codemirror_mode": {
    "name": "ipython",
    "version": 3
   },
   "file_extension": ".py",
   "mimetype": "text/x-python",
   "name": "python",
   "nbconvert_exporter": "python",
   "pygments_lexer": "ipython3",
   "version": "3.12.2"
  }
 },
 "nbformat": 4,
 "nbformat_minor": 2
}
