{
 "cells": [
  {
   "cell_type": "markdown",
   "metadata": {},
   "source": [
    "# Imports"
   ]
  },
  {
   "cell_type": "code",
   "execution_count": 57,
   "metadata": {},
   "outputs": [],
   "source": [
    "import pandas as pd\n",
    "\n",
    "import re\n",
    "import random\n",
    "\n",
    "import matplotlib.pyplot as plt\n",
    "\n",
    "from bs4 import BeautifulSoup\n",
    "from nltk.corpus import stopwords\n",
    "from nltk.stem import PorterStemmer\n",
    "import spacy"
   ]
  },
  {
   "cell_type": "code",
   "execution_count": 58,
   "metadata": {},
   "outputs": [],
   "source": [
    "df = pd.read_csv(\"QueryResults.csv\")"
   ]
  },
  {
   "cell_type": "markdown",
   "metadata": {},
   "source": [
    "# First exploration and processing"
   ]
  },
  {
   "cell_type": "markdown",
   "metadata": {},
   "source": [
    "## First sight"
   ]
  },
  {
   "cell_type": "code",
   "execution_count": 59,
   "metadata": {},
   "outputs": [
    {
     "data": {
      "text/html": [
       "<div>\n",
       "<style scoped>\n",
       "    .dataframe tbody tr th:only-of-type {\n",
       "        vertical-align: middle;\n",
       "    }\n",
       "\n",
       "    .dataframe tbody tr th {\n",
       "        vertical-align: top;\n",
       "    }\n",
       "\n",
       "    .dataframe thead th {\n",
       "        text-align: right;\n",
       "    }\n",
       "</style>\n",
       "<table border=\"1\" class=\"dataframe\">\n",
       "  <thead>\n",
       "    <tr style=\"text-align: right;\">\n",
       "      <th></th>\n",
       "      <th>Id</th>\n",
       "      <th>CreationDate</th>\n",
       "      <th>Body</th>\n",
       "      <th>Title</th>\n",
       "      <th>Tags</th>\n",
       "    </tr>\n",
       "  </thead>\n",
       "  <tbody>\n",
       "    <tr>\n",
       "      <th>0</th>\n",
       "      <td>39999988</td>\n",
       "      <td>2016-10-12 13:32:02</td>\n",
       "      <td>&lt;p&gt;I'm trying to use Java's Hibernate @Filter ...</td>\n",
       "      <td>Hibernate @Filter entity by @ManyToOne field</td>\n",
       "      <td>&lt;java&gt;&lt;hibernate&gt;&lt;filter&gt;&lt;field&gt;&lt;many-to-one&gt;</td>\n",
       "    </tr>\n",
       "    <tr>\n",
       "      <th>1</th>\n",
       "      <td>39999984</td>\n",
       "      <td>2016-10-12 13:31:59</td>\n",
       "      <td>&lt;p&gt;I have an image called graph.jpg in the dra...</td>\n",
       "      <td>How can you change the content of a drawable i...</td>\n",
       "      <td>&lt;java&gt;&lt;android&gt;&lt;image&gt;&lt;bitmap&gt;&lt;retrofit&gt;</td>\n",
       "    </tr>\n",
       "    <tr>\n",
       "      <th>2</th>\n",
       "      <td>39999927</td>\n",
       "      <td>2016-10-12 13:29:33</td>\n",
       "      <td>&lt;p&gt;Configure script fails when checking for C ...</td>\n",
       "      <td>C compiler not found when build openjdk</td>\n",
       "      <td>&lt;build&gt;&lt;compiler-errors&gt;&lt;configure&gt;&lt;java&gt;&lt;buil...</td>\n",
       "    </tr>\n",
       "    <tr>\n",
       "      <th>3</th>\n",
       "      <td>39999883</td>\n",
       "      <td>2016-10-12 13:28:08</td>\n",
       "      <td>&lt;p&gt;I have a data file which is a result of num...</td>\n",
       "      <td>plot 3D spherical parametric surface using non...</td>\n",
       "      <td>&lt;python&gt;&lt;plot&gt;&lt;3d&gt;&lt;surface&gt;&lt;non-uniform-distri...</td>\n",
       "    </tr>\n",
       "    <tr>\n",
       "      <th>4</th>\n",
       "      <td>39999882</td>\n",
       "      <td>2016-10-12 13:28:07</td>\n",
       "      <td>&lt;p&gt;It's possible to have something like this.&lt;...</td>\n",
       "      <td>NSManagedObject like Generic object</td>\n",
       "      <td>&lt;ios&gt;&lt;swift&gt;&lt;generics&gt;&lt;core-data&gt;&lt;swift3&gt;</td>\n",
       "    </tr>\n",
       "  </tbody>\n",
       "</table>\n",
       "</div>"
      ],
      "text/plain": [
       "         Id         CreationDate  \\\n",
       "0  39999988  2016-10-12 13:32:02   \n",
       "1  39999984  2016-10-12 13:31:59   \n",
       "2  39999927  2016-10-12 13:29:33   \n",
       "3  39999883  2016-10-12 13:28:08   \n",
       "4  39999882  2016-10-12 13:28:07   \n",
       "\n",
       "                                                Body  \\\n",
       "0  <p>I'm trying to use Java's Hibernate @Filter ...   \n",
       "1  <p>I have an image called graph.jpg in the dra...   \n",
       "2  <p>Configure script fails when checking for C ...   \n",
       "3  <p>I have a data file which is a result of num...   \n",
       "4  <p>It's possible to have something like this.<...   \n",
       "\n",
       "                                               Title  \\\n",
       "0       Hibernate @Filter entity by @ManyToOne field   \n",
       "1  How can you change the content of a drawable i...   \n",
       "2            C compiler not found when build openjdk   \n",
       "3  plot 3D spherical parametric surface using non...   \n",
       "4                NSManagedObject like Generic object   \n",
       "\n",
       "                                                Tags  \n",
       "0      <java><hibernate><filter><field><many-to-one>  \n",
       "1           <java><android><image><bitmap><retrofit>  \n",
       "2  <build><compiler-errors><configure><java><buil...  \n",
       "3  <python><plot><3d><surface><non-uniform-distri...  \n",
       "4          <ios><swift><generics><core-data><swift3>  "
      ]
     },
     "execution_count": 59,
     "metadata": {},
     "output_type": "execute_result"
    }
   ],
   "source": [
    "df.head()"
   ]
  },
  {
   "cell_type": "code",
   "execution_count": 60,
   "metadata": {},
   "outputs": [
    {
     "name": "stdout",
     "output_type": "stream",
     "text": [
      "<class 'pandas.core.frame.DataFrame'>\n",
      "RangeIndex: 50000 entries, 0 to 49999\n",
      "Data columns (total 5 columns):\n",
      " #   Column        Non-Null Count  Dtype \n",
      "---  ------        --------------  ----- \n",
      " 0   Id            50000 non-null  int64 \n",
      " 1   CreationDate  50000 non-null  object\n",
      " 2   Body          50000 non-null  object\n",
      " 3   Title         50000 non-null  object\n",
      " 4   Tags          50000 non-null  object\n",
      "dtypes: int64(1), object(4)\n",
      "memory usage: 1.9+ MB\n"
     ]
    }
   ],
   "source": [
    "df.info()"
   ]
  },
  {
   "cell_type": "code",
   "execution_count": 61,
   "metadata": {},
   "outputs": [],
   "source": [
    "df.drop(\"Id\", axis=1, inplace=True)"
   ]
  },
  {
   "cell_type": "markdown",
   "metadata": {},
   "source": [
    "## Droping duplicates"
   ]
  },
  {
   "cell_type": "code",
   "execution_count": 62,
   "metadata": {},
   "outputs": [],
   "source": [
    "df.drop_duplicates(subset=['Body'], inplace =True)"
   ]
  },
  {
   "cell_type": "code",
   "execution_count": 63,
   "metadata": {},
   "outputs": [
    {
     "name": "stdout",
     "output_type": "stream",
     "text": [
      "<class 'pandas.core.frame.DataFrame'>\n",
      "Int64Index: 49998 entries, 0 to 49999\n",
      "Data columns (total 4 columns):\n",
      " #   Column        Non-Null Count  Dtype \n",
      "---  ------        --------------  ----- \n",
      " 0   CreationDate  49998 non-null  object\n",
      " 1   Body          49998 non-null  object\n",
      " 2   Title         49998 non-null  object\n",
      " 3   Tags          49998 non-null  object\n",
      "dtypes: object(4)\n",
      "memory usage: 1.9+ MB\n"
     ]
    }
   ],
   "source": [
    "df.info()"
   ]
  },
  {
   "cell_type": "markdown",
   "metadata": {},
   "source": [
    "## Dates"
   ]
  },
  {
   "cell_type": "code",
   "execution_count": 64,
   "metadata": {},
   "outputs": [
    {
     "name": "stdout",
     "output_type": "stream",
     "text": [
      "Oldest question: 2016-07-24 12:50:43 \n",
      "Most recent question: 2016-10-12 13:32:02\n"
     ]
    }
   ],
   "source": [
    "print(\"Oldest question:\", df.CreationDate.min(), \"\\nMost recent question:\", df.CreationDate.max())"
   ]
  },
  {
   "cell_type": "code",
   "execution_count": 65,
   "metadata": {},
   "outputs": [],
   "source": [
    "df.drop(\"CreationDate\", axis=1, inplace=True)"
   ]
  },
  {
   "cell_type": "markdown",
   "metadata": {},
   "source": [
    "## Body and title"
   ]
  },
  {
   "cell_type": "code",
   "execution_count": 66,
   "metadata": {},
   "outputs": [
    {
     "name": "stdout",
     "output_type": "stream",
     "text": [
      "Title: Hibernate @Filter entity by @ManyToOne field \n",
      "\n",
      "Body: <p>I'm trying to use Java's Hibernate @Filter on a many to one relationship field, but when I enable the filter and try to call a getAll method using the StockDailyRecord Service from an AJAX I get this:</p>\n",
      "\n",
      "<pre><code>HTTP Status 500 - Request processing failed; \n",
      "nested exception is javax.persistence.PersistenceException:\n",
      "org.hibernate.exception.SQLGrammarException: could not extract ResultSet\n",
      "</code></pre>\n",
      "\n",
      "<p>This is my entity where I define the filter:</p>\n",
      "\n",
      "<pre><code>@Entity\n",
      "@Table(name = \"stock_daily_record\", catalog = \"mkyong\")\n",
      "@FilterDef(name=\"stockDailyRecordFilter\")\n",
      "@Filters({\n",
      "    @Filter(name=\"stockDailyRecordFilter\", condition=\"stock.name = 'My stock'\"),\n",
      "})\n",
      "public class StockDailyRecord extends Entity implements Serializable {\n",
      "         ...\n",
      "    @ManyToOne\n",
      "    @JoinColumn(name = \"stock_id\", referencedColumnName = \"id\", nullable = false )\n",
      "    public Stock getStock() {\n",
      "        return this.stock;\n",
      "    }\n",
      "}\n",
      "</code></pre>\n",
      "\n",
      "<p>However when I change the filter with the actual column in the database \"stock_id\" and compare it with the id I want the filter works without any exceptions.</p>\n",
      "\n",
      "<pre><code>@Filter(name=\"stockDailyRecordFilter\", condition=\"stock_id = 10\")\n",
      "</code></pre>\n",
      "\n",
      "<p>Here is how I enable the filter in the StockDailyRecordService:</p>\n",
      "\n",
      "<pre><code>    Session hSession = getSession();\n",
      "    if (isAnonymous) {\n",
      "        hSession.enableFilter(\"stockDailyRecordFilter\");\n",
      "    } else {\n",
      "        hSession.disableFilter(\"stockDailyRecordFilter\");\n",
      "    }\n",
      "</code></pre>\n",
      "\n",
      "<p>Also, when I try the filter on other properties (say the StockDailyRecord has field \"description\") it works just fine. Is there a way to access the \"name\" property of the Stock entity from the Filter condition, because I don't really want to do the approach with the \"stock_id = 10\"?</p>\n",
      "\n"
     ]
    }
   ],
   "source": [
    "print(\"Title:\", df.iloc[0].Title, \"\\n\\nBody:\", df.iloc[0].Body)"
   ]
  },
  {
   "cell_type": "code",
   "execution_count": 67,
   "metadata": {},
   "outputs": [],
   "source": [
    "df[\"text\"] = df[\"Title\"] + df[\"Body\"]\n",
    "df.drop(columns=[\"Title\", \"Body\"], inplace=True)"
   ]
  },
  {
   "cell_type": "code",
   "execution_count": 68,
   "metadata": {},
   "outputs": [
    {
     "data": {
      "text/html": [
       "<div>\n",
       "<style scoped>\n",
       "    .dataframe tbody tr th:only-of-type {\n",
       "        vertical-align: middle;\n",
       "    }\n",
       "\n",
       "    .dataframe tbody tr th {\n",
       "        vertical-align: top;\n",
       "    }\n",
       "\n",
       "    .dataframe thead th {\n",
       "        text-align: right;\n",
       "    }\n",
       "</style>\n",
       "<table border=\"1\" class=\"dataframe\">\n",
       "  <thead>\n",
       "    <tr style=\"text-align: right;\">\n",
       "      <th></th>\n",
       "      <th>Tags</th>\n",
       "      <th>text</th>\n",
       "    </tr>\n",
       "  </thead>\n",
       "  <tbody>\n",
       "    <tr>\n",
       "      <th>0</th>\n",
       "      <td>&lt;java&gt;&lt;hibernate&gt;&lt;filter&gt;&lt;field&gt;&lt;many-to-one&gt;</td>\n",
       "      <td>Hibernate @Filter entity by @ManyToOne field&lt;p...</td>\n",
       "    </tr>\n",
       "    <tr>\n",
       "      <th>1</th>\n",
       "      <td>&lt;java&gt;&lt;android&gt;&lt;image&gt;&lt;bitmap&gt;&lt;retrofit&gt;</td>\n",
       "      <td>How can you change the content of a drawable i...</td>\n",
       "    </tr>\n",
       "    <tr>\n",
       "      <th>2</th>\n",
       "      <td>&lt;build&gt;&lt;compiler-errors&gt;&lt;configure&gt;&lt;java&gt;&lt;buil...</td>\n",
       "      <td>C compiler not found when build openjdk&lt;p&gt;Conf...</td>\n",
       "    </tr>\n",
       "    <tr>\n",
       "      <th>3</th>\n",
       "      <td>&lt;python&gt;&lt;plot&gt;&lt;3d&gt;&lt;surface&gt;&lt;non-uniform-distri...</td>\n",
       "      <td>plot 3D spherical parametric surface using non...</td>\n",
       "    </tr>\n",
       "    <tr>\n",
       "      <th>4</th>\n",
       "      <td>&lt;ios&gt;&lt;swift&gt;&lt;generics&gt;&lt;core-data&gt;&lt;swift3&gt;</td>\n",
       "      <td>NSManagedObject like Generic object&lt;p&gt;It's pos...</td>\n",
       "    </tr>\n",
       "  </tbody>\n",
       "</table>\n",
       "</div>"
      ],
      "text/plain": [
       "                                                Tags  \\\n",
       "0      <java><hibernate><filter><field><many-to-one>   \n",
       "1           <java><android><image><bitmap><retrofit>   \n",
       "2  <build><compiler-errors><configure><java><buil...   \n",
       "3  <python><plot><3d><surface><non-uniform-distri...   \n",
       "4          <ios><swift><generics><core-data><swift3>   \n",
       "\n",
       "                                                text  \n",
       "0  Hibernate @Filter entity by @ManyToOne field<p...  \n",
       "1  How can you change the content of a drawable i...  \n",
       "2  C compiler not found when build openjdk<p>Conf...  \n",
       "3  plot 3D spherical parametric surface using non...  \n",
       "4  NSManagedObject like Generic object<p>It's pos...  "
      ]
     },
     "execution_count": 68,
     "metadata": {},
     "output_type": "execute_result"
    }
   ],
   "source": [
    "df.head()"
   ]
  },
  {
   "cell_type": "markdown",
   "metadata": {},
   "source": [
    "## Tags"
   ]
  },
  {
   "cell_type": "code",
   "execution_count": 69,
   "metadata": {},
   "outputs": [],
   "source": [
    "df[\"tags\"] = df[\"Tags\"].apply(lambda x: x[1:-1].split(\"><\"))\n",
    "df.drop(\"Tags\", axis=1, inplace=True)"
   ]
  },
  {
   "cell_type": "code",
   "execution_count": 70,
   "metadata": {},
   "outputs": [
    {
     "data": {
      "text/html": [
       "<div>\n",
       "<style scoped>\n",
       "    .dataframe tbody tr th:only-of-type {\n",
       "        vertical-align: middle;\n",
       "    }\n",
       "\n",
       "    .dataframe tbody tr th {\n",
       "        vertical-align: top;\n",
       "    }\n",
       "\n",
       "    .dataframe thead th {\n",
       "        text-align: right;\n",
       "    }\n",
       "</style>\n",
       "<table border=\"1\" class=\"dataframe\">\n",
       "  <thead>\n",
       "    <tr style=\"text-align: right;\">\n",
       "      <th></th>\n",
       "      <th>text</th>\n",
       "      <th>tags</th>\n",
       "    </tr>\n",
       "  </thead>\n",
       "  <tbody>\n",
       "    <tr>\n",
       "      <th>0</th>\n",
       "      <td>Hibernate @Filter entity by @ManyToOne field&lt;p...</td>\n",
       "      <td>[java, hibernate, filter, field, many-to-one]</td>\n",
       "    </tr>\n",
       "    <tr>\n",
       "      <th>1</th>\n",
       "      <td>How can you change the content of a drawable i...</td>\n",
       "      <td>[java, android, image, bitmap, retrofit]</td>\n",
       "    </tr>\n",
       "    <tr>\n",
       "      <th>2</th>\n",
       "      <td>C compiler not found when build openjdk&lt;p&gt;Conf...</td>\n",
       "      <td>[build, compiler-errors, configure, java, buil...</td>\n",
       "    </tr>\n",
       "    <tr>\n",
       "      <th>3</th>\n",
       "      <td>plot 3D spherical parametric surface using non...</td>\n",
       "      <td>[python, plot, 3d, surface, non-uniform-distri...</td>\n",
       "    </tr>\n",
       "    <tr>\n",
       "      <th>4</th>\n",
       "      <td>NSManagedObject like Generic object&lt;p&gt;It's pos...</td>\n",
       "      <td>[ios, swift, generics, core-data, swift3]</td>\n",
       "    </tr>\n",
       "  </tbody>\n",
       "</table>\n",
       "</div>"
      ],
      "text/plain": [
       "                                                text  \\\n",
       "0  Hibernate @Filter entity by @ManyToOne field<p...   \n",
       "1  How can you change the content of a drawable i...   \n",
       "2  C compiler not found when build openjdk<p>Conf...   \n",
       "3  plot 3D spherical parametric surface using non...   \n",
       "4  NSManagedObject like Generic object<p>It's pos...   \n",
       "\n",
       "                                                tags  \n",
       "0      [java, hibernate, filter, field, many-to-one]  \n",
       "1           [java, android, image, bitmap, retrofit]  \n",
       "2  [build, compiler-errors, configure, java, buil...  \n",
       "3  [python, plot, 3d, surface, non-uniform-distri...  \n",
       "4          [ios, swift, generics, core-data, swift3]  "
      ]
     },
     "execution_count": 70,
     "metadata": {},
     "output_type": "execute_result"
    }
   ],
   "source": [
    "df.head()"
   ]
  },
  {
   "cell_type": "code",
   "execution_count": 71,
   "metadata": {},
   "outputs": [
    {
     "data": {
      "text/plain": [
       "{'python': 4182,\n",
       " 'java': 3618,\n",
       " 'ios': 3389,\n",
       " 'c#': 3344,\n",
       " 'php': 2387,\n",
       " 'android': 2288,\n",
       " 'javascript': 1852,\n",
       " 'html': 333,\n",
       " 'jquery': 274,\n",
       " 'css': 248}"
      ]
     },
     "execution_count": 71,
     "metadata": {},
     "output_type": "execute_result"
    }
   ],
   "source": [
    "dict(pd.Series(l_tags).value_counts())"
   ]
  },
  {
   "cell_type": "code",
   "execution_count": 72,
   "metadata": {},
   "outputs": [
    {
     "data": {
      "text/plain": [
       "<AxesSubplot:title={'center':'Tag distribution'}, xlabel='Tags', ylabel='Count'>"
      ]
     },
     "execution_count": 72,
     "metadata": {},
     "output_type": "execute_result"
    },
    {
     "data": {
      "image/png": "[encoded data removed]",
      "text/plain": [
       "<Figure size 1000x600 with 1 Axes>"
      ]
     },
     "metadata": {},
     "output_type": "display_data"
    }
   ],
   "source": [
    "l_tags = []\n",
    "for tags in df[\"tags\"]:\n",
    "    l_tags += tags\n",
    "\n",
    "plt.figure(figsize=(12, 6))\n",
    "plt.xlabel(\"Tags\")\n",
    "plt.ylabel(\"Count\")\n",
    "plt.title(\"Tag distribution\")\n",
    "pd.Series(l_tags).value_counts().head(70).plot(kind='bar', figsize=(10, 6), color='skyblue')"
   ]
  },
  {
   "cell_type": "markdown",
   "metadata": {},
   "source": [
    "Deleting rare tags and rebalancing the dataset"
   ]
  },
  {
   "cell_type": "code",
   "execution_count": 73,
   "metadata": {},
   "outputs": [],
   "source": [
    "\n",
    "most_frequent_tags = pd.Series(l_tags).value_counts().head(10)\n",
    "l_most_frequent_tags = list(most_frequent_tags.keys())\n",
    "\n",
    "copy_df = pd.DataFrame()\n",
    "\n",
    "for tag, occurrences in most_frequent_tags.items():\n",
    "\n",
    "    df_tag = df.loc[df.tags.apply(lambda x: (set(x) & set(l_most_frequent_tags) == {tag}) and (random.random() < 1/10 * len(df)/occurrences)), :]\n",
    "    \n",
    "    copy_df = pd.concat([copy_df, df_tag])\n",
    "\n",
    "copy_df[\"tags\"] = copy_df[\"tags\"].apply(lambda x: list(set(x) & set(l_most_frequent_tags)))"
   ]
  },
  {
   "cell_type": "code",
   "execution_count": 74,
   "metadata": {},
   "outputs": [
    {
     "data": {
      "text/plain": [
       "<AxesSubplot:>"
      ]
     },
     "execution_count": 74,
     "metadata": {},
     "output_type": "execute_result"
    },
    {
     "data": {
      "image/png": "[encoded data removed]",
      "text/plain": [
       "<Figure size 1000x600 with 1 Axes>"
      ]
     },
     "metadata": {},
     "output_type": "display_data"
    }
   ],
   "source": [
    "l_tags = []\n",
    "for tags in copy_df[\"tags\"]:\n",
    "    l_tags += tags\n",
    "pd.Series(l_tags).value_counts().plot(kind='bar', figsize=(10, 6), color='skyblue')"
   ]
  },
  {
   "cell_type": "code",
   "execution_count": 75,
   "metadata": {},
   "outputs": [],
   "source": [
    "df = copy_df"
   ]
  },
  {
   "cell_type": "markdown",
   "metadata": {},
   "source": [
    "# Cleaning the text"
   ]
  },
  {
   "cell_type": "code",
   "execution_count": 76,
   "metadata": {},
   "outputs": [
    {
     "data": {
      "text/plain": [
       "['a',\n",
       " 'about',\n",
       " 'above',\n",
       " 'after',\n",
       " 'again',\n",
       " 'against',\n",
       " 'ain',\n",
       " 'all',\n",
       " 'am',\n",
       " 'an',\n",
       " 'and',\n",
       " 'any',\n",
       " 'are',\n",
       " 'aren',\n",
       " \"aren't\",\n",
       " 'as',\n",
       " 'at',\n",
       " 'be',\n",
       " 'because',\n",
       " 'been',\n",
       " 'before',\n",
       " 'being',\n",
       " 'below',\n",
       " 'between',\n",
       " 'both',\n",
       " 'but',\n",
       " 'by',\n",
       " 'can',\n",
       " 'couldn',\n",
       " \"couldn't\",\n",
       " 'd',\n",
       " 'did',\n",
       " 'didn',\n",
       " \"didn't\",\n",
       " 'do',\n",
       " 'does',\n",
       " 'doesn',\n",
       " \"doesn't\",\n",
       " 'doing',\n",
       " 'don',\n",
       " \"don't\",\n",
       " 'down',\n",
       " 'during',\n",
       " 'each',\n",
       " 'few',\n",
       " 'for',\n",
       " 'from',\n",
       " 'further',\n",
       " 'had',\n",
       " 'hadn',\n",
       " \"hadn't\",\n",
       " 'has',\n",
       " 'hasn',\n",
       " \"hasn't\",\n",
       " 'have',\n",
       " 'haven',\n",
       " \"haven't\",\n",
       " 'having',\n",
       " 'he',\n",
       " \"he'd\",\n",
       " \"he'll\",\n",
       " 'her',\n",
       " 'here',\n",
       " 'hers',\n",
       " 'herself',\n",
       " \"he's\",\n",
       " 'him',\n",
       " 'himself',\n",
       " 'his',\n",
       " 'how',\n",
       " 'i',\n",
       " \"i'd\",\n",
       " 'if',\n",
       " \"i'll\",\n",
       " \"i'm\",\n",
       " 'in',\n",
       " 'into',\n",
       " 'is',\n",
       " 'isn',\n",
       " \"isn't\",\n",
       " 'it',\n",
       " \"it'd\",\n",
       " \"it'll\",\n",
       " \"it's\",\n",
       " 'its',\n",
       " 'itself',\n",
       " \"i've\",\n",
       " 'just',\n",
       " 'll',\n",
       " 'm',\n",
       " 'ma',\n",
       " 'me',\n",
       " 'mightn',\n",
       " \"mightn't\",\n",
       " 'more',\n",
       " 'most',\n",
       " 'mustn',\n",
       " \"mustn't\",\n",
       " 'my',\n",
       " 'myself',\n",
       " 'needn',\n",
       " \"needn't\",\n",
       " 'no',\n",
       " 'nor',\n",
       " 'not',\n",
       " 'now',\n",
       " 'o',\n",
       " 'of',\n",
       " 'off',\n",
       " 'on',\n",
       " 'once',\n",
       " 'only',\n",
       " 'or',\n",
       " 'other',\n",
       " 'our',\n",
       " 'ours',\n",
       " 'ourselves',\n",
       " 'out',\n",
       " 'over',\n",
       " 'own',\n",
       " 're',\n",
       " 's',\n",
       " 'same',\n",
       " 'shan',\n",
       " \"shan't\",\n",
       " 'she',\n",
       " \"she'd\",\n",
       " \"she'll\",\n",
       " \"she's\",\n",
       " 'should',\n",
       " 'shouldn',\n",
       " \"shouldn't\",\n",
       " \"should've\",\n",
       " 'so',\n",
       " 'some',\n",
       " 'such',\n",
       " 't',\n",
       " 'than',\n",
       " 'that',\n",
       " \"that'll\",\n",
       " 'the',\n",
       " 'their',\n",
       " 'theirs',\n",
       " 'them',\n",
       " 'themselves',\n",
       " 'then',\n",
       " 'there',\n",
       " 'these',\n",
       " 'they',\n",
       " \"they'd\",\n",
       " \"they'll\",\n",
       " \"they're\",\n",
       " \"they've\",\n",
       " 'this',\n",
       " 'those',\n",
       " 'through',\n",
       " 'to',\n",
       " 'too',\n",
       " 'under',\n",
       " 'until',\n",
       " 'up',\n",
       " 've',\n",
       " 'very',\n",
       " 'was',\n",
       " 'wasn',\n",
       " \"wasn't\",\n",
       " 'we',\n",
       " \"we'd\",\n",
       " \"we'll\",\n",
       " \"we're\",\n",
       " 'were',\n",
       " 'weren',\n",
       " \"weren't\",\n",
       " \"we've\",\n",
       " 'what',\n",
       " 'when',\n",
       " 'where',\n",
       " 'which',\n",
       " 'while',\n",
       " 'who',\n",
       " 'whom',\n",
       " 'why',\n",
       " 'will',\n",
       " 'with',\n",
       " 'won',\n",
       " \"won't\",\n",
       " 'wouldn',\n",
       " \"wouldn't\",\n",
       " 'y',\n",
       " 'you',\n",
       " \"you'd\",\n",
       " \"you'll\",\n",
       " 'your',\n",
       " \"you're\",\n",
       " 'yours',\n",
       " 'yourself',\n",
       " 'yourselves',\n",
       " \"you've\"]"
      ]
     },
     "execution_count": 76,
     "metadata": {},
     "output_type": "execute_result"
    }
   ],
   "source": [
    "stopwords.words(\"english\")"
   ]
  },
  {
   "cell_type": "markdown",
   "metadata": {},
   "source": [
    "## First attempts"
   ]
  },
  {
   "cell_type": "code",
   "execution_count": 77,
   "metadata": {},
   "outputs": [],
   "source": [
    "def first_cleaning(text):\n",
    "\n",
    "    text = BeautifulSoup(text).get_text()\n",
    "    text = re.sub(\"[^a-zA-Z]\", \" \", text)\n",
    "    text = text.lower()\n",
    "    \n",
    "    words = text.split()\n",
    "    set_stopwords = set(stopwords.words(\"english\"))\n",
    "    meaningful_words = [w for w in words if not w in set_stopwords]   \n",
    "\n",
    "    return( \" \".join(meaningful_words))   "
   ]
  },
  {
   "cell_type": "code",
   "execution_count": 78,
   "metadata": {},
   "outputs": [
    {
     "data": {
      "text/plain": [
       "['javascript']"
      ]
     },
     "execution_count": 78,
     "metadata": {},
     "output_type": "execute_result"
    }
   ],
   "source": [
    "df.iloc[0].tags"
   ]
  },
  {
   "cell_type": "code",
   "execution_count": 79,
   "metadata": {},
   "outputs": [
    {
     "data": {
      "text/plain": [
       "'Hibernate @Filter entity by @ManyToOne field<p>I\\'m trying to use Java\\'s Hibernate @Filter on a many to one relationship field, but when I enable the filter and try to call a getAll method using the StockDailyRecord Service from an AJAX I get this:</p>\\n\\n<pre><code>HTTP Status 500 - Request processing failed; \\nnested exception is javax.persistence.PersistenceException:\\norg.hibernate.exception.SQLGrammarException: could not extract ResultSet\\n</code></pre>\\n\\n<p>This is my entity where I define the filter:</p>\\n\\n<pre><code>@Entity\\n@Table(name = \"stock_daily_record\", catalog = \"mkyong\")\\n@FilterDef(name=\"stockDailyRecordFilter\")\\n@Filters({\\n    @Filter(name=\"stockDailyRecordFilter\", condition=\"stock.name = \\'My stock\\'\"),\\n})\\npublic class StockDailyRecord extends Entity implements Serializable {\\n         ...\\n    @ManyToOne\\n    @JoinColumn(name = \"stock_id\", referencedColumnName = \"id\", nullable = false )\\n    public Stock getStock() {\\n        return this.stock;\\n    }\\n}\\n</code></pre>\\n\\n<p>However when I change the filter with the actual column in the database \"stock_id\" and compare it with the id I want the filter works without any exceptions.</p>\\n\\n<pre><code>@Filter(name=\"stockDailyRecordFilter\", condition=\"stock_id = 10\")\\n</code></pre>\\n\\n<p>Here is how I enable the filter in the StockDailyRecordService:</p>\\n\\n<pre><code>    Session hSession = getSession();\\n    if (isAnonymous) {\\n        hSession.enableFilter(\"stockDailyRecordFilter\");\\n    } else {\\n        hSession.disableFilter(\"stockDailyRecordFilter\");\\n    }\\n</code></pre>\\n\\n<p>Also, when I try the filter on other properties (say the StockDailyRecord has field \"description\") it works just fine. Is there a way to access the \"name\" property of the Stock entity from the Filter condition, because I don\\'t really want to do the approach with the \"stock_id = 10\"?</p>\\n'"
      ]
     },
     "execution_count": 79,
     "metadata": {},
     "output_type": "execute_result"
    }
   ],
   "source": [
    "df.text[0]"
   ]
  },
  {
   "cell_type": "code",
   "execution_count": 80,
   "metadata": {},
   "outputs": [
    {
     "data": {
      "text/plain": [
       "'hibernate filter entity manytoone fieldi trying use java hibernate filter many one relationship field enable filter try call getall method using stockdailyrecord service ajax get http status request processing failed nested exception javax persistence persistenceexception org hibernate exception sqlgrammarexception could extract resultset entity define filter entity table name stock daily record catalog mkyong filterdef name stockdailyrecordfilter filters filter name stockdailyrecordfilter condition stock name stock public class stockdailyrecord extends entity implements serializable manytoone joincolumn name stock id referencedcolumnname id nullable false public stock getstock return stock however change filter actual column database stock id compare id want filter works without exceptions filter name stockdailyrecordfilter condition stock id enable filter stockdailyrecordservice session hsession getsession isanonymous hsession enablefilter stockdailyrecordfilter else hsession disablefilter stockdailyrecordfilter also try filter properties say stockdailyrecord field description works fine way access name property stock entity filter condition really want approach stock id'"
      ]
     },
     "execution_count": 80,
     "metadata": {},
     "output_type": "execute_result"
    }
   ],
   "source": [
    "test = first_cleaning(df.text[0])\n",
    "test"
   ]
  },
  {
   "cell_type": "code",
   "execution_count": 81,
   "metadata": {},
   "outputs": [
    {
     "name": "stdout",
     "output_type": "stream",
     "text": [
      "['hibern', 'filter', 'entiti', 'manytoon', 'fieldi', 'tri', 'use', 'java', 'hibern', 'filter', 'mani', 'one', 'relationship', 'field', 'enabl', 'filter', 'tri', 'call', 'getal', 'method', 'use', 'stockdailyrecord', 'servic', 'ajax', 'get', 'http', 'statu', 'request', 'process', 'fail', 'nest', 'except', 'javax', 'persist', 'persistenceexcept', 'org', 'hibern', 'except', 'sqlgrammarexcept', 'could', 'extract', 'resultset', 'entiti', 'defin', 'filter', 'entiti', 'tabl', 'name', 'stock', 'daili', 'record', 'catalog', 'mkyong', 'filterdef', 'name', 'stockdailyrecordfilt', 'filter', 'filter', 'name', 'stockdailyrecordfilt', 'condit', 'stock', 'name', 'stock', 'public', 'class', 'stockdailyrecord', 'extend', 'entiti', 'implement', 'serializ', 'manytoon', 'joincolumn', 'name', 'stock', 'id', 'referencedcolumnnam', 'id', 'nullabl', 'fals', 'public', 'stock', 'getstock', 'return', 'stock', 'howev', 'chang', 'filter', 'actual', 'column', 'databas', 'stock', 'id', 'compar', 'id', 'want', 'filter', 'work', 'without', 'except', 'filter', 'name', 'stockdailyrecordfilt', 'condit', 'stock', 'id', 'enabl', 'filter', 'stockdailyrecordservic', 'session', 'hsession', 'getsess', 'isanonym', 'hsession', 'enablefilt', 'stockdailyrecordfilt', 'els', 'hsession', 'disablefilt', 'stockdailyrecordfilt', 'also', 'tri', 'filter', 'properti', 'say', 'stockdailyrecord', 'field', 'descript', 'work', 'fine', 'way', 'access', 'name', 'properti', 'stock', 'entiti', 'filter', 'condit', 'realli', 'want', 'approach', 'stock', 'id']\n"
     ]
    }
   ],
   "source": [
    "ps = PorterStemmer()\n",
    "\n",
    "# and stem the tokens\n",
    "stems   = [ps.stem(tk) for tk in test.split(\" \") ]\n",
    "print(stems)"
   ]
  },
  {
   "cell_type": "code",
   "execution_count": 82,
   "metadata": {},
   "outputs": [
    {
     "name": "stdout",
     "output_type": "stream",
     "text": [
      "Collecting en-core-web-sm==3.7.1\n",
      "  Using cached https://github.com/explosion/spacy-models/releases/download/en_core_web_sm-3.7.1/en_core_web_sm-3.7.1-py3-none-any.whl (12.8 MB)\n",
      "Requirement already satisfied: spacy<3.8.0,>=3.7.2 in /home/omar-oc/anaconda3/envs/env_OC_P5_ter/lib/python3.9/site-packages (from en-core-web-sm==3.7.1) (3.7.2)\n",
      "Requirement already satisfied: spacy-legacy<3.1.0,>=3.0.11 in /home/omar-oc/anaconda3/envs/env_OC_P5_ter/lib/python3.9/site-packages (from spacy<3.8.0,>=3.7.2->en-core-web-sm==3.7.1) (3.0.12)\n",
      "Requirement already satisfied: spacy-loggers<2.0.0,>=1.0.0 in /home/omar-oc/anaconda3/envs/env_OC_P5_ter/lib/python3.9/site-packages (from spacy<3.8.0,>=3.7.2->en-core-web-sm==3.7.1) (1.0.4)\n",
      "Requirement already satisfied: murmurhash<1.1.0,>=0.28.0 in /home/omar-oc/anaconda3/envs/env_OC_P5_ter/lib/python3.9/site-packages (from spacy<3.8.0,>=3.7.2->en-core-web-sm==3.7.1) (1.0.12)\n",
      "Requirement already satisfied: cymem<2.1.0,>=2.0.2 in /home/omar-oc/anaconda3/envs/env_OC_P5_ter/lib/python3.9/site-packages (from spacy<3.8.0,>=3.7.2->en-core-web-sm==3.7.1) (2.0.6)\n",
      "Requirement already satisfied: preshed<3.1.0,>=3.0.2 in /home/omar-oc/anaconda3/envs/env_OC_P5_ter/lib/python3.9/site-packages (from spacy<3.8.0,>=3.7.2->en-core-web-sm==3.7.1) (3.0.6)\n",
      "Requirement already satisfied: thinc<8.3.0,>=8.1.8 in /home/omar-oc/anaconda3/envs/env_OC_P5_ter/lib/python3.9/site-packages (from spacy<3.8.0,>=3.7.2->en-core-web-sm==3.7.1) (8.2.2)\n",
      "Requirement already satisfied: wasabi<1.2.0,>=0.9.1 in /home/omar-oc/anaconda3/envs/env_OC_P5_ter/lib/python3.9/site-packages (from spacy<3.8.0,>=3.7.2->en-core-web-sm==3.7.1) (0.9.1)\n",
      "Requirement already satisfied: srsly<3.0.0,>=2.4.3 in /home/omar-oc/anaconda3/envs/env_OC_P5_ter/lib/python3.9/site-packages (from spacy<3.8.0,>=3.7.2->en-core-web-sm==3.7.1) (2.5.1)\n",
      "Requirement already satisfied: catalogue<2.1.0,>=2.0.6 in /home/omar-oc/anaconda3/envs/env_OC_P5_ter/lib/python3.9/site-packages (from spacy<3.8.0,>=3.7.2->en-core-web-sm==3.7.1) (2.0.10)\n",
      "Requirement already satisfied: weasel<0.4.0,>=0.1.0 in /home/omar-oc/anaconda3/envs/env_OC_P5_ter/lib/python3.9/site-packages (from spacy<3.8.0,>=3.7.2->en-core-web-sm==3.7.1) (0.3.4)\n",
      "Requirement already satisfied: typer<0.10.0,>=0.3.0 in /home/omar-oc/anaconda3/envs/env_OC_P5_ter/lib/python3.9/site-packages (from spacy<3.8.0,>=3.7.2->en-core-web-sm==3.7.1) (0.9.0)\n",
      "Requirement already satisfied: smart-open<7.0.0,>=5.2.1 in /home/omar-oc/anaconda3/envs/env_OC_P5_ter/lib/python3.9/site-packages (from spacy<3.8.0,>=3.7.2->en-core-web-sm==3.7.1) (5.2.1)\n",
      "Requirement already satisfied: tqdm<5.0.0,>=4.38.0 in /home/omar-oc/anaconda3/envs/env_OC_P5_ter/lib/python3.9/site-packages (from spacy<3.8.0,>=3.7.2->en-core-web-sm==3.7.1) (4.67.1)\n",
      "Requirement already satisfied: requests<3.0.0,>=2.13.0 in /home/omar-oc/anaconda3/envs/env_OC_P5_ter/lib/python3.9/site-packages (from spacy<3.8.0,>=3.7.2->en-core-web-sm==3.7.1) (2.32.3)\n",
      "Requirement already satisfied: pydantic!=1.8,!=1.8.1,<3.0.0,>=1.7.4 in /home/omar-oc/anaconda3/envs/env_OC_P5_ter/lib/python3.9/site-packages (from spacy<3.8.0,>=3.7.2->en-core-web-sm==3.7.1) (2.10.3)\n",
      "Requirement already satisfied: jinja2 in /home/omar-oc/anaconda3/envs/env_OC_P5_ter/lib/python3.9/site-packages (from spacy<3.8.0,>=3.7.2->en-core-web-sm==3.7.1) (3.1.6)\n",
      "Requirement already satisfied: setuptools in /home/omar-oc/anaconda3/envs/env_OC_P5_ter/lib/python3.9/site-packages (from spacy<3.8.0,>=3.7.2->en-core-web-sm==3.7.1) (75.8.0)\n",
      "Requirement already satisfied: packaging>=20.0 in /home/omar-oc/anaconda3/envs/env_OC_P5_ter/lib/python3.9/site-packages (from spacy<3.8.0,>=3.7.2->en-core-web-sm==3.7.1) (24.2)\n",
      "Requirement already satisfied: langcodes<4.0.0,>=3.2.0 in /home/omar-oc/anaconda3/envs/env_OC_P5_ter/lib/python3.9/site-packages (from spacy<3.8.0,>=3.7.2->en-core-web-sm==3.7.1) (3.3.0)\n",
      "Requirement already satisfied: numpy>=1.19.0 in /home/omar-oc/anaconda3/envs/env_OC_P5_ter/lib/python3.9/site-packages (from spacy<3.8.0,>=3.7.2->en-core-web-sm==3.7.1) (1.24.3)\n",
      "Requirement already satisfied: annotated-types>=0.6.0 in /home/omar-oc/anaconda3/envs/env_OC_P5_ter/lib/python3.9/site-packages (from pydantic!=1.8,!=1.8.1,<3.0.0,>=1.7.4->spacy<3.8.0,>=3.7.2->en-core-web-sm==3.7.1) (0.6.0)\n",
      "Requirement already satisfied: pydantic-core==2.27.1 in /home/omar-oc/anaconda3/envs/env_OC_P5_ter/lib/python3.9/site-packages (from pydantic!=1.8,!=1.8.1,<3.0.0,>=1.7.4->spacy<3.8.0,>=3.7.2->en-core-web-sm==3.7.1) (2.27.1)\n",
      "Requirement already satisfied: typing-extensions>=4.12.2 in /home/omar-oc/anaconda3/envs/env_OC_P5_ter/lib/python3.9/site-packages (from pydantic!=1.8,!=1.8.1,<3.0.0,>=1.7.4->spacy<3.8.0,>=3.7.2->en-core-web-sm==3.7.1) (4.12.2)\n",
      "Requirement already satisfied: charset-normalizer<4,>=2 in /home/omar-oc/anaconda3/envs/env_OC_P5_ter/lib/python3.9/site-packages (from requests<3.0.0,>=2.13.0->spacy<3.8.0,>=3.7.2->en-core-web-sm==3.7.1) (3.3.2)\n",
      "Requirement already satisfied: idna<4,>=2.5 in /home/omar-oc/anaconda3/envs/env_OC_P5_ter/lib/python3.9/site-packages (from requests<3.0.0,>=2.13.0->spacy<3.8.0,>=3.7.2->en-core-web-sm==3.7.1) (3.7)\n",
      "Requirement already satisfied: urllib3<3,>=1.21.1 in /home/omar-oc/anaconda3/envs/env_OC_P5_ter/lib/python3.9/site-packages (from requests<3.0.0,>=2.13.0->spacy<3.8.0,>=3.7.2->en-core-web-sm==3.7.1) (2.3.0)\n",
      "Requirement already satisfied: certifi>=2017.4.17 in /home/omar-oc/anaconda3/envs/env_OC_P5_ter/lib/python3.9/site-packages (from requests<3.0.0,>=2.13.0->spacy<3.8.0,>=3.7.2->en-core-web-sm==3.7.1) (2025.1.31)\n",
      "Requirement already satisfied: blis<0.8.0,>=0.7.8 in /home/omar-oc/anaconda3/envs/env_OC_P5_ter/lib/python3.9/site-packages (from thinc<8.3.0,>=8.1.8->spacy<3.8.0,>=3.7.2->en-core-web-sm==3.7.1) (0.7.9)\n",
      "Requirement already satisfied: confection<1.0.0,>=0.0.1 in /home/omar-oc/anaconda3/envs/env_OC_P5_ter/lib/python3.9/site-packages (from thinc<8.3.0,>=8.1.8->spacy<3.8.0,>=3.7.2->en-core-web-sm==3.7.1) (0.1.4)\n",
      "Requirement already satisfied: click<9.0.0,>=7.1.1 in /home/omar-oc/anaconda3/envs/env_OC_P5_ter/lib/python3.9/site-packages (from typer<0.10.0,>=0.3.0->spacy<3.8.0,>=3.7.2->en-core-web-sm==3.7.1) (8.1.7)\n",
      "Requirement already satisfied: cloudpathlib<0.17.0,>=0.7.0 in /home/omar-oc/anaconda3/envs/env_OC_P5_ter/lib/python3.9/site-packages (from weasel<0.4.0,>=0.1.0->spacy<3.8.0,>=3.7.2->en-core-web-sm==3.7.1) (0.16.0)\n",
      "Requirement already satisfied: MarkupSafe>=2.0 in /home/omar-oc/anaconda3/envs/env_OC_P5_ter/lib/python3.9/site-packages (from jinja2->spacy<3.8.0,>=3.7.2->en-core-web-sm==3.7.1) (3.0.2)\n",
      "\u001b[38;5;2m✔ Download and installation successful\u001b[0m\n",
      "You can now load the package via spacy.load('en_core_web_sm')\n"
     ]
    }
   ],
   "source": [
    "! python -m spacy download en_core_web_sm"
   ]
  },
  {
   "cell_type": "code",
   "execution_count": 83,
   "metadata": {},
   "outputs": [
    {
     "name": "stdout",
     "output_type": "stream",
     "text": [
      "token.lemma_\n",
      "Hibernate Hibernate\n",
      "   \n",
      "Filter Filter\n",
      "entity entity\n",
      "by by\n",
      "   \n",
      "ManyToOne ManyToOne\n",
      "fieldI fieldI\n",
      "m m\n",
      "trying try\n",
      "to to\n",
      "use use\n",
      "Java Java\n",
      "s s\n",
      "Hibernate Hibernate\n",
      "   \n",
      "Filter Filter\n",
      "on on\n",
      "a a\n",
      "many many\n",
      "to to\n",
      "one one\n",
      "relationship relationship\n",
      "field field\n",
      "   \n",
      "but but\n",
      "when when\n",
      "I I\n",
      "enable enable\n",
      "the the\n",
      "filter filter\n",
      "and and\n",
      "try try\n",
      "to to\n",
      "call call\n",
      "a a\n",
      "getAll getall\n",
      "method method\n",
      "using use\n",
      "the the\n",
      "StockDailyRecord StockDailyRecord\n",
      "Service Service\n",
      "from from\n",
      "an an\n",
      "AJAX AJAX\n",
      "I I\n",
      "get get\n",
      "this this\n",
      "   \n",
      "HTTP HTTP\n",
      "Status Status\n",
      "             \n",
      "Request request\n",
      "processing processing\n",
      "failed fail\n",
      "     \n",
      "nested nest\n",
      "exception exception\n",
      "is be\n",
      "javax javax\n",
      "persistence persistence\n",
      "PersistenceException PersistenceException\n",
      "   \n",
      "org org\n",
      "hibernate hibernate\n",
      "exception exception\n",
      "SQLGrammarException sqlgrammarexception\n",
      "   \n",
      "could could\n",
      "not not\n",
      "extract extract\n",
      "ResultSet ResultSet\n",
      "   \n",
      "This this\n",
      "is be\n",
      "my my\n",
      "entity entity\n",
      "where where\n",
      "I I\n",
      "define define\n",
      "the the\n",
      "filter filter\n",
      "     \n",
      "Entity Entity\n",
      "   \n",
      "Table Table\n",
      "name name\n",
      "       \n",
      "stock stock\n",
      "daily daily\n",
      "record record\n",
      "     \n",
      "catalog catalog\n",
      "       \n",
      "mkyong mkyong\n",
      "       \n",
      "FilterDef FilterDef\n",
      "name name\n",
      "   \n",
      "stockDailyRecordFilter stockdailyrecordfilter\n",
      "       \n",
      "Filters Filters\n",
      "               \n",
      "Filter Filter\n",
      "name name\n",
      "   \n",
      "stockDailyRecordFilter stockdailyrecordfilter\n",
      "     \n",
      "condition condition\n",
      "   \n",
      "stock stock\n",
      "name name\n",
      "       \n",
      "My my\n",
      "stock stock\n",
      "               \n",
      "public public\n",
      "class class\n",
      "StockDailyRecord StockDailyRecord\n",
      "extends extend\n",
      "Entity Entity\n",
      "implements implement\n",
      "Serializable Serializable\n",
      "                                         \n",
      "ManyToOne ManyToOne\n",
      "           \n",
      "JoinColumn JoinColumn\n",
      "name name\n",
      "       \n",
      "stock stock\n",
      "i i\n",
      "d d\n",
      "     \n",
      "referencedColumnName referencedcolumnname\n",
      "       \n",
      "i i\n",
      "d d\n",
      "     \n",
      "nullable nullable\n",
      "     \n",
      "false false\n",
      "             \n",
      "public public\n",
      "Stock Stock\n",
      "getStock getStock\n",
      "                         \n",
      "return return\n",
      "this this\n",
      "stock stock\n",
      "                     \n",
      "However however\n",
      "when when\n",
      "I I\n",
      "change change\n",
      "the the\n",
      "filter filter\n",
      "with with\n",
      "the the\n",
      "actual actual\n",
      "column column\n",
      "in in\n",
      "the the\n",
      "database database\n",
      "   \n",
      "stock stock\n",
      "i i\n",
      "d d\n",
      "   \n",
      "and and\n",
      "compare compare\n",
      "it it\n",
      "with with\n",
      "the the\n",
      "i i\n",
      "d d\n",
      "I I\n",
      "want want\n",
      "the the\n",
      "filter filter\n",
      "works work\n",
      "without without\n",
      "any any\n",
      "exceptions exception\n",
      "     \n",
      "Filter Filter\n",
      "name name\n",
      "   \n",
      "stockDailyRecordFilter stockdailyrecordfilter\n",
      "     \n",
      "condition condition\n",
      "   \n",
      "stock stock\n",
      "i i\n",
      "d d\n",
      "                 \n",
      "Here here\n",
      "is be\n",
      "how how\n",
      "I I\n",
      "enable enable\n",
      "the the\n",
      "filter filter\n",
      "in in\n",
      "the the\n",
      "StockDailyRecordService StockDailyRecordService\n",
      "           \n",
      "Session Session\n",
      "hSession hSession\n",
      "     \n",
      "getSession getsession\n",
      "               \n",
      "if if\n",
      "   \n",
      "isAnonymous isanonymous\n",
      "                       \n",
      "hSession hSession\n",
      "enableFilter enablefilter\n",
      "   \n",
      "stockDailyRecordFilter stockdailyrecordfilter\n",
      "                   \n",
      "else else\n",
      "                     \n",
      "hSession hSession\n",
      "disableFilter disablefilter\n",
      "   \n",
      "stockDailyRecordFilter stockdailyrecordfilter\n",
      "                     \n",
      "Also also\n",
      "   \n",
      "when when\n",
      "I I\n",
      "try try\n",
      "the the\n",
      "filter filter\n",
      "on on\n",
      "other other\n",
      "properties property\n",
      "   \n",
      "say say\n",
      "the the\n",
      "StockDailyRecord StockDailyRecord\n",
      "has have\n",
      "field field\n",
      "   \n",
      "description description\n",
      "     \n",
      "it it\n",
      "works work\n",
      "just just\n",
      "fine fine\n",
      "   \n",
      "Is be\n",
      "there there\n",
      "a a\n",
      "way way\n",
      "to to\n",
      "access access\n",
      "the the\n",
      "   \n",
      "name name\n",
      "   \n",
      "property property\n",
      "of of\n",
      "the the\n",
      "Stock Stock\n",
      "entity entity\n",
      "from from\n",
      "the the\n",
      "Filter Filter\n",
      "condition condition\n",
      "   \n",
      "because because\n",
      "I I\n",
      "don don\n",
      "t t\n",
      "really really\n",
      "want want\n",
      "to to\n",
      "do do\n",
      "the the\n",
      "approach approach\n",
      "with with\n",
      "the the\n",
      "   \n",
      "stock stock\n",
      "i i\n",
      "d d\n",
      "               \n"
     ]
    }
   ],
   "source": [
    "nlp = spacy.load(\"en_core_web_sm\")\n",
    "text = BeautifulSoup(df.text[0]).get_text()\n",
    "text = re.sub(\"[^a-zA-Z]\", \" \", text)\n",
    "doc = nlp(text)\n",
    "\n",
    "print(\"token.lemma_\")\n",
    "for token in doc:\n",
    "    print(token, token.lemma_)\n",
    "   #print(token, token.is_space, token.is_punct, token.is_upper, token.is_digit, token.is_stop)\n",
    "#   print(f\"{token.text}\\t {token.pos_} \")\n"
   ]
  },
  {
   "cell_type": "markdown",
   "metadata": {},
   "source": [
    "## Final attempt"
   ]
  },
  {
   "cell_type": "code",
   "execution_count": 84,
   "metadata": {},
   "outputs": [],
   "source": [
    "nlp = spacy.load(\"en_core_web_sm\")\n",
    "\n",
    "def cleaning(text):\n",
    "    set_stopwords = set(stopwords.words(\"english\"))\n",
    "\n",
    "    text = BeautifulSoup(text).get_text()\n",
    "    text = re.sub(\"[^a-zA-Z]\", \" \", text)\n",
    "    text = text.lower()\n",
    "    \n",
    "    doc = nlp(text)\n",
    "    meaningful_words = [w.lemma_ for w in doc if not str(w) in set_stopwords]   \n",
    "\n",
    "    return( \" \".join(meaningful_words)) "
   ]
  },
  {
   "cell_type": "code",
   "execution_count": 85,
   "metadata": {},
   "outputs": [
    {
     "data": {
      "text/plain": [
       "'hibernate   filter entity   manytoone fieldi try use java hibernate   filter many one relationship field   enable filter try call getall method use stockdailyrecord service ajax get   http status        request processing fail    nest exception javax persistence persistenceexception   org hibernate exception sqlgrammarexception   could extract resultset   entity define filter    entity   table name     stock daily record    catalog     mkyong     filterdef name   stockdailyrecordfilter     filter         filter name   stockdailyrecordfilter    condition   stock name     stock         public class stockdailyrecord extend entity implement serializable                      manytoone       joincolumn name     stock    referencedcolumnname        nullable    false        public stock getstock              return stock            however change filter actual column database   stock   compare want filter work without exception    filter name   stockdailyrecordfilter    condition   stock          enable filter stockdailyrecordservice       session hsession    getsession           isanonymous             hsession enablefilter   stockdailyrecordfilter           else            hsession disablefilter   stockdailyrecordfilter            also   try filter property   say stockdailyrecord field   description    work fine   way access   name   property stock entity filter condition   really want approach   stock        '"
      ]
     },
     "execution_count": 85,
     "metadata": {},
     "output_type": "execute_result"
    }
   ],
   "source": [
    "cleaning(df.text[0])"
   ]
  },
  {
   "cell_type": "markdown",
   "metadata": {},
   "source": [
    "## Comparison"
   ]
  },
  {
   "cell_type": "code",
   "execution_count": 86,
   "metadata": {},
   "outputs": [
    {
     "data": {
      "text/plain": [
       "'hibernate filter entity manytoone fieldi trying use java hibernate filter many one relationship field enable filter try call getall method using stockdailyrecord service ajax get http status request processing failed nested exception javax persistence persistenceexception org hibernate exception sqlgrammarexception could extract resultset entity define filter entity table name stock daily record catalog mkyong filterdef name stockdailyrecordfilter filters filter name stockdailyrecordfilter condition stock name stock public class stockdailyrecord extends entity implements serializable manytoone joincolumn name stock id referencedcolumnname id nullable false public stock getstock return stock however change filter actual column database stock id compare id want filter works without exceptions filter name stockdailyrecordfilter condition stock id enable filter stockdailyrecordservice session hsession getsession isanonymous hsession enablefilter stockdailyrecordfilter else hsession disablefilter stockdailyrecordfilter also try filter properties say stockdailyrecord field description works fine way access name property stock entity filter condition really want approach stock id'"
      ]
     },
     "execution_count": 86,
     "metadata": {},
     "output_type": "execute_result"
    }
   ],
   "source": [
    "first_cleaning(df.text[0])"
   ]
  },
  {
   "cell_type": "code",
   "execution_count": 87,
   "metadata": {},
   "outputs": [
    {
     "data": {
      "text/plain": [
       "'hibernate   filter entity   manytoone fieldi try use java hibernate   filter many one relationship field   enable filter try call getall method use stockdailyrecord service ajax get   http status        request processing fail    nest exception javax persistence persistenceexception   org hibernate exception sqlgrammarexception   could extract resultset   entity define filter    entity   table name     stock daily record    catalog     mkyong     filterdef name   stockdailyrecordfilter     filter         filter name   stockdailyrecordfilter    condition   stock name     stock         public class stockdailyrecord extend entity implement serializable                      manytoone       joincolumn name     stock    referencedcolumnname        nullable    false        public stock getstock              return stock            however change filter actual column database   stock   compare want filter work without exception    filter name   stockdailyrecordfilter    condition   stock          enable filter stockdailyrecordservice       session hsession    getsession           isanonymous             hsession enablefilter   stockdailyrecordfilter           else            hsession disablefilter   stockdailyrecordfilter            also   try filter property   say stockdailyrecord field   description    work fine   way access   name   property stock entity filter condition   really want approach   stock        '"
      ]
     },
     "execution_count": 87,
     "metadata": {},
     "output_type": "execute_result"
    }
   ],
   "source": [
    "cleaning(df.text[0])"
   ]
  },
  {
   "cell_type": "markdown",
   "metadata": {},
   "source": [
    "## Cleaning the dataset"
   ]
  },
  {
   "cell_type": "code",
   "execution_count": null,
   "metadata": {},
   "outputs": [
    {
     "name": "stderr",
     "output_type": "stream",
     "text": [
      "Exception ignored in: <bound method IPythonKernel._clean_thread_parent_frames of <ipykernel.ipkernel.IPythonKernel object at 0x7a8c51f4ce20>>\n",
      "Traceback (most recent call last):\n",
      "  File \"/home/omar-oc/anaconda3/envs/env_OC_P5_ter/lib/python3.9/site-packages/ipykernel/ipkernel.py\", line 775, in _clean_thread_parent_frames\n",
      "    def _clean_thread_parent_frames(\n",
      "KeyboardInterrupt: \n"
     ]
    }
   ],
   "source": [
    "df[\"text\"] = df[\"text\"].apply(cleaning)\n"
   ]
  },
  {
   "cell_type": "markdown",
   "metadata": {},
   "source": [
    "# Saving the final dataset"
   ]
  },
  {
   "cell_type": "code",
   "execution_count": null,
   "metadata": {},
   "outputs": [
    {
     "data": {
      "text/html": [
       "<div>\n",
       "<style scoped>\n",
       "    .dataframe tbody tr th:only-of-type {\n",
       "        vertical-align: middle;\n",
       "    }\n",
       "\n",
       "    .dataframe tbody tr th {\n",
       "        vertical-align: top;\n",
       "    }\n",
       "\n",
       "    .dataframe thead th {\n",
       "        text-align: right;\n",
       "    }\n",
       "</style>\n",
       "<table border=\"1\" class=\"dataframe\">\n",
       "  <thead>\n",
       "    <tr style=\"text-align: right;\">\n",
       "      <th></th>\n",
       "      <th>text</th>\n",
       "      <th>tags</th>\n",
       "    </tr>\n",
       "  </thead>\n",
       "  <tbody>\n",
       "    <tr>\n",
       "      <th>8</th>\n",
       "      <td>protractor break loopi need help loop beak   c...</td>\n",
       "      <td>[javascript]</td>\n",
       "    </tr>\n",
       "    <tr>\n",
       "      <th>25</th>\n",
       "      <td>electron proxy url create small server     out...</td>\n",
       "      <td>[javascript]</td>\n",
       "    </tr>\n",
       "    <tr>\n",
       "      <th>41</th>\n",
       "      <td>angular     materializecss   modal dialog open...</td>\n",
       "      <td>[javascript]</td>\n",
       "    </tr>\n",
       "    <tr>\n",
       "      <th>46</th>\n",
       "      <td>throw new typeerror   app use    require middl...</td>\n",
       "      <td>[javascript]</td>\n",
       "    </tr>\n",
       "    <tr>\n",
       "      <th>72</th>\n",
       "      <td>display waiter resolve datum angular        pr...</td>\n",
       "      <td>[javascript]</td>\n",
       "    </tr>\n",
       "    <tr>\n",
       "      <th>...</th>\n",
       "      <td>...</td>\n",
       "      <td>...</td>\n",
       "    </tr>\n",
       "    <tr>\n",
       "      <th>48500</th>\n",
       "      <td>react sass webpack local styling issuei use us...</td>\n",
       "      <td>[css]</td>\n",
       "    </tr>\n",
       "    <tr>\n",
       "      <th>48561</th>\n",
       "      <td>blur image default   reveal hover like embed i...</td>\n",
       "      <td>[css]</td>\n",
       "    </tr>\n",
       "    <tr>\n",
       "      <th>48965</th>\n",
       "      <td>remove label carrier need shipping page presta...</td>\n",
       "      <td>[css]</td>\n",
       "    </tr>\n",
       "    <tr>\n",
       "      <th>49580</th>\n",
       "      <td>less add unwanted code url compile cssso somet...</td>\n",
       "      <td>[css]</td>\n",
       "    </tr>\n",
       "    <tr>\n",
       "      <th>49812</th>\n",
       "      <td>fix white space line listi create unordered li...</td>\n",
       "      <td>[css]</td>\n",
       "    </tr>\n",
       "  </tbody>\n",
       "</table>\n",
       "<p>21989 rows × 2 columns</p>\n",
       "</div>"
      ],
      "text/plain": [
       "                                                    text          tags\n",
       "8      protractor break loopi need help loop beak   c...  [javascript]\n",
       "25     electron proxy url create small server     out...  [javascript]\n",
       "41     angular     materializecss   modal dialog open...  [javascript]\n",
       "46     throw new typeerror   app use    require middl...  [javascript]\n",
       "72     display waiter resolve datum angular        pr...  [javascript]\n",
       "...                                                  ...           ...\n",
       "48500  react sass webpack local styling issuei use us...         [css]\n",
       "48561  blur image default   reveal hover like embed i...         [css]\n",
       "48965  remove label carrier need shipping page presta...         [css]\n",
       "49580  less add unwanted code url compile cssso somet...         [css]\n",
       "49812  fix white space line listi create unordered li...         [css]\n",
       "\n",
       "[21989 rows x 2 columns]"
      ]
     },
     "execution_count": 46,
     "metadata": {},
     "output_type": "execute_result"
    }
   ],
   "source": [
    "df"
   ]
  },
  {
   "cell_type": "code",
   "execution_count": null,
   "metadata": {},
   "outputs": [],
   "source": [
    "df.to_csv(\"final_dataset.csv\")"
   ]
  }
 ],
 "metadata": {
  "kernelspec": {
   "display_name": "env_OC_P5_ter",
   "language": "python",
   "name": "python3"
  },
  "language_info": {
   "codemirror_mode": {
    "name": "ipython",
    "version": 3
   },
   "file_extension": ".py",
   "mimetype": "text/x-python",
   "name": "python",
   "nbconvert_exporter": "python",
   "pygments_lexer": "ipython3",
   "version": "3.9.21"
  }
 },
 "nbformat": 4,
 "nbformat_minor": 2
}
