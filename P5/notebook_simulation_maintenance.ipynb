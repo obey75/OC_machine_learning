{
 "cells": [
  {
   "cell_type": "markdown",
   "metadata": {},
   "source": [
    "# Imports"
   ]
  },
  {
   "cell_type": "code",
   "execution_count": 175,
   "metadata": {},
   "outputs": [
    {
     "name": "stdout",
     "output_type": "stream",
     "text": [
      "Requirement already satisfied: StackApi in /home/omar-oc/anaconda3/envs/env_OC_P5/lib/python3.10/site-packages (0.3.1)\n",
      "Requirement already satisfied: requests in /home/omar-oc/.local/lib/python3.10/site-packages (from StackApi) (2.32.3)\n",
      "Requirement already satisfied: six in /home/omar-oc/anaconda3/envs/env_OC_P5/lib/python3.10/site-packages (from StackApi) (1.17.0)\n",
      "Requirement already satisfied: charset-normalizer<4,>=2 in /home/omar-oc/.local/lib/python3.10/site-packages (from requests->StackApi) (3.4.1)\n",
      "Requirement already satisfied: idna<4,>=2.5 in /home/omar-oc/anaconda3/envs/env_OC_P5/lib/python3.10/site-packages (from requests->StackApi) (3.10)\n",
      "Requirement already satisfied: urllib3<3,>=1.21.1 in /home/omar-oc/anaconda3/envs/env_OC_P5/lib/python3.10/site-packages (from requests->StackApi) (2.3.0)\n",
      "Requirement already satisfied: certifi>=2017.4.17 in /home/omar-oc/anaconda3/envs/env_OC_P5/lib/python3.10/site-packages (from requests->StackApi) (2025.1.31)\n",
      "\u001b[33mWARNING: Error parsing dependencies of graphql-core: [Errno 2] Aucun fichier ou dossier de ce nom: '/home/omar-oc/anaconda3/envs/env_OC_P5/lib/python3.10/site-packages/graphql_core-3.2.5.dist-info/METADATA'\u001b[0m\u001b[33m\n",
      "\u001b[0m"
     ]
    }
   ],
   "source": [
    "! pip install StackApi"
   ]
  },
  {
   "cell_type": "code",
   "execution_count": 176,
   "metadata": {},
   "outputs": [],
   "source": [
    "import ast\n",
    "from datetime import datetime\n",
    "from calendar import monthrange\n",
    "\n",
    "import requests\n",
    "\n",
    "import pickle\n",
    "import pandas as pd\n",
    "\n",
    "import matplotlib.pyplot as plt\n",
    "\n",
    "from sklearn.metrics import f1_score\n",
    "\n",
    "from nltk.corpus import stopwords\n",
    "import spacy\n",
    "from bs4 import BeautifulSoup\n",
    "import re\n",
    "\n",
    "from stackapi import StackAPI\n",
    "\n",
    "\n",
    "with open(\"lda_model.pkl\", \"rb\") as f:\n",
    "    lda = pickle.load(f)\n",
    "\n",
    "with open(\"label_encoder.pkl\", \"rb\") as f:\n",
    "    label_encoder = pickle.load(f)\n",
    "\n",
    "with open(\"vectorizer.pkl\", \"rb\") as f:\n",
    "    vectorizer = pickle.load(f)\n",
    "\n",
    "\n",
    "nlp = spacy.load(\"en_core_web_sm\")\n",
    "\n",
    "TAGS = list(label_encoder.classes_)\n",
    "YEAR = 2017"
   ]
  },
  {
   "cell_type": "markdown",
   "metadata": {},
   "source": [
    "# Utils"
   ]
  },
  {
   "cell_type": "code",
   "execution_count": 177,
   "metadata": {},
   "outputs": [],
   "source": [
    "def get_posts_by_tag_month(tag, month, pagesize=50):\n",
    "    base_url = \"https://api.stackexchange.com/2.3/questions\"\n",
    "\n",
    "    from_date = int(datetime(YEAR, month, 1, 0, 0, 0).timestamp())\n",
    "\n",
    "    last_day = monthrange(YEAR, month)[1]\n",
    "    to_date   = int(datetime(YEAR, month, last_day, 23, 59, 59).timestamp())\n",
    "\n",
    "    params = {\n",
    "        \"order\": \"desc\",\n",
    "        \"sort\": \"activity\",\n",
    "        \"tagged\": tag,\n",
    "        \"site\": \"stackoverflow\",\n",
    "        \"filter\": \"withbody\",\n",
    "        \"pagesize\": pagesize,\n",
    "        \"fromdate\": from_date,\n",
    "        \"todate\": to_date\n",
    "    }\n",
    "    \n",
    "    response = requests.get(base_url, params=params)\n",
    "    if response.status_code == 200:\n",
    "        data = response.json()\n",
    "        return data.get(\"items\", [])\n",
    "    else:\n",
    "        print(f\"Error {response.status_code} when collecting posts for the tag '{tag}'\")\n",
    "        return []\n",
    "    "
   ]
  },
  {
   "cell_type": "code",
   "execution_count": 178,
   "metadata": {},
   "outputs": [],
   "source": [
    "def cleaning(text):\n",
    "    set_stopwords = set(stopwords.words(\"english\"))\n",
    "\n",
    "    text = BeautifulSoup(text).get_text()\n",
    "    text = re.sub(\"[^a-zA-Z]\", \" \", text)\n",
    "    text = text.lower()\n",
    "    \n",
    "    doc = nlp(text)\n",
    "    meaningful_words = [w.lemma_ for w in doc if not str(w) in set_stopwords]   \n",
    "\n",
    "    return( \" \".join(meaningful_words)) \n"
   ]
  },
  {
   "cell_type": "code",
   "execution_count": 179,
   "metadata": {},
   "outputs": [],
   "source": [
    "def extract_dataset_month(month):\n",
    "    print(f\"Month: {month}\")\n",
    "\n",
    "    l_tags, l_text = [], []\n",
    "    for tag in TAGS:\n",
    "        posts = get_posts_by_tag_month(tag, month)\n",
    "        for post in posts:\n",
    "            l_tags.append(post[\"tags\"])\n",
    "\n",
    "            text = post[\"title\"] + post[\"body\"]\n",
    "            l_text.append(cleaning(text))\n",
    "    \n",
    "    res = pd.DataFrame({\"tags\": l_tags, \"text\": l_text})   \n",
    "    res[\"tags\"] = res[\"tags\"].apply(lambda x: list(set(x) & set(TAGS)))\n",
    "\n",
    "    return res    "
   ]
  },
  {
   "cell_type": "markdown",
   "metadata": {},
   "source": [
    "# Request StackOverflow API"
   ]
  },
  {
   "cell_type": "code",
   "execution_count": 180,
   "metadata": {},
   "outputs": [
    {
     "data": {
      "text/html": [
       "<div>\n",
       "<style scoped>\n",
       "    .dataframe tbody tr th:only-of-type {\n",
       "        vertical-align: middle;\n",
       "    }\n",
       "\n",
       "    .dataframe tbody tr th {\n",
       "        vertical-align: top;\n",
       "    }\n",
       "\n",
       "    .dataframe thead th {\n",
       "        text-align: right;\n",
       "    }\n",
       "</style>\n",
       "<table border=\"1\" class=\"dataframe\">\n",
       "  <thead>\n",
       "    <tr style=\"text-align: right;\">\n",
       "      <th></th>\n",
       "      <th>Unnamed: 0</th>\n",
       "      <th>tags</th>\n",
       "      <th>text</th>\n",
       "    </tr>\n",
       "  </thead>\n",
       "  <tbody>\n",
       "    <tr>\n",
       "      <th>0</th>\n",
       "      <td>0</td>\n",
       "      <td>['android']</td>\n",
       "      <td>searchview listview change item position   nee...</td>\n",
       "    </tr>\n",
       "    <tr>\n",
       "      <th>1</th>\n",
       "      <td>1</td>\n",
       "      <td>['android']</td>\n",
       "      <td>android google map marker correct face rotatio...</td>\n",
       "    </tr>\n",
       "    <tr>\n",
       "      <th>2</th>\n",
       "      <td>2</td>\n",
       "      <td>['android', 'java']</td>\n",
       "      <td>error inflate class emojipalettesview latinime...</td>\n",
       "    </tr>\n",
       "    <tr>\n",
       "      <th>3</th>\n",
       "      <td>3</td>\n",
       "      <td>['android']</td>\n",
       "      <td>install android sdk user silently window andro...</td>\n",
       "    </tr>\n",
       "    <tr>\n",
       "      <th>4</th>\n",
       "      <td>4</td>\n",
       "      <td>['android']</td>\n",
       "      <td>send string    int datum bluetooth arduinoi ne...</td>\n",
       "    </tr>\n",
       "  </tbody>\n",
       "</table>\n",
       "</div>"
      ],
      "text/plain": [
       "   Unnamed: 0                 tags  \\\n",
       "0           0          ['android']   \n",
       "1           1          ['android']   \n",
       "2           2  ['android', 'java']   \n",
       "3           3          ['android']   \n",
       "4           4          ['android']   \n",
       "\n",
       "                                                text  \n",
       "0  searchview listview change item position   nee...  \n",
       "1  android google map marker correct face rotatio...  \n",
       "2  error inflate class emojipalettesview latinime...  \n",
       "3  install android sdk user silently window andro...  \n",
       "4  send string    int datum bluetooth arduinoi ne...  "
      ]
     },
     "execution_count": 180,
     "metadata": {},
     "output_type": "execute_result"
    }
   ],
   "source": [
    "pd.read_csv(f\"data/dataset_{YEAR}-{9}.csv\").head()"
   ]
  },
  {
   "cell_type": "code",
   "execution_count": 181,
   "metadata": {},
   "outputs": [
    {
     "name": "stdout",
     "output_type": "stream",
     "text": [
      "Month: 8\n"
     ]
    }
   ],
   "source": [
    "SITE = StackAPI('stackoverflow')\n",
    "\n",
    "\n",
    "dataframes = {}\n",
    "for month in range(8,9):\n",
    "    dataframes[month] = extract_dataset_month(month)\n",
    "    dataframes[month].to_csv(f\"data/dataset_{YEAR}-{month}.csv\")"
   ]
  },
  {
   "cell_type": "markdown",
   "metadata": {},
   "source": [
    "# Prepare the datasets for the simulation"
   ]
  },
  {
   "cell_type": "code",
   "execution_count": 182,
   "metadata": {},
   "outputs": [],
   "source": [
    "dataframes = {}\n",
    "for month in range(1, 13):\n",
    "    if month != 8:\n",
    "        dataframes[month] = pd.read_csv(f\"data/dataset_{YEAR}-{month}.csv\")\n",
    "        dataframes[month][\"tags\"] = dataframes[month][\"tags\"].apply(lambda x: ast.literal_eval(x)[0])"
   ]
  },
  {
   "cell_type": "markdown",
   "metadata": {},
   "source": [
    "# Simulation"
   ]
  },
  {
   "cell_type": "code",
   "execution_count": 183,
   "metadata": {},
   "outputs": [],
   "source": [
    "l_f1_score = []\n",
    "\n",
    "for month in range(1, 13):\n",
    "    if month != 8:\n",
    "        df = dataframes[month]\n",
    "        X = vectorizer.transform(df[\"text\"]).toarray()\n",
    "        Y_pred = lda.predict(X)\n",
    "        Y = df[\"tags\"]\n",
    "        l_f1_score.append(f1_score(Y, Y_pred, average='weighted'))"
   ]
  },
  {
   "cell_type": "markdown",
   "metadata": {},
   "source": [
    "# Display results"
   ]
  },
  {
   "cell_type": "code",
   "execution_count": 184,
   "metadata": {},
   "outputs": [
    {
     "data": {
      "image/png": "[encoded data removed]",
      "text/plain": [
       "<Figure size 640x480 with 1 Axes>"
      ]
     },
     "metadata": {},
     "output_type": "display_data"
    }
   ],
   "source": [
    "months = [\"Jan\", \"Feb\", \"Mar\", \"Apr\", \"May\", \"Jun\", \"Jul\", \"Aug\", \"Sep\", \"Oct\", \"Nov\", \"Dec\"]\n",
    "\n",
    "plt.figure()\n",
    "\n",
    "plt.title(\"F1-Score drift through months\")\n",
    "plt.xlabel(\"Month\")\n",
    "plt.ylabel(\"F1-Score\")\n",
    "\n",
    "plt.plot([months[i-1] for i in range(1, 8)] + [months[i-1] for i in range(9,13)], l_f1_score)\n",
    "\n",
    "plt.show()"
   ]
  }
 ],
 "metadata": {
  "kernelspec": {
   "display_name": "env_OC_P5",
   "language": "python",
   "name": "python3"
  },
  "language_info": {
   "codemirror_mode": {
    "name": "ipython",
    "version": 3
   },
   "file_extension": ".py",
   "mimetype": "text/x-python",
   "name": "python",
   "nbconvert_exporter": "python",
   "pygments_lexer": "ipython3",
   "version": "3.10.14"
  }
 },
 "nbformat": 4,
 "nbformat_minor": 2
}
