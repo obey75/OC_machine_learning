{
 "cells": [
  {
   "cell_type": "markdown",
   "metadata": {},
   "source": [
    "# Imports"
   ]
  },
  {
   "cell_type": "code",
   "execution_count": 1,
   "metadata": {},
   "outputs": [
    {
     "name": "stdout",
     "output_type": "stream",
     "text": [
      "Requirement already satisfied: stackapi in /home/omar-oc/anaconda3/envs/env_OC_P5/lib/python3.10/site-packages (0.3.1)\n",
      "Requirement already satisfied: requests in /home/omar-oc/.local/lib/python3.10/site-packages (from stackapi) (2.32.3)\n",
      "Requirement already satisfied: six in /home/omar-oc/anaconda3/envs/env_OC_P5/lib/python3.10/site-packages (from stackapi) (1.17.0)\n",
      "Requirement already satisfied: charset-normalizer<4,>=2 in /home/omar-oc/.local/lib/python3.10/site-packages (from requests->stackapi) (3.4.1)\n",
      "Requirement already satisfied: idna<4,>=2.5 in /home/omar-oc/anaconda3/envs/env_OC_P5/lib/python3.10/site-packages (from requests->stackapi) (3.10)\n",
      "Requirement already satisfied: urllib3<3,>=1.21.1 in /home/omar-oc/anaconda3/envs/env_OC_P5/lib/python3.10/site-packages (from requests->stackapi) (2.3.0)\n",
      "Requirement already satisfied: certifi>=2017.4.17 in /home/omar-oc/anaconda3/envs/env_OC_P5/lib/python3.10/site-packages (from requests->stackapi) (2025.1.31)\n",
      "\u001b[33mWARNING: Error parsing dependencies of graphql-core: [Errno 2] Aucun fichier ou dossier de ce nom: '/home/omar-oc/anaconda3/envs/env_OC_P5/lib/python3.10/site-packages/graphql_core-3.2.5.dist-info/METADATA'\u001b[0m\u001b[33m\n",
      "\u001b[0m"
     ]
    }
   ],
   "source": [
    "!pip install stackapi\n"
   ]
  },
  {
   "cell_type": "code",
   "execution_count": 2,
   "metadata": {},
   "outputs": [],
   "source": [
    "from stackapi import StackAPI\n",
    "\n",
    "import datetime\n",
    "import time\n",
    "\n",
    "import pandas as pd\n"
   ]
  },
  {
   "cell_type": "markdown",
   "metadata": {},
   "source": [
    "# StackAPI"
   ]
  },
  {
   "cell_type": "markdown",
   "metadata": {},
   "source": [
    "First try : using StackAPI -> limited number of requests"
   ]
  },
  {
   "cell_type": "code",
   "execution_count": 3,
   "metadata": {},
   "outputs": [],
   "source": [
    "SITE = StackAPI('stackoverflow')"
   ]
  },
  {
   "cell_type": "code",
   "execution_count": 4,
   "metadata": {},
   "outputs": [],
   "source": [
    "date_str_min = \"Jan 1 2021\"\n",
    "date_obj_min = datetime.datetime.strptime(date_str_min, \"%b %d %Y\")\n",
    "timestamp_min = int(time.mktime(date_obj_min.timetuple()))\n",
    "\n",
    "date_str_max = \"Dec 31 2024\"\n",
    "date_obj_max = datetime.datetime.strptime(date_str_max, \"%b %d %Y\")\n",
    "timestamp_max = int(time.mktime(date_obj_max.timetuple()))\n",
    "\n",
    "questions = SITE.fetch(\n",
    "    'questions',\n",
    "    fromdate=timestamp_min,\n",
    "    todate=timestamp_max,\n",
    "    tagged='python',\n",
    "    sort='votes',\n",
    "    pagesize=50,\n",
    "    top=50)"
   ]
  },
  {
   "cell_type": "markdown",
   "metadata": {},
   "source": [
    "# StackExchangeAPI"
   ]
  },
  {
   "cell_type": "markdown",
   "metadata": {},
   "source": [
    "Downloading data from the StackExchange website"
   ]
  },
  {
   "cell_type": "code",
   "execution_count": 5,
   "metadata": {},
   "outputs": [],
   "source": [
    "query_results_df = pd.read_csv(\"QueryResults.csv\")"
   ]
  },
  {
   "cell_type": "code",
   "execution_count": 6,
   "metadata": {},
   "outputs": [
    {
     "data": {
      "text/html": [
       "<div>\n",
       "<style scoped>\n",
       "    .dataframe tbody tr th:only-of-type {\n",
       "        vertical-align: middle;\n",
       "    }\n",
       "\n",
       "    .dataframe tbody tr th {\n",
       "        vertical-align: top;\n",
       "    }\n",
       "\n",
       "    .dataframe thead th {\n",
       "        text-align: right;\n",
       "    }\n",
       "</style>\n",
       "<table border=\"1\" class=\"dataframe\">\n",
       "  <thead>\n",
       "    <tr style=\"text-align: right;\">\n",
       "      <th></th>\n",
       "      <th>Id</th>\n",
       "      <th>CreationDate</th>\n",
       "      <th>Body</th>\n",
       "      <th>Title</th>\n",
       "      <th>Tags</th>\n",
       "    </tr>\n",
       "  </thead>\n",
       "  <tbody>\n",
       "    <tr>\n",
       "      <th>0</th>\n",
       "      <td>39999988</td>\n",
       "      <td>2016-10-12 13:32:02</td>\n",
       "      <td>&lt;p&gt;I'm trying to use Java's Hibernate @Filter ...</td>\n",
       "      <td>Hibernate @Filter entity by @ManyToOne field</td>\n",
       "      <td>&lt;java&gt;&lt;hibernate&gt;&lt;filter&gt;&lt;field&gt;&lt;many-to-one&gt;</td>\n",
       "    </tr>\n",
       "    <tr>\n",
       "      <th>1</th>\n",
       "      <td>39999984</td>\n",
       "      <td>2016-10-12 13:31:59</td>\n",
       "      <td>&lt;p&gt;I have an image called graph.jpg in the dra...</td>\n",
       "      <td>How can you change the content of a drawable i...</td>\n",
       "      <td>&lt;java&gt;&lt;android&gt;&lt;image&gt;&lt;bitmap&gt;&lt;retrofit&gt;</td>\n",
       "    </tr>\n",
       "    <tr>\n",
       "      <th>2</th>\n",
       "      <td>39999927</td>\n",
       "      <td>2016-10-12 13:29:33</td>\n",
       "      <td>&lt;p&gt;Configure script fails when checking for C ...</td>\n",
       "      <td>C compiler not found when build openjdk</td>\n",
       "      <td>&lt;build&gt;&lt;compiler-errors&gt;&lt;configure&gt;&lt;java&gt;&lt;buil...</td>\n",
       "    </tr>\n",
       "    <tr>\n",
       "      <th>3</th>\n",
       "      <td>39999883</td>\n",
       "      <td>2016-10-12 13:28:08</td>\n",
       "      <td>&lt;p&gt;I have a data file which is a result of num...</td>\n",
       "      <td>plot 3D spherical parametric surface using non...</td>\n",
       "      <td>&lt;python&gt;&lt;plot&gt;&lt;3d&gt;&lt;surface&gt;&lt;non-uniform-distri...</td>\n",
       "    </tr>\n",
       "    <tr>\n",
       "      <th>4</th>\n",
       "      <td>39999882</td>\n",
       "      <td>2016-10-12 13:28:07</td>\n",
       "      <td>&lt;p&gt;It's possible to have something like this.&lt;...</td>\n",
       "      <td>NSManagedObject like Generic object</td>\n",
       "      <td>&lt;ios&gt;&lt;swift&gt;&lt;generics&gt;&lt;core-data&gt;&lt;swift3&gt;</td>\n",
       "    </tr>\n",
       "    <tr>\n",
       "      <th>...</th>\n",
       "      <td>...</td>\n",
       "      <td>...</td>\n",
       "      <td>...</td>\n",
       "      <td>...</td>\n",
       "      <td>...</td>\n",
       "    </tr>\n",
       "    <tr>\n",
       "      <th>49995</th>\n",
       "      <td>38552378</td>\n",
       "      <td>2016-07-24 13:07:44</td>\n",
       "      <td>&lt;p&gt;My machine is running win7 64bit. I install...</td>\n",
       "      <td>export is not recognize in cmd while Cygwin is...</td>\n",
       "      <td>&lt;windows&gt;&lt;batch-file&gt;&lt;cmd&gt;&lt;cygwin&gt;&lt;export&gt;</td>\n",
       "    </tr>\n",
       "    <tr>\n",
       "      <th>49996</th>\n",
       "      <td>38552368</td>\n",
       "      <td>2016-07-24 13:05:55</td>\n",
       "      <td>&lt;p&gt;I have a &lt;code&gt;UITableView&lt;/code&gt; containin...</td>\n",
       "      <td>How to save changed state of dynamic created U...</td>\n",
       "      <td>&lt;ios&gt;&lt;swift&gt;&lt;uitableview&gt;&lt;core-data&gt;&lt;uiswitch&gt;</td>\n",
       "    </tr>\n",
       "    <tr>\n",
       "      <th>49997</th>\n",
       "      <td>38552346</td>\n",
       "      <td>2016-07-24 13:03:20</td>\n",
       "      <td>&lt;p&gt;I am having an issue clicking on a specific...</td>\n",
       "      <td>Selenium via Java - click on checkbox differen...</td>\n",
       "      <td>&lt;javascript&gt;&lt;jquery&gt;&lt;html&gt;&lt;selenium&gt;&lt;checkbox&gt;</td>\n",
       "    </tr>\n",
       "    <tr>\n",
       "      <th>49998</th>\n",
       "      <td>38552226</td>\n",
       "      <td>2016-07-24 12:51:15</td>\n",
       "      <td>&lt;p&gt;I want to enable a static member for a clas...</td>\n",
       "      <td>Enabling a static member conditionally without...</td>\n",
       "      <td>&lt;c++&gt;&lt;class&gt;&lt;templates&gt;&lt;c++11&gt;&lt;conditional-sta...</td>\n",
       "    </tr>\n",
       "    <tr>\n",
       "      <th>49999</th>\n",
       "      <td>38552221</td>\n",
       "      <td>2016-07-24 12:50:43</td>\n",
       "      <td>&lt;p&gt;&lt;strong&gt;Programs and versions: Windows 10, ...</td>\n",
       "      <td>Undefined reference to cv::redirectError while...</td>\n",
       "      <td>&lt;windows&gt;&lt;opencv&gt;&lt;installation&gt;&lt;opencv3.0&gt;&lt;min...</td>\n",
       "    </tr>\n",
       "  </tbody>\n",
       "</table>\n",
       "<p>50000 rows × 5 columns</p>\n",
       "</div>"
      ],
      "text/plain": [
       "             Id         CreationDate  \\\n",
       "0      39999988  2016-10-12 13:32:02   \n",
       "1      39999984  2016-10-12 13:31:59   \n",
       "2      39999927  2016-10-12 13:29:33   \n",
       "3      39999883  2016-10-12 13:28:08   \n",
       "4      39999882  2016-10-12 13:28:07   \n",
       "...         ...                  ...   \n",
       "49995  38552378  2016-07-24 13:07:44   \n",
       "49996  38552368  2016-07-24 13:05:55   \n",
       "49997  38552346  2016-07-24 13:03:20   \n",
       "49998  38552226  2016-07-24 12:51:15   \n",
       "49999  38552221  2016-07-24 12:50:43   \n",
       "\n",
       "                                                    Body  \\\n",
       "0      <p>I'm trying to use Java's Hibernate @Filter ...   \n",
       "1      <p>I have an image called graph.jpg in the dra...   \n",
       "2      <p>Configure script fails when checking for C ...   \n",
       "3      <p>I have a data file which is a result of num...   \n",
       "4      <p>It's possible to have something like this.<...   \n",
       "...                                                  ...   \n",
       "49995  <p>My machine is running win7 64bit. I install...   \n",
       "49996  <p>I have a <code>UITableView</code> containin...   \n",
       "49997  <p>I am having an issue clicking on a specific...   \n",
       "49998  <p>I want to enable a static member for a clas...   \n",
       "49999  <p><strong>Programs and versions: Windows 10, ...   \n",
       "\n",
       "                                                   Title  \\\n",
       "0           Hibernate @Filter entity by @ManyToOne field   \n",
       "1      How can you change the content of a drawable i...   \n",
       "2                C compiler not found when build openjdk   \n",
       "3      plot 3D spherical parametric surface using non...   \n",
       "4                    NSManagedObject like Generic object   \n",
       "...                                                  ...   \n",
       "49995  export is not recognize in cmd while Cygwin is...   \n",
       "49996  How to save changed state of dynamic created U...   \n",
       "49997  Selenium via Java - click on checkbox differen...   \n",
       "49998  Enabling a static member conditionally without...   \n",
       "49999  Undefined reference to cv::redirectError while...   \n",
       "\n",
       "                                                    Tags  \n",
       "0          <java><hibernate><filter><field><many-to-one>  \n",
       "1               <java><android><image><bitmap><retrofit>  \n",
       "2      <build><compiler-errors><configure><java><buil...  \n",
       "3      <python><plot><3d><surface><non-uniform-distri...  \n",
       "4              <ios><swift><generics><core-data><swift3>  \n",
       "...                                                  ...  \n",
       "49995         <windows><batch-file><cmd><cygwin><export>  \n",
       "49996     <ios><swift><uitableview><core-data><uiswitch>  \n",
       "49997     <javascript><jquery><html><selenium><checkbox>  \n",
       "49998  <c++><class><templates><c++11><conditional-sta...  \n",
       "49999  <windows><opencv><installation><opencv3.0><min...  \n",
       "\n",
       "[50000 rows x 5 columns]"
      ]
     },
     "execution_count": 6,
     "metadata": {},
     "output_type": "execute_result"
    }
   ],
   "source": [
    "query_results_df"
   ]
  }
 ],
 "metadata": {
  "kernelspec": {
   "display_name": "env_OC_P5",
   "language": "python",
   "name": "python3"
  },
  "language_info": {
   "codemirror_mode": {
    "name": "ipython",
    "version": 3
   },
   "file_extension": ".py",
   "mimetype": "text/x-python",
   "name": "python",
   "nbconvert_exporter": "python",
   "pygments_lexer": "ipython3",
   "version": "3.10.14"
  }
 },
 "nbformat": 4,
 "nbformat_minor": 2
}
